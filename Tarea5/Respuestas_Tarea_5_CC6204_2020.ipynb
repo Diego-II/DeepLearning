{
  "nbformat": 4,
  "nbformat_minor": 0,
  "metadata": {
    "colab": {
      "name": "Respuestas_Tarea_5_CC6204_2020",
      "provenance": [],
      "collapsed_sections": []
    },
    "kernelspec": {
      "name": "python3",
      "display_name": "Python 3"
    },
    "accelerator": "GPU"
  },
  "cells": [
    {
      "cell_type": "markdown",
      "metadata": {
        "id": "4zhjpqvcdo5o"
      },
      "source": [
        "# Tarea 5: Redes Recurrentes <br/> CC6204 Deep Learning, Universidad de Chile <br/> Hoja de Respuestas\n",
        "\n",
        "## Nombre: \n",
        "Fecha de entrega: 30 de diciembre de 2020"
      ]
    },
    {
      "cell_type": "code",
      "metadata": {
        "id": "64BkmYga3UN_"
      },
      "source": [
        "import os\n",
        "\n",
        "import torch\n",
        "import torchvision\n",
        "from torch import nn\n",
        "from torch import tensor\n",
        "from torch.nn import Embedding, RNN, Linear, CrossEntropyLoss\n",
        "from torch.nn.utils.rnn import pad_sequence\n",
        "from collections import Counter\n",
        "from torchvision import transforms\n",
        "from torch.utils.data import DataLoader\n",
        "from torchtext.data import get_tokenizer\n",
        "from tqdm import tqdm\n",
        "\n",
        "# Aqui descargamos algunas funciones utiles para resolver la tarea\n",
        "if not os.path.exists('utils.py'):\n",
        "    !wget https://raw.githubusercontent.com/dccuchile/CC6204/master/2020/tareas/tarea5/utils.py -q --show-progress"
      ],
      "execution_count": 16,
      "outputs": []
    },
    {
      "cell_type": "code",
      "metadata": {
        "id": "KS9LeqZRJ5zn"
      },
      "source": [
        "from utils import extract_text_from_set, extract_text_from_set, tokenize_text \n",
        "from utils import encode_sentences, pad_sequence_with_lengths, pad_sequence_with_images\n",
        "from utils import TextDataset, CaptioningDataset"
      ],
      "execution_count": 17,
      "outputs": []
    },
    {
      "cell_type": "markdown",
      "metadata": {
        "id": "HNoC8iTiKtg0"
      },
      "source": [
        "# Parte 1: Generación de texto"
      ]
    },
    {
      "cell_type": "markdown",
      "metadata": {
        "id": "gnPZTm8HMaNn"
      },
      "source": [
        "### Datos"
      ]
    },
    {
      "cell_type": "code",
      "metadata": {
        "id": "VTiSVBGoK0Xo",
        "colab": {
          "base_uri": "https://localhost:8080/"
        },
        "outputId": "62cdd56a-1126-4cee-f6c0-a1d85fcaf540"
      },
      "source": [
        "##############################################################################\n",
        "# Todo este código sirve para descargar, preprocesar y dejar los datos\n",
        "# listos para usar después. Después de ejecutar las dos celdas siguientes\n",
        "# tendrás los datos en train_flickr_tripletset y similar para val y test\n",
        "##############################################################################\n",
        "\n",
        "folder_path = './data/flickr8k'\n",
        "if not os.path.exists(f'{folder_path}/images'):\n",
        "    print('*** Descargando y extrayendo Flickr8k, siéntese y relájese 4 mins...')\n",
        "    print('****** Descargando las imágenes...')\n",
        "    !wget https://s06.imfd.cl/04/CC6204/tareas/tarea4/Flickr8k_Dataset.zip -P $folder_path/images -q --show-progress \n",
        "    print('********* Extrayendo las imágenes...\\n  Si te sale mensaje de colab, dale Ignorar\\n')\n",
        "    !unzip -q $folder_path/images/Flickr8k_Dataset.zip -d $folder_path/images\n",
        "    print('*** Descargando anotaciones de las imágenes...')\n",
        "    !wget http://hockenmaier.cs.illinois.edu/8k-pictures.html -P $folder_path/annotations -q --show-progress\n",
        "\n",
        "print('Inicializando pytorch Flickr8k dataset')\n",
        "full_flickr_set = torchvision.datasets.Flickr8k(root=f'{folder_path}/images/Flicker8k_Dataset', ann_file = f'{folder_path}/annotations/8k-pictures.html')\n",
        "\n",
        "print('Creando train, val y test splits...')\n",
        "train_flickr_set, val_flickr_set, test_flickr_set = [], [], []\n",
        "for i, item in enumerate(full_flickr_set):\n",
        "  if i<6000:\n",
        "    train_flickr_set.append(item)\n",
        "  elif i<7000:\n",
        "    val_flickr_set.append(item)\n",
        "  else:\n",
        "    test_flickr_set.append(item)\n",
        "\n",
        "print('Listo!')"
      ],
      "execution_count": 18,
      "outputs": [
        {
          "output_type": "stream",
          "text": [
            "Inicializando pytorch Flickr8k dataset\n",
            "Creando train, val y test splits...\n",
            "Listo!\n"
          ],
          "name": "stdout"
        }
      ]
    },
    {
      "cell_type": "markdown",
      "metadata": {
        "id": "mDKp92H8OnZB"
      },
      "source": [
        "#### Extrae los textos"
      ]
    },
    {
      "cell_type": "code",
      "metadata": {
        "id": "b2q2_dNcMda2",
        "colab": {
          "base_uri": "https://localhost:8080/"
        },
        "outputId": "b6f277c9-963d-478e-eeeb-e75414959e0e"
      },
      "source": [
        "train_text = extract_text_from_set(train_flickr_set)\n",
        "val_text = extract_text_from_set(val_flickr_set)\n",
        "test_text = extract_text_from_set(test_flickr_set)"
      ],
      "execution_count": 19,
      "outputs": [
        {
          "output_type": "stream",
          "text": [
            "100%|██████████| 6000/6000 [00:00<00:00, 622546.61it/s]\n",
            "100%|██████████| 1000/1000 [00:00<00:00, 462947.46it/s]\n",
            "100%|██████████| 663/663 [00:00<00:00, 387031.81it/s]\n"
          ],
          "name": "stderr"
        }
      ]
    },
    {
      "cell_type": "markdown",
      "metadata": {
        "id": "l5HI9-O0OqIT"
      },
      "source": [
        "#### Genera los tokens"
      ]
    },
    {
      "cell_type": "code",
      "metadata": {
        "id": "cFt8moUHNtII"
      },
      "source": [
        "tokenizer = get_tokenizer('spacy')\n",
        "counter = Counter()  # para llevar la cuenta de los tokens y su ocurrencia\n",
        "\n",
        "train_tokens, counter = tokenize_text(train_text, tokenizer, counter)\n",
        "test_tokens, counter = tokenize_text(test_text, tokenizer, counter)\n",
        "val_tokens, counter = tokenize_text(val_text, tokenizer, counter)"
      ],
      "execution_count": 20,
      "outputs": []
    },
    {
      "cell_type": "markdown",
      "metadata": {
        "id": "7hatUPnGOwdi"
      },
      "source": [
        "#### Define el vocabulario y agrega `<pad>` y `<sos>`"
      ]
    },
    {
      "cell_type": "code",
      "metadata": {
        "id": "UTJ-7AXmOSOw"
      },
      "source": [
        "vocab = list(counter.keys())\n",
        "vocab.append('<pad>')\n",
        "vocab.append('<sos>')\n",
        "word2idx = {word: i for i, word in enumerate(vocab)}\n",
        "pad_idx = word2idx['<pad>']"
      ],
      "execution_count": 21,
      "outputs": []
    },
    {
      "cell_type": "markdown",
      "metadata": {
        "id": "WikFbU1LPA_G"
      },
      "source": [
        "#### Convierte oraciones a ids y genera los dataset de entrenamiento"
      ]
    },
    {
      "cell_type": "code",
      "metadata": {
        "id": "zDcBWuesOhrJ"
      },
      "source": [
        "train_sentences = encode_sentences(train_tokens, vocab, word2idx)\n",
        "test_sentences = encode_sentences(test_tokens, vocab, word2idx)\n",
        "val_sentences = encode_sentences(val_tokens, vocab, word2idx)\n",
        "\n",
        "train_dataset = TextDataset(train_sentences)\n",
        "test_dataset = TextDataset(test_sentences)\n",
        "val_dataset = TextDataset(val_sentences)"
      ],
      "execution_count": 22,
      "outputs": []
    },
    {
      "cell_type": "markdown",
      "metadata": {
        "id": "wSvpUdxURgLR"
      },
      "source": [
        "Con todo lo anterior, además de tener los dataset para entrenamiento, podemos también obtener identificadores correspondientes a textos que nosotros decidamos, haciendo algo como lo siguiente:"
      ]
    },
    {
      "cell_type": "code",
      "metadata": {
        "id": "OCml7LsLPpNl",
        "colab": {
          "base_uri": "https://localhost:8080/"
        },
        "outputId": "b540d213-3501-4085-f1db-d5bec1370793"
      },
      "source": [
        "s1 = 'A woman holding a cup of tea.'\n",
        "s2 = 'A man with a dog.'\n",
        "\n",
        "S = [s1,s2]\n",
        "tokens, _ = tokenize_text(S, tokenizer)\n",
        "D = encode_sentences(tokens, vocab, word2idx)\n",
        "\n",
        "print('tokens:', tokens)\n",
        "print('ids:', D)"
      ],
      "execution_count": 23,
      "outputs": [
        {
          "output_type": "stream",
          "text": [
            "tokens: [['<sos>', 'a', 'woman', 'holding', 'a', 'cup', 'of', 'tea', '.'], ['<sos>', 'a', 'man', 'with', 'a', 'dog', '.']]\n",
            "ids: [[8460, 0, 238, 94, 0, 1570, 9, 1022, 14], [8460, 0, 78, 36, 0, 27, 14]]\n"
          ],
          "name": "stdout"
        }
      ]
    },
    {
      "cell_type": "markdown",
      "metadata": {
        "id": "D8oMGt5CpSNQ"
      },
      "source": [
        "#### Creamos los data loaders (puedes cambiar el tamaño del batch si lo deseas)\n",
        "\n"
      ]
    },
    {
      "cell_type": "code",
      "metadata": {
        "id": "_LS1ADBtQscp"
      },
      "source": [
        "batch_size = 64\n",
        "\n",
        "train_dataloader = DataLoader(\n",
        "    train_dataset, batch_size=batch_size, shuffle=True, \n",
        "    collate_fn=lambda data_list: pad_sequence_with_lengths(data_list, pad_idx))\n",
        "test_dataloader = DataLoader(\n",
        "    test_dataset, batch_size=batch_size, shuffle=False, \n",
        "    collate_fn=lambda data_list: pad_sequence_with_lengths(data_list, pad_idx))\n",
        "val_dataloader = DataLoader(\n",
        "    val_dataset, batch_size=batch_size, shuffle=False, \n",
        "    collate_fn=lambda data_list: pad_sequence_with_lengths(data_list, pad_idx))"
      ],
      "execution_count": 24,
      "outputs": []
    },
    {
      "cell_type": "markdown",
      "metadata": {
        "id": "mipSa7R1jAkd"
      },
      "source": [
        "**IMPORTANTE**: Nuestros datasets y dataloaders consideran también los largos de las secuencias. El siguiente código obtiene el primer elemento del dataset y el primer elemento del dataloader de prueba. Nota que lo que entregan en ambos casos es un par: la primera componente del par tiene los datos (los índices) mientras que la segunda componente tiene información de los largos de las secuencias."
      ]
    },
    {
      "cell_type": "code",
      "metadata": {
        "id": "FC-g5Ceyichj",
        "colab": {
          "base_uri": "https://localhost:8080/"
        },
        "outputId": "7c2282bc-5e07-4237-d8c7-2d831dad1835"
      },
      "source": [
        "d, length = test_dataset[0]\n",
        "print('len(d):', len(d))\n",
        "print('length:', length)"
      ],
      "execution_count": 25,
      "outputs": [
        {
          "output_type": "stream",
          "text": [
            "len(d): 13\n",
            "length: 13\n"
          ],
          "name": "stdout"
        }
      ]
    },
    {
      "cell_type": "code",
      "metadata": {
        "id": "e31bJzWwQsah",
        "colab": {
          "base_uri": "https://localhost:8080/"
        },
        "outputId": "11dc6d23-81a2-47ea-c769-4c2bad99eada"
      },
      "source": [
        "# Obtiene un paquete desde el dataloader\n",
        "for data in test_dataloader:\n",
        "  D, Lengths = data\n",
        "  break\n",
        "\n",
        "print(D.size())\n",
        "print(Lengths.size())\n",
        "\n",
        "# La primera dimensión de D corresponde al largo\n",
        "# máximo de las secuencias en el batch\n",
        "assert D.size()[0] == torch.max(Lengths)\n",
        "\n",
        "# La segunda dimensión de D corresponde al tamaño del\n",
        "# batch, al igual que la dimensión de Lengths\n",
        "assert D.size()[1] == batch_size \n",
        "assert Lengths.size()[0] == batch_size"
      ],
      "execution_count": 26,
      "outputs": [
        {
          "output_type": "stream",
          "text": [
            "torch.Size([25, 64])\n",
            "torch.Size([64])\n"
          ],
          "name": "stdout"
        }
      ]
    },
    {
      "cell_type": "markdown",
      "metadata": {
        "id": "mFRqoHLxrzYR"
      },
      "source": [
        "## 1a) Red recurrente"
      ]
    },
    {
      "cell_type": "code",
      "metadata": {
        "id": "nZswYBYer0kz"
      },
      "source": [
        "# Acá empieza tu código\n",
        "\n",
        "class RedRecurrente(torch.nn.Module):\n",
        "  def __init__(self, core = 'rnn',\n",
        "               vocab_size=10000, \n",
        "               emb_dim=100, \n",
        "               rec_dim=30, \n",
        "               rec_layers=3, \n",
        "               pad_idx=8459, \n",
        "               drop=.5, \n",
        "               batch_size=64): # Piensa en todo lo que necesitas para incializar.\n",
        "    '''\n",
        "    Args: \n",
        "    core: 'rnn', 'gru', 'lstm'\n",
        "    '''\n",
        "    super(RedRecurrente, self).__init__()\n",
        "    self.core = core\n",
        "    self.embedding = nn.Embedding(vocab_size, emb_dim, padding_idx=pad_idx)\n",
        "    self.rnn = self.get_recurrente(emb_dim, rec_dim, rec_layers)\n",
        "    self.fc1 = nn.Linear(rec_dim, int(vocab_size/2))\n",
        "    self.drop1 = nn.Dropout(drop)\n",
        "    self.fc2 = nn.Linear(int(vocab_size/2), vocab_size)\n",
        "\n",
        "\n",
        "\n",
        "\n",
        "  def get_recurrente(self, emb_dim, rec_dim, rec_layers):\n",
        "    if self.core == 'rnn':\n",
        "      return nn.RNN(emb_dim, rec_dim, rec_layers)\n",
        "    elif self.core == 'gru':\n",
        "      return nn.GRU(emb_dim, rec_dim, rec_layers)\n",
        "    elif self.core == 'lstm':\n",
        "      return nn.LSTM(emb_dim, rec_dim, rec_layers)\n",
        "    else:\n",
        "      return nn.RNN(emb_dim, rec_dim, rec_layers)\n",
        "\n",
        "  def forward(self, x, h_0=None):\n",
        "    # Acá debes programar la pasada hacia adelante.\n",
        "    # El vector h_0 deberías simplemente pasarlo directo\n",
        "    b_size = x.size()[1]\n",
        "    x = self.embedding(x)\n",
        "    x, h = self.rnn(x)\n",
        "    logits = self.fc2(self.drop1(self.fc1(x)))\n",
        "    # a tu red recurrente (RNN, o GRU, o LSTM) y será necesario\n",
        "    # para trabajar en la sección (1c) y en la parte 2. \n",
        "    # También puedes usar dropout, batch normalization o lo que necesites.\n",
        "    return logits"
      ],
      "execution_count": 31,
      "outputs": []
    },
    {
      "cell_type": "markdown",
      "metadata": {
        "id": "hTKju5aPsA6H"
      },
      "source": [
        "## 1b) Entrenamiento"
      ]
    },
    {
      "cell_type": "code",
      "metadata": {
        "id": "d0YB5e-NLQZC",
        "colab": {
          "base_uri": "https://localhost:8080/"
        },
        "outputId": "30dfff59-de2c-4034-8ac9-1c04f279b68b"
      },
      "source": [
        "from tqdm import tqdm\n",
        "from torch import optim\n",
        "import sys\n",
        "# indice de padding y tamaño de vocabulario de ejemplo\n",
        "pad_idx = 8459\n",
        "voc_size = 10000\n",
        "device = 'cuda'\n",
        "epochs = 10\n",
        "\n",
        "net = RedRecurrente(core='lstm',\n",
        "                    vocab_size=voc_size,\n",
        "                    emb_dim=100,\n",
        "                    rec_dim=120,\n",
        "                    rec_layers=3,\n",
        "                    pad_idx=pad_idx)\n",
        "\n",
        "\n",
        "# función de error considerando padding y promedio (mean)\n",
        "loss_fn = CrossEntropyLoss(ignore_index=pad_idx, reduction='mean')\n",
        "optimizer = optim.Adam(net.parameters()) \n",
        "\n",
        "train_loss, val_loss = [], []\n",
        "\n",
        "net.to(device)\n",
        "for epoch in range(epochs):\n",
        "  net.train()\n",
        "  temp_loss = 0\n",
        "  \n",
        "  for i, data in enumerate(train_dataloader):\n",
        "    X, length = data\n",
        "    X, y = X[:-1, :].to(device), X[1:,:].to(device)\n",
        "\n",
        "    optimizer.zero_grad()\n",
        "    logits = net(X).view(-1, voc_size)\n",
        "    loss = loss_fn(logits, y.view(-1))\n",
        "    loss.backward()\n",
        "    optimizer.step()\n",
        "\n",
        "    items = (i+1) * batch_size\n",
        "    temp_loss += loss.item()\n",
        "    sys.stdout.write(f'''\\rEpoch {epoch+1}: ({items}/{len(train_dataloader)*batch_size}), Train_loss = {temp_loss/(i+1):02.5f}''')\n",
        "\n",
        "  train_loss.append(temp_loss/len(train_dataloader))\n",
        "  sys.stdout.write(f'''\\nTrain Epoch Loss = {temp_loss/len(train_dataloader)}''')\n",
        "\n",
        "  with torch.no_grad():\n",
        "    print(f'\\nValidando epoch {epoch+1}')\n",
        "    for i, data in enumerate(val_dataloader):\n",
        "      X, y = data\n",
        "      X, y = X[:-1, :].to(device), X[1:,:].to(device)\n",
        "      logits = net(X).view(-1, voc_size)\n",
        "      loss = loss_fn(logits, y.view(-1))\n",
        "\n",
        "      sys.stdout.write(f'''\\rValidando ({(i+1)*batch_size}/{len(val_dataloader)*batch_size}), Val loss = {loss}''')\n",
        "    val_loss.append(loss)\n",
        "    print('\\n')\n",
        "    "
      ],
      "execution_count": 54,
      "outputs": [
        {
          "output_type": "stream",
          "text": [
            "Epoch 1: (30016/30016), Train_loss = 4.39257\n",
            "Train Epoch Loss = 4.392572347543387\n",
            "Validando epoch 1\n",
            "Validando (5056/5056), Val loss = 5.820651531219482\n",
            "\n",
            "Epoch 2: (30016/30016), Train_loss = 3.57468\n",
            "Train Epoch Loss = 3.574680325827365\n",
            "Validando epoch 2\n",
            "Validando (5056/5056), Val loss = 5.629904270172119\n",
            "\n",
            "Epoch 3: (30016/30016), Train_loss = 3.32718\n",
            "Train Epoch Loss = 3.327182056553074\n",
            "Validando epoch 3\n",
            "Validando (5056/5056), Val loss = 5.67933988571167\n",
            "\n",
            "Epoch 4: (30016/30016), Train_loss = 3.16546\n",
            "Train Epoch Loss = 3.16545699603522\n",
            "Validando epoch 4\n",
            "Validando (5056/5056), Val loss = 5.6281914710998535\n",
            "\n",
            "Epoch 5: (30016/30016), Train_loss = 3.03457\n",
            "Train Epoch Loss = 3.0345716435772014\n",
            "Validando epoch 5\n",
            "Validando (5056/5056), Val loss = 5.5612592697143555\n",
            "\n",
            "Epoch 6: (30016/30016), Train_loss = 2.92246\n",
            "Train Epoch Loss = 2.9224585226095563\n",
            "Validando epoch 6\n",
            "Validando (5056/5056), Val loss = 5.669826507568359\n",
            "\n",
            "Epoch 7: (30016/30016), Train_loss = 2.82326\n",
            "Train Epoch Loss = 2.823264302983721\n",
            "Validando epoch 7\n",
            "Validando (5056/5056), Val loss = 5.863853454589844\n",
            "\n",
            "Epoch 8: (30016/30016), Train_loss = 2.72963\n",
            "Train Epoch Loss = 2.729626059277988\n",
            "Validando epoch 8\n",
            "Validando (5056/5056), Val loss = 5.932770729064941\n",
            "\n",
            "Epoch 9: (30016/30016), Train_loss = 2.64945\n",
            "Train Epoch Loss = 2.649450337200531\n",
            "Validando epoch 9\n",
            "Validando (5056/5056), Val loss = 6.157528400421143\n",
            "\n",
            "Epoch 10: (30016/30016), Train_loss = 2.57157\n",
            "Train Epoch Loss = 2.5715714024582397\n",
            "Validando epoch 10\n",
            "Validando (5056/5056), Val loss = 6.198164939880371\n",
            "\n"
          ],
          "name": "stdout"
        }
      ]
    },
    {
      "cell_type": "code",
      "metadata": {
        "colab": {
          "base_uri": "https://localhost:8080/"
        },
        "id": "jUjoDB5ScV04",
        "outputId": "60e122fe-762c-4732-8528-21493b017339"
      },
      "source": [
        "train_loss"
      ],
      "execution_count": 57,
      "outputs": [
        {
          "output_type": "execute_result",
          "data": {
            "text/plain": [
              "[4.392572347543387,\n",
              " 3.574680325827365,\n",
              " 3.327182056553074,\n",
              " 3.16545699603522,\n",
              " 3.0345716435772014,\n",
              " 2.9224585226095563,\n",
              " 2.823264302983721,\n",
              " 2.729626059277988,\n",
              " 2.649450337200531,\n",
              " 2.5715714024582397]"
            ]
          },
          "metadata": {
            "tags": []
          },
          "execution_count": 57
        }
      ]
    },
    {
      "cell_type": "code",
      "metadata": {
        "colab": {
          "base_uri": "https://localhost:8080/",
          "height": 312
        },
        "id": "gEfKFvLfZG7s",
        "outputId": "778b8984-8787-45df-b696-090e020f8aea"
      },
      "source": [
        "import matplotlib.pyplot as plt\r\n",
        "plt.plot(range(1, epochs + 1), train_loss, '--o', label='Train Loss')\r\n",
        "plt.plot(range(1, epochs + 1), val_loss, '--+', label='Validation Loss')\r\n",
        "plt.xlabel('Epochs')\r\n",
        "plt.ylabel('Loss')\r\n",
        "plt.legend()\r\n",
        "plt.title('Perdidas en entrenamiento')"
      ],
      "execution_count": 61,
      "outputs": [
        {
          "output_type": "execute_result",
          "data": {
            "text/plain": [
              "Text(0.5, 1.0, 'Perdidas en entrenamiento')"
            ]
          },
          "metadata": {
            "tags": []
          },
          "execution_count": 61
        },
        {
          "output_type": "display_data",
          "data": {
            "image/png": "[encoded data removed]",
            "text/plain": [
              "<Figure size 432x288 with 1 Axes>"
            ]
          },
          "metadata": {
            "tags": [],
            "needs_background": "light"
          }
        }
      ]
    },
    {
      "cell_type": "markdown",
      "metadata": {
        "id": "Z3fdjct4b8Pt"
      },
      "source": [
        "## 1c) Generación de texto"
      ]
    },
    {
      "cell_type": "code",
      "metadata": {
        "id": "Mq_6_M_PcFQ0"
      },
      "source": [
        "# Acá tu código para generar texto usando el modelo\n",
        "from torch.distributions.categorical import Categorical\n",
        "import random\n",
        "import torch.nn.functional as F\n",
        "\n",
        "\n",
        "def generate_sentence(model, \n",
        "                      init_sentence= None, \n",
        "                      max_len=None):\n",
        "  # Usa acá lo que necesites para crear una secuencia de\n",
        "  # salida. Muy posiblemente tendrás que usar un tokenizador\n",
        "  # y el diccionario para pasar de índices a tokens (palabras).\n",
        "  # model.predict()\n",
        "  if max_len is None:\n",
        "    max_len = random.randint(5,15)\n",
        "  if init_sentence is None:\n",
        "    init_sentence = test_text[random.randint(0, len(test_text))]\n",
        "\n",
        "  sentence = init_sentence\n",
        "  for k in range(max_len):\n",
        "    init_tokens, _ = tokenize_text([sentence], tokenizer)\n",
        "    Data = torch.tensor(encode_sentences(init_tokens, vocab, word2idx)).cuda()\n",
        "    logits_data = model.forward(Data.T).view(-1, voc_size)\n",
        "    logits_index_max = torch.max(F.softmax(logits_data, dim=1), dim=1)[1]\n",
        "    \n",
        "    next_word = vocab[logits_index_max[-2]]\n",
        "    \n",
        "    if next_word == '.':\n",
        "      sentence += next_word\n",
        "      break\n",
        "    else:\n",
        "      sentence += ' ' + next_word \n",
        "  return sentence"
      ],
      "execution_count": 97,
      "outputs": []
    },
    {
      "cell_type": "markdown",
      "metadata": {
        "id": "G85XmCnJdPoY"
      },
      "source": [
        "### Para las pruebas, se utilizaran oraciones tanto del `test set` como custom:"
      ]
    },
    {
      "cell_type": "code",
      "metadata": {
        "id": "WUeQ6NAAd4oX"
      },
      "source": [
        "model = net"
      ],
      "execution_count": 95,
      "outputs": []
    },
    {
      "cell_type": "code",
      "metadata": {
        "colab": {
          "base_uri": "https://localhost:8080/"
        },
        "id": "AffoPmIDfQZI",
        "outputId": "fc0590fa-34ea-410a-9846-e177a4296162"
      },
      "source": [
        "for i in range(4):\r\n",
        "  oracion_inicial = test_text[random.randint(0, len(test_text))]\r\n",
        "  largo_inicial = random.randint(1, len(oracion_inicial)-1)\r\n",
        "  print(f'Oracion generada: \\n {generate_sentence(model, oracion_inicial)}')"
      ],
      "execution_count": 96,
      "outputs": [
        {
          "output_type": "stream",
          "text": [
            "Oracion generada: \n",
            " The young girl is standing on a skateboard..\n",
            "Oracion generada: \n",
            " A woman grabbing her feet while jumping in front of trees..\n",
            "Oracion generada: \n",
            " A possible woman dressed as a belly dancer holds out a cloth with beads on it..\n",
            "Oracion generada: \n",
            " Two girls play outside with chalk..\n"
          ],
          "name": "stdout"
        }
      ]
    },
    {
      "cell_type": "code",
      "metadata": {
        "colab": {
          "base_uri": "https://localhost:8080/"
        },
        "id": "UxGuruxRbacp",
        "outputId": "f1ad563e-c7ca-48b1-c776-00e4f19106b5"
      },
      "source": [
        "print(generate_sentence(model))"
      ],
      "execution_count": 91,
      "outputs": [
        {
          "output_type": "stream",
          "text": [
            "A black puppy is playing with an orange on a carpeted floor..\n"
          ],
          "name": "stdout"
        }
      ]
    },
    {
      "cell_type": "markdown",
      "metadata": {
        "id": "bxr7W07Rb_Zx"
      },
      "source": [
        "## 1d) Opcional: Beam Search"
      ]
    },
    {
      "cell_type": "code",
      "metadata": {
        "id": "ELk5bZgycCFz"
      },
      "source": [
        "# Acá tu código para generar texto usando beam search\n",
        "\n",
        "def beam_search_generation(model, init_sentence, K, ...):\n",
        "  # El K representa al ancho del beam para la búsqueda.\n",
        "  return sentence"
      ],
      "execution_count": null,
      "outputs": []
    },
    {
      "cell_type": "markdown",
      "metadata": {
        "id": "6Mw8PKh-uF7P"
      },
      "source": [
        "# Parte 2 (Opcional): Subtitulado de imágenes"
      ]
    },
    {
      "cell_type": "markdown",
      "metadata": {
        "id": "h-jqTnsbSjpZ"
      },
      "source": [
        "#### Generamos transformación para el dataset\n",
        "\n",
        "Algo importante es que estamos usando la normalización estándar para los modelos pre-entrenados que provee pytoch. Si vas a usar algún otro modelo (o incluso uno generado por ti), podrías necesitar otra normalización. También nota que estamos usando el tamaño estándar de `224x224` para las imágenes que reciben los modelos pre-entrenados de pytorch. Si no quieres usar esos modelos o si quieres hacer el entrenamiento más rápido, puedes cambiarle la resolución a las imágenes."
      ]
    },
    {
      "cell_type": "code",
      "metadata": {
        "id": "97n_3naFlAO9"
      },
      "source": [
        "transform = transforms.Compose(\n",
        "            [\n",
        "              transforms.ToTensor(), \n",
        "              transforms.Resize((224, 224)),\n",
        "              transforms.Normalize(\n",
        "                  mean=[0.485, 0.456, 0.406], \n",
        "                  std=[0.229, 0.224, 0.225])\n",
        "            ])"
      ],
      "execution_count": null,
      "outputs": []
    },
    {
      "cell_type": "markdown",
      "metadata": {
        "id": "J_HkFYB-sQ0t"
      },
      "source": [
        "#### Creamos los data loaders (puedes cambiar el tamaño del batch si lo deseas)"
      ]
    },
    {
      "cell_type": "code",
      "metadata": {
        "id": "g1djUvkSpmlT"
      },
      "source": [
        "batch_size = 16\n",
        "\n",
        "train_dataloader = DataLoader(\n",
        "    CaptioningDataset(\n",
        "        train_flickr_set, transform, tokenizer, word2idx, \"<sos>\", \".\"),\n",
        "    batch_size=batch_size,\n",
        "    shuffle=True,\n",
        "    collate_fn=lambda x: pad_sequence_with_images(x, pad_idx)\n",
        "    )\n",
        "\n",
        "test_dataloader = DataLoader(\n",
        "    CaptioningDataset(\n",
        "        test_flickr_set, transform, tokenizer, word2idx, \"<sos>\", \".\"),\n",
        "    batch_size=batch_size,\n",
        "    shuffle=False,\n",
        "    collate_fn=lambda x: pad_sequence_with_images(x, pad_idx)\n",
        "    )\n",
        "\n",
        "val_dataloader = DataLoader(\n",
        "    CaptioningDataset(\n",
        "        val_flickr_set, transform, tokenizer, word2idx, \"<sos>\", \".\"),\n",
        "    batch_size=batch_size,\n",
        "    shuffle=False,\n",
        "    collate_fn=lambda x: pad_sequence_with_images(x, pad_idx)\n",
        "    )"
      ],
      "execution_count": null,
      "outputs": []
    },
    {
      "cell_type": "markdown",
      "metadata": {
        "id": "bHH-FpoZsVEE"
      },
      "source": [
        "**IMPORTANTE**: Nuestros dataloaders ahora contienen las secuencias de identificadores de los tokens del texto, los largos de las secuencias y las imágenes correspondientes. El siguiente código obtiene el primer elemento del dataloader de prueba. Nota que lo que entregan en ambos casos es una tripleta: la primera componente tiene los datos desde los textos (los índices), la segunda componente tiene información de los largos de las secuencias, y la tercera componente la información de las imágenes."
      ]
    },
    {
      "cell_type": "code",
      "metadata": {
        "id": "nTQQhZZWqPWF"
      },
      "source": [
        "# Obtiene un paquete desde el dataloader\n",
        "for data in test_dataloader:\n",
        "  Text, Lengths, Img = data\n",
        "  break\n",
        "\n",
        "print(Text.size())\n",
        "print(Lengths.size())\n",
        "print(Img.size())\n",
        "\n",
        "# La primera dimensión de Text corresponde al largo\n",
        "# máximo de las secuencias en el batch\n",
        "assert Text.size()[0] == torch.max(Lengths)\n",
        "\n",
        "# La segunda dimensión de D corresponde al tamaño del\n",
        "# batch, al igual que la dimensión de Lengths y la primera\n",
        "# dimensión de Img\n",
        "assert Text.size()[1] == batch_size \n",
        "assert Lengths.size()[0] == batch_size\n",
        "assert Img.size()[0] == batch_size"
      ],
      "execution_count": null,
      "outputs": []
    },
    {
      "cell_type": "markdown",
      "metadata": {
        "id": "r-CnRQBOTQjw"
      },
      "source": [
        "### Usando modelos pre-entrenados\n",
        "\n",
        "El siguiente código carga VGG16 (pre-entrenado), pasa el modelo a la GPU. "
      ]
    },
    {
      "cell_type": "code",
      "metadata": {
        "id": "M2i2IL4-s0PJ"
      },
      "source": [
        "import torchvision.models as models\n",
        "vgg16 = models.vgg16(pretrained=True)\n",
        "vgg16 = vgg16.to('cuda')"
      ],
      "execution_count": null,
      "outputs": []
    },
    {
      "cell_type": "markdown",
      "metadata": {
        "id": "z_aVkA4tTr9H"
      },
      "source": [
        "Con un codigo como el siguiente podemos calcular las características para las imágenes `Img` del batch que obtuvimos más arriba. Nota el uso de `.eval()` y `with torch.no_grad()`."
      ]
    },
    {
      "cell_type": "code",
      "metadata": {
        "id": "StImMpdss0F8"
      },
      "source": [
        "Img = Img.to('cuda')\n",
        "\n",
        "vgg16.eval()\n",
        "with torch.no_grad():\n",
        "  F = vgg16.features(Img)\n",
        "\n",
        "print(F.size())"
      ],
      "execution_count": null,
      "outputs": []
    },
    {
      "cell_type": "markdown",
      "metadata": {
        "id": "tqi-CEqkuVM-"
      },
      "source": [
        "Finalmente y por si lo necesitas, puedes acceder a las imágenes originales del dataloader haciendo algo como esto:"
      ]
    },
    {
      "cell_type": "code",
      "metadata": {
        "id": "D_y725BJs0UK"
      },
      "source": [
        "val_dataloader.dataset.original_image(0)"
      ],
      "execution_count": null,
      "outputs": []
    },
    {
      "cell_type": "markdown",
      "metadata": {
        "id": "qtaST3BqXOks"
      },
      "source": [
        "## 2a) Red convolucional + recurrente"
      ]
    },
    {
      "cell_type": "code",
      "metadata": {
        "id": "JTcuwtNEs0D1"
      },
      "source": [
        "class CaptioningModel(torch.nn.Module):\n",
        "    def __init__(self, ...): \n",
        "        # Crea las capas considerando una parte que procese debe procesar\n",
        "        # la imagen de entrada y otra que debe producir el texto (índices)\n",
        "        # de salida.\n",
        "        pass\n",
        "        \n",
        "    def forward(self, ...):\n",
        "        # Acá debes programar la pasada hacia adelante.\n",
        "        # Debes decidir qué le pasarás a la red y cómo haras la \n",
        "        # computación hacia adelante. Considera que no solo\n",
        "        # debes entrenar los parámetros sino que además debes\n",
        "        # después ser capaz de generar una secuencia de salida\n",
        "        # desde una imagen de entrada.\n",
        "        return ...   "
      ],
      "execution_count": null,
      "outputs": []
    },
    {
      "cell_type": "markdown",
      "metadata": {
        "id": "U5ifPKElXPk_"
      },
      "source": [
        "## 2b) Entrenamiento"
      ]
    },
    {
      "cell_type": "code",
      "metadata": {
        "id": "7Xb6B5CFs0AU"
      },
      "source": [
        "# Acá tu código para el loop de entrenamiento\n",
        "# y los gráficos de la pérdida"
      ],
      "execution_count": null,
      "outputs": []
    },
    {
      "cell_type": "markdown",
      "metadata": {
        "id": "gYtj8aw4XQSX"
      },
      "source": [
        "## 2c) Generando texto desde imágenes de prueba\n"
      ]
    },
    {
      "cell_type": "code",
      "metadata": {
        "id": "EYQ_LUEmsz97"
      },
      "source": [
        "# Acá tu código para generar texto usando desde imágenes\n",
        "# y un par de ejemplos con las imágenes del conjunto de prueba"
      ],
      "execution_count": null,
      "outputs": []
    }
  ]
}