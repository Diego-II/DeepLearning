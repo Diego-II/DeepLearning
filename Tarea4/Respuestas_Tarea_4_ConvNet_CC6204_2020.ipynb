{
  "nbformat": 4,
  "nbformat_minor": 0,
  "metadata": {
    "colab": {
      "name": "Respuestas_Tarea_4_ConvNet_CC6204_2020",
      "provenance": [],
      "collapsed_sections": []
    },
    "kernelspec": {
      "name": "python3",
      "display_name": "Python 3"
    },
    "accelerator": "GPU",
    "widgets": {
      "application/vnd.jupyter.widget-state+json": {
        "2bb4aa7d87774e79a7fe40edb9089e6c": {
          "model_module": "@jupyter-widgets/controls",
          "model_name": "HBoxModel",
          "state": {
            "_view_name": "HBoxView",
            "_dom_classes": [],
            "_model_name": "HBoxModel",
            "_view_module": "@jupyter-widgets/controls",
            "_model_module_version": "1.5.0",
            "_view_count": null,
            "_view_module_version": "1.5.0",
            "box_style": "",
            "layout": "IPY_MODEL_93d78b26d93a4e9497829b6c48cd4532",
            "_model_module": "@jupyter-widgets/controls",
            "children": [
              "IPY_MODEL_b6de32bb715c4d79b0adf378a993e6c5",
              "IPY_MODEL_e57af12430c94cb8af3ffcc24be1b622"
            ]
          }
        },
        "93d78b26d93a4e9497829b6c48cd4532": {
          "model_module": "@jupyter-widgets/base",
          "model_name": "LayoutModel",
          "state": {
            "_view_name": "LayoutView",
            "grid_template_rows": null,
            "right": null,
            "justify_content": null,
            "_view_module": "@jupyter-widgets/base",
            "overflow": null,
            "_model_module_version": "1.2.0",
            "_view_count": null,
            "flex_flow": null,
            "width": null,
            "min_width": null,
            "border": null,
            "align_items": null,
            "bottom": null,
            "_model_module": "@jupyter-widgets/base",
            "top": null,
            "grid_column": null,
            "overflow_y": null,
            "overflow_x": null,
            "grid_auto_flow": null,
            "grid_area": null,
            "grid_template_columns": null,
            "flex": null,
            "_model_name": "LayoutModel",
            "justify_items": null,
            "grid_row": null,
            "max_height": null,
            "align_content": null,
            "visibility": null,
            "align_self": null,
            "height": null,
            "min_height": null,
            "padding": null,
            "grid_auto_rows": null,
            "grid_gap": null,
            "max_width": null,
            "order": null,
            "_view_module_version": "1.2.0",
            "grid_template_areas": null,
            "object_position": null,
            "object_fit": null,
            "grid_auto_columns": null,
            "margin": null,
            "display": null,
            "left": null
          }
        },
        "b6de32bb715c4d79b0adf378a993e6c5": {
          "model_module": "@jupyter-widgets/controls",
          "model_name": "FloatProgressModel",
          "state": {
            "_view_name": "ProgressView",
            "style": "IPY_MODEL_033bee1d906c467f967ab4793015525a",
            "_dom_classes": [],
            "description": "",
            "_model_name": "FloatProgressModel",
            "bar_style": "success",
            "max": 1,
            "_view_module": "@jupyter-widgets/controls",
            "_model_module_version": "1.5.0",
            "value": 1,
            "_view_count": null,
            "_view_module_version": "1.5.0",
            "orientation": "horizontal",
            "min": 0,
            "description_tooltip": null,
            "_model_module": "@jupyter-widgets/controls",
            "layout": "IPY_MODEL_911a1a6208fd42adb2148c4c0892b076"
          }
        },
        "e57af12430c94cb8af3ffcc24be1b622": {
          "model_module": "@jupyter-widgets/controls",
          "model_name": "HTMLModel",
          "state": {
            "_view_name": "HTMLView",
            "style": "IPY_MODEL_2652049d938a4ad8a88375cacd872f54",
            "_dom_classes": [],
            "description": "",
            "_model_name": "HTMLModel",
            "placeholder": "​",
            "_view_module": "@jupyter-widgets/controls",
            "_model_module_version": "1.5.0",
            "value": " 170500096/? [00:05&lt;00:00, 30962050.19it/s]",
            "_view_count": null,
            "_view_module_version": "1.5.0",
            "description_tooltip": null,
            "_model_module": "@jupyter-widgets/controls",
            "layout": "IPY_MODEL_ea4ac97e1d72435c82a69b1b031941c1"
          }
        },
        "033bee1d906c467f967ab4793015525a": {
          "model_module": "@jupyter-widgets/controls",
          "model_name": "ProgressStyleModel",
          "state": {
            "_view_name": "StyleView",
            "_model_name": "ProgressStyleModel",
            "description_width": "initial",
            "_view_module": "@jupyter-widgets/base",
            "_model_module_version": "1.5.0",
            "_view_count": null,
            "_view_module_version": "1.2.0",
            "bar_color": null,
            "_model_module": "@jupyter-widgets/controls"
          }
        },
        "911a1a6208fd42adb2148c4c0892b076": {
          "model_module": "@jupyter-widgets/base",
          "model_name": "LayoutModel",
          "state": {
            "_view_name": "LayoutView",
            "grid_template_rows": null,
            "right": null,
            "justify_content": null,
            "_view_module": "@jupyter-widgets/base",
            "overflow": null,
            "_model_module_version": "1.2.0",
            "_view_count": null,
            "flex_flow": null,
            "width": null,
            "min_width": null,
            "border": null,
            "align_items": null,
            "bottom": null,
            "_model_module": "@jupyter-widgets/base",
            "top": null,
            "grid_column": null,
            "overflow_y": null,
            "overflow_x": null,
            "grid_auto_flow": null,
            "grid_area": null,
            "grid_template_columns": null,
            "flex": null,
            "_model_name": "LayoutModel",
            "justify_items": null,
            "grid_row": null,
            "max_height": null,
            "align_content": null,
            "visibility": null,
            "align_self": null,
            "height": null,
            "min_height": null,
            "padding": null,
            "grid_auto_rows": null,
            "grid_gap": null,
            "max_width": null,
            "order": null,
            "_view_module_version": "1.2.0",
            "grid_template_areas": null,
            "object_position": null,
            "object_fit": null,
            "grid_auto_columns": null,
            "margin": null,
            "display": null,
            "left": null
          }
        },
        "2652049d938a4ad8a88375cacd872f54": {
          "model_module": "@jupyter-widgets/controls",
          "model_name": "DescriptionStyleModel",
          "state": {
            "_view_name": "StyleView",
            "_model_name": "DescriptionStyleModel",
            "description_width": "",
            "_view_module": "@jupyter-widgets/base",
            "_model_module_version": "1.5.0",
            "_view_count": null,
            "_view_module_version": "1.2.0",
            "_model_module": "@jupyter-widgets/controls"
          }
        },
        "ea4ac97e1d72435c82a69b1b031941c1": {
          "model_module": "@jupyter-widgets/base",
          "model_name": "LayoutModel",
          "state": {
            "_view_name": "LayoutView",
            "grid_template_rows": null,
            "right": null,
            "justify_content": null,
            "_view_module": "@jupyter-widgets/base",
            "overflow": null,
            "_model_module_version": "1.2.0",
            "_view_count": null,
            "flex_flow": null,
            "width": null,
            "min_width": null,
            "border": null,
            "align_items": null,
            "bottom": null,
            "_model_module": "@jupyter-widgets/base",
            "top": null,
            "grid_column": null,
            "overflow_y": null,
            "overflow_x": null,
            "grid_auto_flow": null,
            "grid_area": null,
            "grid_template_columns": null,
            "flex": null,
            "_model_name": "LayoutModel",
            "justify_items": null,
            "grid_row": null,
            "max_height": null,
            "align_content": null,
            "visibility": null,
            "align_self": null,
            "height": null,
            "min_height": null,
            "padding": null,
            "grid_auto_rows": null,
            "grid_gap": null,
            "max_width": null,
            "order": null,
            "_view_module_version": "1.2.0",
            "grid_template_areas": null,
            "object_position": null,
            "object_fit": null,
            "grid_auto_columns": null,
            "margin": null,
            "display": null,
            "left": null
          }
        }
      }
    }
  },
  "cells": [
    {
      "cell_type": "markdown",
      "metadata": {
        "id": "4zhjpqvcdo5o"
      },
      "source": [
        "# Tarea 4: Redes Convolucionales <br/> CC6204 Deep Learning, Universidad de Chile <br/> Hoja de Respuestas\n",
        "\n",
        "## Nombre: \n",
        "Fecha de entrega: 11 de diciembre de 2020"
      ]
    },
    {
      "cell_type": "code",
      "metadata": {
        "id": "64BkmYga3UN_"
      },
      "source": [
        "import os\n",
        "import sys\n",
        "import random\n",
        "import pickle\n",
        "\n",
        "from collections import OrderedDict\n",
        "import torch\n",
        "import torch.nn as nn\n",
        "import torch.nn.functional as F\n",
        "import torch.optim as optim\n",
        "from torch.utils.data import Dataset, DataLoader\n",
        "import numpy as np\n",
        "from scipy.spatial import distance\n",
        "\n",
        "import torchvision\n",
        "import torchvision.transforms as transforms\n",
        "\n",
        "# Aqui descargamos algunas funciones utiles para resolver la tarea\n",
        "if not os.path.exists('utils.py'):\n",
        "  !wget https://raw.githubusercontent.com/dccuchile/CC6204/master/2020/tareas/tarea4/utils.py\n",
        "\n",
        "from utils import ImageCaptionDataset, train_for_classification, train_for_retrieval\n",
        "\n",
        "!pip install torchsummary\n",
        "from torchsummary import summary\n",
        "!pip install ipdb\n",
        "import ipdb"
      ],
      "execution_count": null,
      "outputs": []
    },
    {
      "cell_type": "code",
      "metadata": {
        "id": "jtwf7_btPh7n",
        "colab": {
          "base_uri": "https://localhost:8080/"
        },
        "outputId": "27da85b4-b385-4672-bd7b-9e083567d828"
      },
      "source": [
        "# Aqui instalamos la libreria de correccion del curso\n",
        "!pip install -U \"git+https://github.com/dccuchile/CC6204.git@master#egg=cc6204&subdirectory=autocorrect\"\n",
        "from timeit import default_timer as timer\n",
        "\n",
        "# importamos las herramientas del curso\n",
        "from cc6204 import AutoCorrect, FailedTest\n",
        "\n",
        "# En caso que se les indique, cambia el host y port que posteamos en u-cursos\n",
        "corrector = AutoCorrect(host=\"cc6204.dcc.uchile.cl\", port=443)\n",
        "\n",
        "# En caso que se les indique, cambia el token que te daremos en u-cursos\n",
        "token = \"]ye/Ox;nsz\""
      ],
      "execution_count": 3,
      "outputs": [
        {
          "output_type": "stream",
          "text": [
            "Collecting cc6204\n",
            "  Cloning https://github.com/dccuchile/CC6204.git (to revision master) to /tmp/pip-install-w64vzrym/cc6204\n",
            "  Running command git clone -q https://github.com/dccuchile/CC6204.git /tmp/pip-install-w64vzrym/cc6204\n",
            "Requirement already satisfied, skipping upgrade: requests in /usr/local/lib/python3.6/dist-packages (from cc6204) (2.23.0)\n",
            "Requirement already satisfied, skipping upgrade: numpy in /usr/local/lib/python3.6/dist-packages (from cc6204) (1.18.5)\n",
            "Requirement already satisfied, skipping upgrade: torch in /usr/local/lib/python3.6/dist-packages (from cc6204) (1.7.0+cu101)\n",
            "Requirement already satisfied, skipping upgrade: idna<3,>=2.5 in /usr/local/lib/python3.6/dist-packages (from requests->cc6204) (2.10)\n",
            "Requirement already satisfied, skipping upgrade: certifi>=2017.4.17 in /usr/local/lib/python3.6/dist-packages (from requests->cc6204) (2020.12.5)\n",
            "Requirement already satisfied, skipping upgrade: urllib3!=1.25.0,!=1.25.1,<1.26,>=1.21.1 in /usr/local/lib/python3.6/dist-packages (from requests->cc6204) (1.24.3)\n",
            "Requirement already satisfied, skipping upgrade: chardet<4,>=3.0.2 in /usr/local/lib/python3.6/dist-packages (from requests->cc6204) (3.0.4)\n",
            "Requirement already satisfied, skipping upgrade: typing-extensions in /usr/local/lib/python3.6/dist-packages (from torch->cc6204) (3.7.4.3)\n",
            "Requirement already satisfied, skipping upgrade: future in /usr/local/lib/python3.6/dist-packages (from torch->cc6204) (0.16.0)\n",
            "Requirement already satisfied, skipping upgrade: dataclasses in /usr/local/lib/python3.6/dist-packages (from torch->cc6204) (0.8)\n",
            "Building wheels for collected packages: cc6204\n",
            "  Building wheel for cc6204 (setup.py) ... \u001b[?25l\u001b[?25hdone\n",
            "  Created wheel for cc6204: filename=cc6204-0.5.0-cp36-none-any.whl size=5800 sha256=4875b876ce6a0b040b8592b52c1c0a3c41cb2b25e2e73b04127309b5cfa91638\n",
            "  Stored in directory: /tmp/pip-ephem-wheel-cache-mhs_flge/wheels/62/f0/30/aadcb7ce24a2f9c935890518e902d4e23bf97b80f47bb64414\n",
            "Successfully built cc6204\n",
            "Installing collected packages: cc6204\n",
            "Successfully installed cc6204-0.5.0\n",
            "Connection stablished\n"
          ],
          "name": "stdout"
        }
      ]
    },
    {
      "cell_type": "code",
      "metadata": {
        "id": "tnux9hNPSVYv"
      },
      "source": [
        "import matplotlib.pyplot as plt\n",
        "\n",
        "def plot_results(loss, score1, score1_title='Accuracy', score2=None, score2_title=None):\n",
        "  f1 = plt.figure(1)\n",
        "  ax1 = f1.add_subplot(111)\n",
        "  ax1.set_title(\"Loss\")    \n",
        "  ax1.set_xlabel('epochs')\n",
        "  ax1.set_ylabel('loss')\n",
        "  ax1.plot(loss, c='r')\n",
        "  ax1.legend(['train-loss'])\n",
        "  f1.show()\n",
        "\n",
        "  f2 = plt.figure(2)\n",
        "  ax2 = f2.add_subplot(111)\n",
        "  ax2.set_title(score1_title)    \n",
        "  ax2.set_xlabel('epochs')\n",
        "  ax2.set_ylabel(score1_title.lower())\n",
        "  ax2.plot(score1[0], c='b')\n",
        "  ax2.plot(score1[1], c='g')\n",
        "  ax2.legend([f'train-{score1_title.lower()}', f'val-{score1_title.lower()}'])\n",
        "  f2.show()\n",
        "\n",
        "  if score2:\n",
        "    f3= plt.figure(3)\n",
        "    ax3 = f3.add_subplot(111)\n",
        "    ax3.set_title(score2_title)    \n",
        "    ax3.set_xlabel('epochs')\n",
        "    ax3.set_ylabel(score2_title.lower())\n",
        "    ax3.plot(score2[0], c='b')\n",
        "    ax3.plot(score2[1], c='g')\n",
        "    ax3.legend([f'train-{score2_title.lower()}', f'val-{score2_title.lower()}'])\n",
        "    f3.show()"
      ],
      "execution_count": 4,
      "outputs": []
    },
    {
      "cell_type": "markdown",
      "metadata": {
        "id": "6Mw8PKh-uF7P"
      },
      "source": [
        "# Parte 1: Arquitectura Convolucional GoogLeNet (y otras) para CIFAR10"
      ]
    },
    {
      "cell_type": "markdown",
      "metadata": {
        "id": "w9qzrGbKRRxh"
      },
      "source": [
        "## 1a) Inception Module"
      ]
    },
    {
      "cell_type": "code",
      "metadata": {
        "id": "IVhRKwtJ55fg"
      },
      "source": [
        "# Como todas las capas convolucionales del paper usan ReLu, se va a hacer una clase general para facilitar esto:\r\n",
        "class Conv2dRelu(nn.Module):\r\n",
        "  def __init__(\r\n",
        "      self, \r\n",
        "      in_channels,\r\n",
        "      out_channels, \r\n",
        "      **kwargs\r\n",
        "  ):\r\n",
        "    super(Conv2dRelu, self).__init__()\r\n",
        "    self.conv = nn.Conv2d(in_channels, out_channels, bias=False, **kwargs)\r\n",
        "\r\n",
        "  def forward(self, x):\r\n",
        "    x = self.conv(x)\r\n",
        "    return F.relu(x)"
      ],
      "execution_count": 5,
      "outputs": []
    },
    {
      "cell_type": "code",
      "metadata": {
        "id": "pVeNZDV8RlDr"
      },
      "source": [
        "class InceptionModule(nn.Module):\n",
        "  def __init__(self, \n",
        "               in_channels, \n",
        "               ch_3x3_reduce=96, \n",
        "               ch_5x5_reduce=16,\n",
        "               ch_3x3=128,\n",
        "               ch_5x5=32,\n",
        "               ch_pool_proj=32,\n",
        "               ch_1x1=64\n",
        "    ):\n",
        "    super(InceptionModule, self).__init__()\n",
        "    # Acá inicializa todos los parámetros\n",
        "    # Rama 1: Conv2d 1x1 -> Conv2d 3x3\n",
        "    self.branch1 = nn.Sequential(\n",
        "        Conv2dRelu(in_channels, ch_3x3_reduce, kernel_size=1),\n",
        "        Conv2dRelu(ch_3x3_reduce, ch_3x3, kernel_size=3, padding=1)\n",
        "    )\n",
        "    # Rama 2: Conv2dRelu 1x1 -> Conv2dRelu 5x5\n",
        "    self.branch2 = nn.Sequential(\n",
        "        Conv2dRelu(in_channels, ch_5x5_reduce, kernel_size=1),\n",
        "        Conv2dRelu(ch_5x5_reduce, ch_5x5, kernel_size=5, padding=2)\n",
        "    )\n",
        "\n",
        "    # Rama 3: Max_Pool -> Conv2dRelu 1x1\n",
        "    self.branch3 = nn.Sequential(\n",
        "        nn.MaxPool2d(kernel_size=3, stride=1, padding=1, ceil_mode=True),\n",
        "        Conv2dRelu(in_channels, ch_pool_proj, kernel_size=1)\n",
        "    )\n",
        "\n",
        "    # Rama 4: Conv2dRelu 1x1\n",
        "    self.branch4 = Conv2dRelu(in_channels, ch_1x1, kernel_size=1)\n",
        "        \n",
        "\n",
        "  def _forward(self, x):\n",
        "    # aux para forward:\n",
        "    branch1 = self.branch1(x)\n",
        "    branch2 = self.branch2(x)\n",
        "    branch3 = self.branch3(x)\n",
        "    branch4 = self.branch4(x)\n",
        "\n",
        "    outputs = [branch1, branch2, branch3, branch4]\n",
        "    return outputs\n",
        "\n",
        "\n",
        "  def forward(self, x):\n",
        "    # Calcula la salida como un tensor con cantidad de canales de\n",
        "    # salida dado por ch_3x3 + ch_5x5 + ch_pool_proj + ch_1x1\n",
        "    outputs = self._forward(x)\n",
        "    return torch.cat(outputs, 1)"
      ],
      "execution_count": 6,
      "outputs": []
    },
    {
      "cell_type": "markdown",
      "metadata": {
        "id": "7-net4tfvdce"
      },
      "source": [
        "Esta celda se utiliza para chequear que los tamanos del output sean los correctos."
      ]
    },
    {
      "cell_type": "code",
      "metadata": {
        "colab": {
          "base_uri": "https://localhost:8080/"
        },
        "id": "sstah0kkjiUY",
        "outputId": "d53552f5-95a0-4a69-cb2a-9fb9442a10dc"
      },
      "source": [
        "# Obtengamos algunos parametros para probar tu implementación\r\n",
        "x, in_chs, ch_1x1, ch_3x3_red, ch_3x3, ch_5x5_red, ch_5x5, ch_pool_proj = corrector.get_test_data(homework=4, question=\"1a\", test=1, token=token)\r\n",
        "\r\n",
        "with torch.no_grad():\r\n",
        "  model = InceptionModule(in_chs, ch_1x1, ch_3x3_red, ch_3x3, ch_5x5_red, ch_5x5, ch_pool_proj)\r\n",
        "  s = timer()\r\n",
        "  result = model._forward(torch.tensor(x))\r\n",
        "  for r in result:\r\n",
        "    print(r.shape)"
      ],
      "execution_count": 7,
      "outputs": [
        {
          "output_type": "stream",
          "text": [
            "torch.Size([5, 128, 28, 28])\n",
            "torch.Size([5, 16, 28, 28])\n",
            "torch.Size([5, 32, 28, 28])\n",
            "torch.Size([5, 32, 28, 28])\n"
          ],
          "name": "stdout"
        }
      ]
    },
    {
      "cell_type": "code",
      "metadata": {
        "id": "i5AxECptzqin",
        "colab": {
          "base_uri": "https://localhost:8080/"
        },
        "outputId": "d9b34a89-131d-4008-9dd7-ada225ac883f"
      },
      "source": [
        "# Tests del API del curso para el InceptionModule\n",
        "\n",
        "# Obtengamos algunos parametros para probar tu implementación\n",
        "x, in_chs, ch_1x1, ch_3x3_red, ch_3x3, ch_5x5_red, ch_5x5, ch_pool_proj = corrector.get_test_data(homework=4, question=\"1a\", test=1, token=token)\n",
        "\n",
        "# Corramos tu implementación de InseptionModule para ver como se comporta\n",
        "with torch.no_grad():\n",
        "  model = InceptionModule(in_chs, ch_3x3_red, ch_5x5_red, ch_3x3, ch_5x5, ch_pool_proj, ch_1x1)\n",
        "  s = timer()\n",
        "  result = model(torch.tensor(x))\n",
        "  t = timer()-s\n",
        "\n",
        "# Veamos si todo fue OK :)\n",
        "corrector.submit(homework=4, question=\"1a\", test=1, token=token, answer=list(result.size()), time=t)"
      ],
      "execution_count": 8,
      "outputs": [
        {
          "output_type": "stream",
          "text": [
            "Using cached test data\n",
            "Correct Test!\n"
          ],
          "name": "stdout"
        }
      ]
    },
    {
      "cell_type": "markdown",
      "metadata": {
        "id": "sJG69heDRag8"
      },
      "source": [
        "## 1b) GoogLeNet"
      ]
    },
    {
      "cell_type": "code",
      "metadata": {
        "id": "oz6dtn7BMMPS"
      },
      "source": [
        "# Modulo auxiliar de prediccion intermedia:\r\n",
        "class InceptionAux(nn.Module):\r\n",
        "  def __init__(\r\n",
        "      self, \r\n",
        "      in_channels, \r\n",
        "      num_classes\r\n",
        "  ):\r\n",
        "    super(InceptionAux,self).__init__()\r\n",
        "    #self.avgpool = nn.AvgPool2d(kernel_size= 5,stride=3)\r\n",
        "    self.avgpool = nn.AdaptiveAvgPool2d((1, 1))\r\n",
        "\r\n",
        "    self.conv = Conv2dRelu(in_channels, 128, kernel_size=1)\r\n",
        "\r\n",
        "    self.fc1 = nn.Linear(128,1024)\r\n",
        "    self.fc2 = nn.Linear(1024, num_classes)\r\n",
        "\r\n",
        "  def forward(self, x):\r\n",
        "    x = self.avgpool(x)\r\n",
        "    x = self.conv(x)\r\n",
        "    x = torch.flatten(x,1)\r\n",
        "    x = self.fc1(x)\r\n",
        "    x = F.relu(x, inplace=True)\r\n",
        "    x = F.dropout(x, 0.7, training=self.training)\r\n",
        "    x = self.fc2(x)\r\n",
        "\r\n",
        "    return x\r\n"
      ],
      "execution_count": 9,
      "outputs": []
    },
    {
      "cell_type": "code",
      "metadata": {
        "id": "fd3iSAd7oXKN"
      },
      "source": [
        "# basado en la documentacion de Pytorch/Vision/GoogLeNet. \n",
        "class GoogLeNet(nn.Module):\n",
        "  def __init__(self, n_classes, use_aux_logits=True):\n",
        "    super(GoogLeNet, self).__init__()\n",
        "    self.use_aux_logits = use_aux_logits\n",
        "    # Define las capas de convolución y pooling de GoogLeNet\n",
        "    # Conv 1\n",
        "    self.conv1 = Conv2dRelu(in_channels=3, out_channels=64, kernel_size=7, stride=2, padding=3)\n",
        "    # Max Pool 1\n",
        "    self.maxpool1 = nn.MaxPool2d(kernel_size=3, stride=2, ceil_mode=True)\n",
        "    \n",
        "    # Conv 2\n",
        "    self.conv2 = Conv2dRelu(in_channels=64, out_channels=192, kernel_size=3, stride=1, padding=1)\n",
        "    # Max Pool 2\n",
        "    self.maxpool2 = nn.MaxPool2d(kernel_size=3, stride=2, ceil_mode=True)\n",
        "\n",
        "    # in_channels, ch_3x3_reduce=96, ch_5x5_reduce=16,\n",
        "    # ch_3x3=128, ch_5x5=32, ch_pool_proj=32, ch_1x1=64\n",
        "\n",
        "    # Inception 3a\n",
        "    self.inception3a = InceptionModule(in_channels=192, ch_3x3_reduce=96, ch_5x5_reduce=16, ch_3x3=128, ch_5x5=32, ch_pool_proj=32, ch_1x1=64)\n",
        "    # Inception 3b\n",
        "    self.inception3b = InceptionModule(in_channels=256, ch_3x3_reduce=128, ch_5x5_reduce=32, ch_3x3=192, ch_5x5=96, ch_pool_proj=64, ch_1x1=128)\n",
        "\n",
        "    # Max Pool 3\n",
        "    self.maxpool3 = nn.MaxPool2d(kernel_size=3, stride=2, ceil_mode=True)\n",
        "\n",
        "    # Inception 4a\n",
        "    self.inception4a = InceptionModule(in_channels=480, ch_3x3_reduce=96, ch_5x5_reduce=16, ch_3x3=208, ch_5x5=48, ch_pool_proj=64, ch_1x1=192)\n",
        "    # Inception 4b\n",
        "    self.inception4b = InceptionModule(in_channels=512, ch_3x3_reduce=112, ch_5x5_reduce=24, ch_3x3=224, ch_5x5=64, ch_pool_proj=64, ch_1x1=160)\n",
        "    # Inception 4c\n",
        "    self.inception4c = InceptionModule(in_channels=512, ch_3x3_reduce=128, ch_5x5_reduce=24, ch_3x3=256, ch_5x5=64, ch_pool_proj=64, ch_1x1=128)\n",
        "    # Inception 4d\n",
        "    self.inception4d = InceptionModule(in_channels=512, ch_3x3_reduce=144, ch_5x5_reduce=32, ch_3x3=288, ch_5x5=64, ch_pool_proj=64, ch_1x1=112)\n",
        "    # Inception 4e\n",
        "    self.inception4e = InceptionModule(in_channels=528, ch_3x3_reduce=160, ch_5x5_reduce=32, ch_3x3=320, ch_5x5=128, ch_pool_proj=128, ch_1x1=256)\n",
        "\n",
        "    # Max Pool 4\n",
        "    self.maxpool4  = nn.MaxPool2d(kernel_size=3, stride=2, ceil_mode=True)\n",
        "\n",
        "    # Inception 5a\n",
        "    self.inception5a = InceptionModule(in_channels=832, ch_3x3_reduce=160, ch_5x5_reduce=32, ch_3x3=320, ch_5x5=128, ch_pool_proj=128, ch_1x1=256)\n",
        "    # Inception 5b\n",
        "    self.inception5b = InceptionModule(in_channels=832, ch_3x3_reduce=192, ch_5x5_reduce=48, ch_3x3=384, ch_5x5=128, ch_pool_proj=128, ch_1x1=384)\n",
        "\n",
        "    # Avg Pool\n",
        "    #self.avgpool = nn.AvgPool2d(kernel_size=7, stride=1)\n",
        "    self.avgpool = nn.AdaptiveAvgPool2d((1, 1))\n",
        "\n",
        "    # Dropout .4\n",
        "    self.dropout = nn.Dropout2d(0.4)\n",
        "\n",
        "    # Linear\n",
        "    # Capa de salida (antes de la función de salida)\n",
        "    self.fc_out = nn.Linear(1024, n_classes)\n",
        "\n",
        "    # Decide si usar la clasificación auxiliar\n",
        "    if self.use_aux_logits:\n",
        "      self.aux1 = InceptionAux(512, n_classes)\n",
        "      self.aux2 = InceptionAux(528, n_classes)\n",
        "    else:\n",
        "      self.aux1 = None  # type: ignore[assignment]\n",
        "      self.aux2 = None\n",
        "\n",
        "  def forward(self, x):\n",
        "    if self.use_aux_logits and self.training:\n",
        "      aux_logits = []\n",
        "    else:\n",
        "      aux_logits = None\n",
        "    x = self.conv1(x)\n",
        "    \n",
        "    x = self.maxpool1(x)\n",
        "    \n",
        "    x = self.conv2(x)\n",
        "    \n",
        "    x = self.maxpool2(x)\n",
        "\n",
        "\n",
        "    x = self.inception3a(x)\n",
        "  \n",
        "    x = self.inception3b(x)\n",
        "\n",
        "    x = self.maxpool3(x)\n",
        "    \n",
        "    x = self.inception4a(x)\n",
        "\n",
        "    # Crea una lista para los logits auxiliares si fuera necesario\n",
        "    if self.use_aux_logits:\n",
        "      if self.training:\n",
        "        aux1_out = self.aux1(x)\n",
        "        aux_logits.append(aux1_out)\n",
        "    else:\n",
        "      aux1_out = None\n",
        "    \n",
        "\n",
        "    x = self.inception4b(x)\n",
        "    \n",
        "    x = self.inception4c(x)\n",
        "    \n",
        "    x = self.inception4d(x)\n",
        "\n",
        "    # Si se usa la clasificación auxiliar, computa logits auxiliares\n",
        "    if self.use_aux_logits:\n",
        "      if self.training:\n",
        "        aux2_out = self.aux2(x)\n",
        "        aux_logits.append(aux2_out)\n",
        "    else:\n",
        "      aux2_out = None\n",
        "\n",
        "    # Continúa computando las representaciones internas de la red\n",
        "    x = self.inception4e(x)\n",
        "    \n",
        "    x = self.maxpool4(x)\n",
        "\n",
        "\n",
        "    x = self.inception5a(x)\n",
        "    hidden = x.detach().clone()\n",
        "    x = self.inception5b(x)\n",
        "    \n",
        "\n",
        "    x = self.avgpool(x)\n",
        "    \n",
        "    x = torch.flatten(x, 1)\n",
        "    \n",
        "    x = self.dropout(x)\n",
        "    x = self.fc_out(x)\n",
        "    \n",
        "    #return x, aux2_out, aux1_out\n",
        "\n",
        "    # En hidden debes devolver alguna de las capas oculta de la red\n",
        "    return {'hidden': hidden, 'logits': x, 'aux_logits': aux_logits}"
      ],
      "execution_count": 10,
      "outputs": []
    },
    {
      "cell_type": "code",
      "metadata": {
        "id": "bWs77G8OXURU"
      },
      "source": [
        "ver_resumen = False\r\n",
        "if ver_resumen:\r\n",
        "  device = 'cuda'\r\n",
        "  test_model = GoogLeNet(n_classes=1000, use_aux_logits=True).to(device)\r\n",
        "  summary(test_model, input_size=(3, 32, 32))"
      ],
      "execution_count": 19,
      "outputs": []
    },
    {
      "cell_type": "code",
      "metadata": {
        "id": "vQs327QW0Fnd",
        "colab": {
          "base_uri": "https://localhost:8080/"
        },
        "outputId": "ae83b678-5613-4207-a46a-28d2dfc418c6"
      },
      "source": [
        "# Tests del API del curso para el InceptionModule\n",
        "\n",
        "# Obtengamos algunos parametros para probar tu implementación\n",
        "x, n_classes, use_aux_logits = corrector.get_test_data(homework=4, question=\"1b\", test=1, token=token)\n",
        "\n",
        "# Corramos tu implementación de InseptionModule para ver como se comporta\n",
        "with torch.no_grad():\n",
        "  model = GoogLeNet(n_classes=n_classes, use_aux_logits=True)\n",
        "  s = timer()\n",
        "  result = model(torch.tensor(x))\n",
        "  t = timer()-s\n",
        "\n",
        "# Veamos si todo fue OK :)\n",
        "sizes = [result['hidden'].shape[0]] + list(result['logits'].size()) + [d for a in result['aux_logits'] for d in a.size()]\n",
        "corrector.submit(homework=4, question=\"1b\", test=1, token=token, answer=sizes, time=t)"
      ],
      "execution_count": 12,
      "outputs": [
        {
          "output_type": "stream",
          "text": [
            "Correct Test!\n"
          ],
          "name": "stdout"
        }
      ]
    },
    {
      "cell_type": "markdown",
      "metadata": {
        "id": "nwTQpC0eCKp3"
      },
      "source": [
        "## 1c) Arquitectura Convolucional: _____\n",
        "\n"
      ]
    },
    {
      "cell_type": "code",
      "metadata": {
        "id": "sg5HNzLyzubz"
      },
      "source": [
        "import requests\n",
        "import io"
      ],
      "execution_count": 30,
      "outputs": []
    },
    {
      "cell_type": "code",
      "metadata": {
        "id": "xC6YhfLb1ZGE"
      },
      "source": [
        "def get_weights(bit_variant):\n",
        "  response = requests.get(f'https://storage.googleapis.com/bit_models/{bit_variant}.npz')\n",
        "  response.raise_for_status()\n",
        "  return np.load(io.BytesIO(response.content))"
      ],
      "execution_count": 31,
      "outputs": []
    },
    {
      "cell_type": "code",
      "metadata": {
        "id": "Exuy13Igwa_X"
      },
      "source": [
        "weights = get_weights('BiT-M-R50x1')  # You could use other variants, such as R101x3 or R152x4 here, but it is not advisable in a colab."
      ],
      "execution_count": 32,
      "outputs": []
    },
    {
      "cell_type": "code",
      "metadata": {
        "id": "y00wwFQvrwsX"
      },
      "source": [
        "class StdConv2d(nn.Conv2d):\n",
        "  def forward(self, x):\n",
        "    w = self.weight\n",
        "    v, m = torch.var_mean(w, dim=[1, 2, 3], keepdim=True, unbiased=False)\n",
        "    w = (w - m) / torch.sqrt(v + 1e-10)\n",
        "    return F.conv2d(x, w, self.bias, self.stride, self.padding, self.dilation, self.groups)"
      ],
      "execution_count": 33,
      "outputs": []
    },
    {
      "cell_type": "code",
      "metadata": {
        "id": "lgXeQXKVpPqV"
      },
      "source": [
        "def conv3x3(cin, cout, stride=1, groups=1, bias=False):\n",
        "  return StdConv2d(cin, cout, kernel_size=3, stride=stride, padding=1, bias=bias, groups=groups)\n",
        "\n",
        "def conv1x1(cin, cout, stride=1, bias=False):\n",
        "  return StdConv2d(cin, cout, kernel_size=1, stride=stride, padding=0, bias=bias)"
      ],
      "execution_count": 34,
      "outputs": []
    },
    {
      "cell_type": "code",
      "metadata": {
        "id": "f4yzODhR6U6p"
      },
      "source": [
        "def tf2th(conv_weights):\n",
        "  \"\"\"Possibly convert HWIO to OIHW\"\"\"\n",
        "  if conv_weights.ndim == 4:\n",
        "    conv_weights = np.transpose(conv_weights, [3, 2, 0, 1])\n",
        "  return torch.from_numpy(conv_weights)"
      ],
      "execution_count": 35,
      "outputs": []
    },
    {
      "cell_type": "code",
      "metadata": {
        "id": "tNq34tmsqgXG"
      },
      "source": [
        "class PreActBottleneck(nn.Module):\n",
        "  \"\"\"\n",
        "  Follows the implementation of \"Identity Mappings in Deep Residual Networks\" here:\n",
        "  https://github.com/KaimingHe/resnet-1k-layers/blob/master/resnet-pre-act.lua\n",
        "\n",
        "  Except it puts the stride on 3x3 conv when available.\n",
        "  \"\"\"\n",
        "  def __init__(self, cin, cout=None, cmid=None, stride=1):\n",
        "    super().__init__()\n",
        "    cout = cout or cin\n",
        "    cmid = cmid or cout//4\n",
        "\n",
        "    self.gn1 = nn.GroupNorm(32, cin)\n",
        "    self.conv1 = conv1x1(cin, cmid)\n",
        "    self.gn2 = nn.GroupNorm(32, cmid)\n",
        "    self.conv2 = conv3x3(cmid, cmid, stride)  # Original ResNetv2 has it on conv1!!\n",
        "    self.gn3 = nn.GroupNorm(32, cmid)\n",
        "    self.conv3 = conv1x1(cmid, cout)\n",
        "    self.relu = nn.ReLU(inplace=True)\n",
        "\n",
        "    if (stride != 1 or cin != cout):\n",
        "      # Projection also with pre-activation according to paper.\n",
        "      self.downsample = conv1x1(cin, cout, stride)\n",
        "\n",
        "  def forward(self, x):\n",
        "      # Conv'ed branch\n",
        "      out = self.relu(self.gn1(x))\n",
        "\n",
        "      # Residual branch\n",
        "      residual = x\n",
        "      if hasattr(self, 'downsample'):\n",
        "          residual = self.downsample(out)\n",
        "\n",
        "      # The first block has already applied pre-act before splitting, see Appendix.\n",
        "      out = self.conv1(out)\n",
        "      out = self.conv2(self.relu(self.gn2(out)))\n",
        "      out = self.conv3(self.relu(self.gn3(out)))\n",
        "\n",
        "      return out + residual\n",
        "\n",
        "  def load_from(self, weights, prefix=''):\n",
        "    with torch.no_grad():\n",
        "      self.conv1.weight.copy_(tf2th(weights[prefix + 'a/standardized_conv2d/kernel']))\n",
        "      self.conv2.weight.copy_(tf2th(weights[prefix + 'b/standardized_conv2d/kernel']))\n",
        "      self.conv3.weight.copy_(tf2th(weights[prefix + 'c/standardized_conv2d/kernel']))\n",
        "      self.gn1.weight.copy_(tf2th(weights[prefix + 'a/group_norm/gamma']))\n",
        "      self.gn2.weight.copy_(tf2th(weights[prefix + 'b/group_norm/gamma']))\n",
        "      self.gn3.weight.copy_(tf2th(weights[prefix + 'c/group_norm/gamma']))\n",
        "      self.gn1.bias.copy_(tf2th(weights[prefix + 'a/group_norm/beta']))\n",
        "      self.gn2.bias.copy_(tf2th(weights[prefix + 'b/group_norm/beta']))\n",
        "      self.gn3.bias.copy_(tf2th(weights[prefix + 'c/group_norm/beta']))\n",
        "      if hasattr(self, 'downsample'):\n",
        "        self.downsample.weight.copy_(tf2th(weights[prefix + 'a/proj/standardized_conv2d/kernel']))\n",
        "    return self"
      ],
      "execution_count": 36,
      "outputs": []
    },
    {
      "cell_type": "code",
      "metadata": {
        "id": "6fGKjfXm60pY"
      },
      "source": [
        "class ResNetV2(nn.Module):\n",
        "  BLOCK_UNITS = {\n",
        "      'r50': [3, 4, 6, 3],\n",
        "      'r101': [3, 4, 23, 3],\n",
        "      'r152': [3, 8, 36, 3],\n",
        "  }\n",
        "\n",
        "  def __init__(self, block_units, width_factor, head_size=21843, zero_head=False):\n",
        "    super().__init__()\n",
        "    wf = width_factor  # shortcut 'cause we'll use it a lot.\n",
        "\n",
        "    self.root = nn.Sequential(OrderedDict([\n",
        "        ('conv', StdConv2d(3, 64*wf, kernel_size=7, stride=2, padding=3, bias=False)),\n",
        "        ('padp', nn.ConstantPad2d(1, 0)),\n",
        "        ('pool', nn.MaxPool2d(kernel_size=3, stride=2, padding=0)),\n",
        "        # The following is subtly not the same!\n",
        "        #('pool', nn.MaxPool2d(kernel_size=3, stride=2, padding=1)),\n",
        "    ]))\n",
        "\n",
        "    self.body = nn.Sequential(OrderedDict([\n",
        "        ('block1', nn.Sequential(OrderedDict(\n",
        "            [('unit01', PreActBottleneck(cin= 64*wf, cout=256*wf, cmid=64*wf))] +\n",
        "            [(f'unit{i:02d}', PreActBottleneck(cin=256*wf, cout=256*wf, cmid=64*wf)) for i in range(2, block_units[0] + 1)],\n",
        "        ))),\n",
        "        ('block2', nn.Sequential(OrderedDict(\n",
        "            [('unit01', PreActBottleneck(cin=256*wf, cout=512*wf, cmid=128*wf, stride=2))] +\n",
        "            [(f'unit{i:02d}', PreActBottleneck(cin=512*wf, cout=512*wf, cmid=128*wf)) for i in range(2, block_units[1] + 1)],\n",
        "        ))),\n",
        "        ('block3', nn.Sequential(OrderedDict(\n",
        "            [('unit01', PreActBottleneck(cin= 512*wf, cout=1024*wf, cmid=256*wf, stride=2))] +\n",
        "            [(f'unit{i:02d}', PreActBottleneck(cin=1024*wf, cout=1024*wf, cmid=256*wf)) for i in range(2, block_units[2] + 1)],\n",
        "        ))),\n",
        "        ('block4', nn.Sequential(OrderedDict(\n",
        "            [('unit01', PreActBottleneck(cin=1024*wf, cout=2048*wf, cmid=512*wf, stride=2))] +\n",
        "            [(f'unit{i:02d}', PreActBottleneck(cin=2048*wf, cout=2048*wf, cmid=512*wf)) for i in range(2, block_units[3] + 1)],\n",
        "        ))),\n",
        "    ]))\n",
        "\n",
        "    self.zero_head = zero_head\n",
        "    self.head = nn.Sequential(OrderedDict([\n",
        "        ('gn', nn.GroupNorm(32, 2048*wf)),\n",
        "        ('relu', nn.ReLU(inplace=True)),\n",
        "        ('avg', nn.AdaptiveAvgPool2d(output_size=1)),\n",
        "        ('conv', nn.Conv2d(2048*wf, head_size, kernel_size=1, bias=True)),\n",
        "    ]))\n",
        "  \n",
        "  def forward(self, x):\n",
        "    x = self.head(self.body(self.root(x)))\n",
        "    assert x.shape[-2:] == (1, 1)  # We should have no spatial shape left.\n",
        "    \n",
        "    return x[...,0,0]\n",
        "\n",
        "  def load_from(self, weights, prefix='resnet/'):\n",
        "    with torch.no_grad():\n",
        "      self.root.conv.weight.copy_(tf2th(weights[f'{prefix}root_block/standardized_conv2d/kernel']))\n",
        "      self.head.gn.weight.copy_(tf2th(weights[f'{prefix}group_norm/gamma']))\n",
        "      self.head.gn.bias.copy_(tf2th(weights[f'{prefix}group_norm/beta']))\n",
        "      if self.zero_head:\n",
        "        nn.init.zeros_(self.head.conv.weight)\n",
        "        nn.init.zeros_(self.head.conv.bias)\n",
        "      else:\n",
        "        self.head.conv.weight.copy_(tf2th(weights[f'{prefix}head/conv2d/kernel']))\n",
        "        self.head.conv.bias.copy_(tf2th(weights[f'{prefix}head/conv2d/bias']))\n",
        "\n",
        "      for bname, block in self.body.named_children():\n",
        "        for uname, unit in block.named_children():\n",
        "          unit.load_from(weights, prefix=f'{prefix}{bname}/{uname}/')\n",
        "    return self"
      ],
      "execution_count": 48,
      "outputs": []
    },
    {
      "cell_type": "code",
      "metadata": {
        "id": "nfyVoCMxVcwn"
      },
      "source": [
        "model_ResNetV2 = ResNetV2(ResNetV2.BLOCK_UNITS['r50'], width_factor=1, head_size=10, zero_head=True)\n",
        "model_ResNetV2.load_from(weights)\n"
      ],
      "execution_count": null,
      "outputs": []
    },
    {
      "cell_type": "code",
      "metadata": {
        "id": "faASYtOkYMrn",
        "colab": {
          "base_uri": "https://localhost:8080/",
          "height": 212
        },
        "outputId": "7b1a17a1-1f16-40d1-8e23-c78e9e41327c"
      },
      "source": [
        "# Yes, we still use 512 batch-size! Maybe something else is even better, who knows.\n",
        "# loader_train = torch.utils.data.DataLoader(train_5shot, batch_size=512, shuffle=True, num_workers=2)\n",
        "\n",
        "# NOTE: This is necessary when the batch-size is larger than the dataset.\n",
        "sampler = torch.utils.data.RandomSampler(train_5shot, replacement=True, num_samples=256)\n",
        "loader_train = torch.utils.data.DataLoader(train_5shot, batch_size=256, num_workers=2, sampler=sampler)"
      ],
      "execution_count": 50,
      "outputs": [
        {
          "output_type": "error",
          "ename": "NameError",
          "evalue": "ignored",
          "traceback": [
            "\u001b[0;31m---------------------------------------------------------------------------\u001b[0m",
            "\u001b[0;31mNameError\u001b[0m                                 Traceback (most recent call last)",
            "\u001b[0;32m<ipython-input-50-3b8c2a168a5d>\u001b[0m in \u001b[0;36m<module>\u001b[0;34m()\u001b[0m\n\u001b[1;32m      3\u001b[0m \u001b[0;34m\u001b[0m\u001b[0m\n\u001b[1;32m      4\u001b[0m \u001b[0;31m# NOTE: This is necessary when the batch-size is larger than the dataset.\u001b[0m\u001b[0;34m\u001b[0m\u001b[0;34m\u001b[0m\u001b[0;34m\u001b[0m\u001b[0m\n\u001b[0;32m----> 5\u001b[0;31m \u001b[0msampler\u001b[0m \u001b[0;34m=\u001b[0m \u001b[0mtorch\u001b[0m\u001b[0;34m.\u001b[0m\u001b[0mutils\u001b[0m\u001b[0;34m.\u001b[0m\u001b[0mdata\u001b[0m\u001b[0;34m.\u001b[0m\u001b[0mRandomSampler\u001b[0m\u001b[0;34m(\u001b[0m\u001b[0mtrain_5shot\u001b[0m\u001b[0;34m,\u001b[0m \u001b[0mreplacement\u001b[0m\u001b[0;34m=\u001b[0m\u001b[0;32mTrue\u001b[0m\u001b[0;34m,\u001b[0m \u001b[0mnum_samples\u001b[0m\u001b[0;34m=\u001b[0m\u001b[0;36m256\u001b[0m\u001b[0;34m)\u001b[0m\u001b[0;34m\u001b[0m\u001b[0;34m\u001b[0m\u001b[0m\n\u001b[0m\u001b[1;32m      6\u001b[0m \u001b[0mloader_train\u001b[0m \u001b[0;34m=\u001b[0m \u001b[0mtorch\u001b[0m\u001b[0;34m.\u001b[0m\u001b[0mutils\u001b[0m\u001b[0;34m.\u001b[0m\u001b[0mdata\u001b[0m\u001b[0;34m.\u001b[0m\u001b[0mDataLoader\u001b[0m\u001b[0;34m(\u001b[0m\u001b[0mtrain_5shot\u001b[0m\u001b[0;34m,\u001b[0m \u001b[0mbatch_size\u001b[0m\u001b[0;34m=\u001b[0m\u001b[0;36m256\u001b[0m\u001b[0;34m,\u001b[0m \u001b[0mnum_workers\u001b[0m\u001b[0;34m=\u001b[0m\u001b[0;36m2\u001b[0m\u001b[0;34m,\u001b[0m \u001b[0msampler\u001b[0m\u001b[0;34m=\u001b[0m\u001b[0msampler\u001b[0m\u001b[0;34m)\u001b[0m\u001b[0;34m\u001b[0m\u001b[0;34m\u001b[0m\u001b[0m\n",
            "\u001b[0;31mNameError\u001b[0m: name 'train_5shot' is not defined"
          ]
        }
      ]
    },
    {
      "cell_type": "code",
      "metadata": {
        "id": "HMLkLKGFoTKa"
      },
      "source": [
        "# # Acá el código para tu primera arquitectura\n",
        "\n",
        "# class ResNetV2(nn.Module):\n",
        "#   def __init__(self, block_units, width_factor, head_size=21843, zero_head=False):\n",
        "#     super(ResNetV2, self).__init__()\n",
        "\n",
        "\n",
        "#     # Capa de salida (antes de la función de salida)\n",
        "#     self.fc_out = nn.Linear(..., n_classes)\n",
        "\n",
        "#   def forward(self, x):\n",
        "#     # Computa las representaciones internas de la red\n",
        "#     ...\n",
        "\n",
        "#     # N x out_size\n",
        "#     logits = self.fc_out(...)\n",
        "\n",
        "#     # En hidden debes devolver alguna de las capas oculta de la red\n",
        "#     return {'hidden': ..., 'logits': logits}"
      ],
      "execution_count": null,
      "outputs": []
    },
    {
      "cell_type": "markdown",
      "metadata": {
        "id": "tE6uDwmJ94-W"
      },
      "source": [
        "## 1d) Clasificación de Imágenes en CIFAR10"
      ]
    },
    {
      "cell_type": "code",
      "metadata": {
        "id": "1InBxxn28TJ4",
        "colab": {
          "base_uri": "https://localhost:8080/",
          "height": 99,
          "referenced_widgets": [
            "2bb4aa7d87774e79a7fe40edb9089e6c",
            "93d78b26d93a4e9497829b6c48cd4532",
            "b6de32bb715c4d79b0adf378a993e6c5",
            "e57af12430c94cb8af3ffcc24be1b622",
            "033bee1d906c467f967ab4793015525a",
            "911a1a6208fd42adb2148c4c0892b076",
            "2652049d938a4ad8a88375cacd872f54",
            "ea4ac97e1d72435c82a69b1b031941c1"
          ]
        },
        "outputId": "93134c9b-e098-4986-ba35-e89a4690e1f7"
      },
      "source": [
        "##############################################################################\n",
        "# Todo este código sirve para descargar, preprocesar y dejar los datos\n",
        "# listos para usar después. Después de ejecutar las celdas tendrás los datos \n",
        "# trainset, trainloader y similar para test.\n",
        "##############################################################################\n",
        "\n",
        "transform = transforms.Compose(\n",
        "    [transforms.ToTensor(),\n",
        "     transforms.Normalize((0.5, 0.5, 0.5), (0.5, 0.5, 0.5))])\n",
        "\n",
        "trainset = torchvision.datasets.CIFAR10(root='./data', train=True,\n",
        "                                        download=True, transform=transform)\n",
        "trainloader = torch.utils.data.DataLoader(trainset, batch_size=4,\n",
        "                                          shuffle=True, num_workers=2)\n",
        "\n",
        "testset = torchvision.datasets.CIFAR10(root='./data', train=False,\n",
        "                                       download=True, transform=transform)\n",
        "testloader = torch.utils.data.DataLoader(testset, batch_size=4,\n",
        "                                         shuffle=False, num_workers=2)\n",
        "\n",
        "classes = ('plane', 'car', 'bird', 'cat',\n",
        "           'deer', 'dog', 'frog', 'horse', 'ship', 'truck')"
      ],
      "execution_count": 13,
      "outputs": [
        {
          "output_type": "stream",
          "text": [
            "Downloading https://www.cs.toronto.edu/~kriz/cifar-10-python.tar.gz to ./data/cifar-10-python.tar.gz\n"
          ],
          "name": "stdout"
        },
        {
          "output_type": "display_data",
          "data": {
            "application/vnd.jupyter.widget-view+json": {
              "model_id": "2bb4aa7d87774e79a7fe40edb9089e6c",
              "version_minor": 0,
              "version_major": 2
            },
            "text/plain": [
              "HBox(children=(FloatProgress(value=1.0, bar_style='info', max=1.0), HTML(value='')))"
            ]
          },
          "metadata": {
            "tags": []
          }
        },
        {
          "output_type": "stream",
          "text": [
            "Extracting ./data/cifar-10-python.tar.gz to ./data\n",
            "Files already downloaded and verified\n"
          ],
          "name": "stdout"
        }
      ]
    },
    {
      "cell_type": "markdown",
      "metadata": {
        "id": "ZIbHp7RTNd75"
      },
      "source": [
        "Se utilizara el siguiente `lr_scheduler`:\r\n",
        " [CosineAnnealingLR](https://pytorch.org/docs/stable/optim.html#torch.optim.lr_scheduler.CosineAnnealingLR). \r\n",
        "\r\n",
        "Este se propone en el paper [SGDR: STOCHASTIC GRADIENT DESCENT WITH WARM RESTARTS](https://arxiv.org/pdf/1608.03983.pdf). En este, afirman que utilizando los `Warm Restarts`, se pueden lograr resultados competitivos en `CIFAR10` y `CIFAR100` aproximadamente dos a cuatro veces mas rapido. \r\n"
      ]
    },
    {
      "cell_type": "code",
      "metadata": {
        "id": "ecHwyZa6oxMc",
        "colab": {
          "base_uri": "https://localhost:8080/",
          "height": 1000
        },
        "outputId": "7c0313e9-5fb6-456a-99db-6a7c3ab51131"
      },
      "source": [
        "# Definamos algunos hiper-parámetros\n",
        "BATCH_SIZE = 32\n",
        "LR = 0.001\n",
        "EPOCHS = 30\n",
        "REPORTS_EVERY = 1\n",
        "\n",
        "train_loader = DataLoader(trainset, batch_size=BATCH_SIZE,\n",
        "                          shuffle=True, num_workers=2)\n",
        "test_loader = DataLoader(testset, batch_size=4*BATCH_SIZE,\n",
        "                         shuffle=False, num_workers=2)\n",
        "\n",
        "net =  GoogLeNet(n_classes=10, use_aux_logits=True)# tu modelo de CNN (para clasificar en 10 clases)\n",
        "optimizer = optim.Adam(net.parameters(), lr=LR) # optimizador, e.g., optim.SGD, optim.Adam, ...\n",
        "criterion = nn.CrossEntropyLoss() # función de pérdida\n",
        "scheduler = optim.lr_scheduler.CosineAnnealingLR(optimizer, len(train_loader))\n",
        "# (opcional) optim.lr_scheduler proporciona varios métodos para ajustar el lr según el número de épocas\n",
        "\n",
        "# ipdb.set_trace()\n",
        "# train_loss, acc = train_for_classification(net, train_loader, test_loader, optimizer, criterion)\n",
        "train_loss, acc = train_for_classification(net, train_loader, test_loader, optimizer, criterion, scheduler,epochs=EPOCHS, reports_every=REPORTS_EVERY)\n",
        "\n",
        "plot_results(train_loss, acc)"
      ],
      "execution_count": 18,
      "outputs": [
        {
          "output_type": "stream",
          "text": [
            "Epoch:1(50000/50000), lr:0.0010000, Loss:1.90340, Train Acc:20.1%, Validating..., Val Acc:20.86%, Avg-Time:53.887s.\n",
            "Epoch:2(50000/50000), lr:0.0010000, Loss:1.60525, Train Acc:34.8%, Validating..., Val Acc:46.16%, Avg-Time:53.973s.\n",
            "Epoch:3(50000/50000), lr:0.0010000, Loss:1.31642, Train Acc:50.9%, Validating..., Val Acc:51.82%, Avg-Time:53.906s.\n",
            "Epoch:4(50000/50000), lr:0.0010000, Loss:1.15339, Train Acc:58.2%, Validating..., Val Acc:59.88%, Avg-Time:53.966s.\n",
            "Epoch:5(50000/50000), lr:0.0010000, Loss:1.03727, Train Acc:63.3%, Validating..., Val Acc:63.43%, Avg-Time:53.922s.\n",
            "Epoch:6(50000/50000), lr:0.0010000, Loss:0.95530, Train Acc:66.7%, Validating..., Val Acc:66.58%, Avg-Time:53.751s.\n",
            "Epoch:7(50000/50000), lr:0.0010000, Loss:0.88111, Train Acc:69.4%, Validating..., Val Acc:68.89%, Avg-Time:53.703s.\n",
            "Epoch:8(50000/50000), lr:0.0010000, Loss:0.81947, Train Acc:71.4%, Validating..., Val Acc:69.38%, Avg-Time:53.586s.\n",
            "Epoch:9(50000/50000), lr:0.0009999, Loss:0.77141, Train Acc:73.4%, Validating..., Val Acc:68.66%, Avg-Time:53.489s.\n",
            "Epoch:10(50000/50000), lr:0.0009999, Loss:0.73456, Train Acc:74.8%, Validating..., Val Acc:69.32%, Avg-Time:53.445s.\n",
            "Epoch:11(50000/50000), lr:0.0009999, Loss:0.68657, Train Acc:76.4%, Validating..., Val Acc:71.00%, Avg-Time:53.379s.\n",
            "Epoch:12(50000/50000), lr:0.0009999, Loss:0.65298, Train Acc:77.8%, Validating..., Val Acc:68.52%, Avg-Time:53.283s.\n",
            "Epoch:13(50000/50000), lr:0.0009999, Loss:0.61908, Train Acc:78.8%, Validating..., Val Acc:69.97%, Avg-Time:53.144s.\n",
            "Epoch:14(50000/50000), lr:0.0009998, Loss:0.58888, Train Acc:79.9%, Validating..., Val Acc:70.86%, Avg-Time:52.985s.\n",
            "Epoch:15(50000/50000), lr:0.0009998, Loss:0.55309, Train Acc:81.2%, Validating..., Val Acc:70.84%, Avg-Time:52.856s.\n",
            "Epoch:16(50000/50000), lr:0.0009998, Loss:0.53000, Train Acc:82.3%, Validating..., Val Acc:69.25%, Avg-Time:52.781s.\n",
            "Epoch:17(50000/50000), lr:0.0009997, Loss:0.51043, Train Acc:82.7%, Validating..., Val Acc:71.80%, Avg-Time:52.693s.\n",
            "Epoch:18(50000/50000), lr:0.0009997, Loss:0.48565, Train Acc:83.6%, Validating..., Val Acc:70.90%, Avg-Time:52.626s.\n",
            "Epoch:19(50000/50000), lr:0.0009997, Loss:0.46543, Train Acc:84.5%, Validating..., Val Acc:71.51%, Avg-Time:52.565s.\n",
            "Epoch:20(50000/50000), lr:0.0009996, Loss:0.43382, Train Acc:85.7%, Validating..., Val Acc:71.08%, Avg-Time:52.498s.\n",
            "Epoch:21(50000/50000), lr:0.0009996, Loss:0.41539, Train Acc:86.3%, Validating..., Val Acc:71.56%, Avg-Time:52.440s.\n",
            "Epoch:22(50000/50000), lr:0.0009996, Loss:0.40163, Train Acc:86.7%, Validating..., Val Acc:68.78%, Avg-Time:52.465s.\n",
            "Epoch:23(50000/50000), lr:0.0009995, Loss:0.38953, Train Acc:87.2%, Validating..., Val Acc:72.71%, Avg-Time:52.494s.\n",
            "Epoch:24(50000/50000), lr:0.0009995, Loss:0.38657, Train Acc:87.4%, Validating..., Val Acc:71.30%, Avg-Time:52.511s.\n",
            "Epoch:25(50000/50000), lr:0.0009994, Loss:0.34256, Train Acc:88.8%, Validating..., Val Acc:71.09%, Avg-Time:52.562s.\n",
            "Epoch:26(50000/50000), lr:0.0009994, Loss:0.34528, Train Acc:88.9%, Validating..., Val Acc:71.69%, Avg-Time:52.622s.\n",
            "Epoch:27(50000/50000), lr:0.0009993, Loss:0.33095, Train Acc:89.3%, Validating..., Val Acc:71.44%, Avg-Time:52.671s.\n",
            "Epoch:28(50000/50000), lr:0.0009993, Loss:0.31952, Train Acc:89.9%, Validating..., Val Acc:71.77%, Avg-Time:52.660s.\n",
            "Epoch:29(50000/50000), lr:0.0009992, Loss:0.30265, Train Acc:90.4%, Validating..., Val Acc:71.53%, Avg-Time:52.653s.\n",
            "Epoch:30(50000/50000), lr:0.0009992, Loss:0.28535, Train Acc:91.0%, Validating..., Val Acc:71.22%, Avg-Time:52.639s.\n"
          ],
          "name": "stdout"
        },
        {
          "output_type": "display_data",
          "data": {
            "image/png": "[encoded data removed]",
            "text/plain": [
              "<Figure size 432x288 with 1 Axes>"
            ]
          },
          "metadata": {
            "tags": [],
            "needs_background": "light"
          }
        },
        {
          "output_type": "display_data",
          "data": {
            "image/png": "[encoded data removed]",
            "text/plain": [
              "<Figure size 432x288 with 1 Axes>"
            ]
          },
          "metadata": {
            "tags": [],
            "needs_background": "light"
          }
        }
      ]
    },
    {
      "cell_type": "code",
      "metadata": {
        "id": "WU5Pi7yDpYMb"
      },
      "source": [
        "def train_for_classification2(net, train_loader, test_loader, optimizer, \r\n",
        "                             criterion, lr_scheduler=None,\r\n",
        "                             epochs=1, reports_every=1, device='cuda'):\r\n",
        "  net.to(device)\r\n",
        "  total_train = len(train_loader.dataset)\r\n",
        "  total_test = len(test_loader.dataset)\r\n",
        "  tiempo_epochs = 0\r\n",
        "  train_loss, train_acc, test_acc = [], [], []\r\n",
        "\r\n",
        "  for e in range(1,epochs+1):  \r\n",
        "    inicio_epoch = timer()\r\n",
        "    \r\n",
        "    # Aseguramos que todos los parámetros se entrenarán usando .train()\r\n",
        "    net.train()\r\n",
        "\r\n",
        "    # Variables para las métricas\r\n",
        "    running_loss, running_acc = 0.0, 0.0\r\n",
        "\r\n",
        "    for i, data in enumerate(train_loader):\r\n",
        "      # Desagregamos los datos y los pasamos a la GPU\r\n",
        "      X, Y = data\r\n",
        "      X, Y = X.to(device), Y.to(device)\r\n",
        "\r\n",
        "      # Limpiamos los gradientes, pasamos el input por la red, calculamos\r\n",
        "      # la loss, ejecutamos el backpropagation (.backward) \r\n",
        "      # y un paso del optimizador para modificar los parámetros\r\n",
        "      optimizer.zero_grad()\r\n",
        "\r\n",
        "      out_dict = net(X)\r\n",
        "      # Y_logits = out_dict['logits']\r\n",
        "      loss = criterion(out_dict, Y)\r\n",
        "\r\n",
        "      \r\n",
        "      loss.backward()\r\n",
        "      optimizer.step()\r\n",
        "\r\n",
        "      # loss\r\n",
        "      items = min(total_train, (i+1) * train_loader.batch_size)\r\n",
        "      running_loss += loss.item()\r\n",
        "      avg_loss = running_loss/(i+1)\r\n",
        "      \r\n",
        "      # accuracy\r\n",
        "      _, max_idx = torch.max(out_dict, dim=1)\r\n",
        "      running_acc += torch.sum(max_idx == Y).item()\r\n",
        "      avg_acc = running_acc/items*100\r\n",
        "\r\n",
        "      # report\r\n",
        "      sys.stdout.write(f'\\rEpoch:{e}({items}/{total_train}), ' \r\n",
        "                       + (f'lr:{lr_scheduler.get_last_lr()[0]:02.7f}, ' if lr_scheduler is not None else '')\r\n",
        "                       + f'Loss:{avg_loss:02.5f}, '\r\n",
        "                       + f'Train Acc:{avg_acc:02.1f}%')\r\n",
        "      \r\n",
        "    tiempo_epochs += timer() - inicio_epoch\r\n",
        "\r\n",
        "    if e % reports_every == 0:\r\n",
        "      sys.stdout.write(', Validating...')\r\n",
        "      train_loss.append(avg_loss)\r\n",
        "      train_acc.append(avg_acc)\r\n",
        "      net.eval()\r\n",
        "      running_acc = 0.0\r\n",
        "      for i, data in enumerate(test_loader):\r\n",
        "        X, Y = data\r\n",
        "        X, Y = X.to(device), Y.to(device)\r\n",
        "        Y_logits = net(X)\r\n",
        "        _, max_idx = torch.max(Y_logits, dim=1)\r\n",
        "        running_acc += torch.sum(max_idx == Y).item()\r\n",
        "        avg_acc = running_acc/total_test*100\r\n",
        "      test_acc.append(avg_acc)\r\n",
        "      sys.stdout.write(f', Val Acc:{avg_acc:02.2f}%, '\r\n",
        "                       + f'Avg-Time:{tiempo_epochs/e:.3f}s.\\n')\r\n",
        "    else:\r\n",
        "      sys.stdout.write('\\n')\r\n",
        "\r\n",
        "    if lr_scheduler is not None:\r\n",
        "      lr_scheduler.step()\r\n",
        "\r\n",
        "  return train_loss, (train_acc, test_acc)"
      ],
      "execution_count": 51,
      "outputs": []
    },
    {
      "cell_type": "code",
      "metadata": {
        "colab": {
          "base_uri": "https://localhost:8080/",
          "height": 1000
        },
        "id": "se0_paJqn5iI",
        "outputId": "8bdef566-df8a-49f2-aab0-80af9118c888"
      },
      "source": [
        "# Definamos algunos hiper-parámetros\r\n",
        "BATCH_SIZE = 32\r\n",
        "LR = 0.001\r\n",
        "EPOCHS = 30\r\n",
        "REPORTS_EVERY = 1\r\n",
        "\r\n",
        "train_loader = DataLoader(trainset, batch_size=BATCH_SIZE,\r\n",
        "                          shuffle=True, num_workers=2)\r\n",
        "test_loader = DataLoader(testset, batch_size=4*BATCH_SIZE,\r\n",
        "                         shuffle=False, num_workers=2)\r\n",
        "\r\n",
        "\r\n",
        "optimizer = optim.Adam(model_ResNetV2.parameters(), lr=LR) # optimizador, e.g., optim.SGD, optim.Adam, ...\r\n",
        "criterion = nn.CrossEntropyLoss() # función de pérdida\r\n",
        "scheduler = optim.lr_scheduler.CosineAnnealingLR(optimizer, len(train_loader))\r\n",
        "# (opcional) optim.lr_scheduler proporciona varios métodos para ajustar el lr según el número de épocas\r\n",
        "\r\n",
        "# ipdb.set_trace()\r\n",
        "# train_loss, acc = train_for_classification(model_ResNetV2, train_loader, test_loader, optimizer, criterion)\r\n",
        "train_loss, acc = train_for_classification2(model_ResNetV2, train_loader, test_loader, optimizer, criterion, scheduler,epochs=EPOCHS, reports_every=REPORTS_EVERY)\r\n",
        "\r\n",
        "plot_results(train_loss, acc)"
      ],
      "execution_count": 52,
      "outputs": [
        {
          "output_type": "stream",
          "text": [
            "Epoch:1(50000/50000), lr:0.0010000, Loss:1.26306, Train Acc:54.4%, Validating..., Val Acc:67.36%, Avg-Time:139.221s.\n",
            "Epoch:2(50000/50000), lr:0.0010000, Loss:0.79045, Train Acc:73.2%, Validating..., Val Acc:74.12%, Avg-Time:139.055s.\n",
            "Epoch:3(50000/50000), lr:0.0010000, Loss:0.61169, Train Acc:79.4%, Validating..., Val Acc:77.61%, Avg-Time:139.128s.\n",
            "Epoch:4(50000/50000), lr:0.0010000, Loss:0.50029, Train Acc:83.0%, Validating..., Val Acc:78.17%, Avg-Time:139.036s.\n",
            "Epoch:5(50000/50000), lr:0.0010000, Loss:0.40138, Train Acc:86.5%, Validating..., Val Acc:79.10%, Avg-Time:138.956s.\n",
            "Epoch:6(50000/50000), lr:0.0010000, Loss:0.31900, Train Acc:89.2%, Validating..., Val Acc:79.25%, Avg-Time:138.891s.\n",
            "Epoch:7(50000/50000), lr:0.0010000, Loss:0.25478, Train Acc:91.5%, Validating..., Val Acc:80.08%, Avg-Time:138.870s.\n",
            "Epoch:8(50000/50000), lr:0.0010000, Loss:0.20832, Train Acc:93.1%, Validating..., Val Acc:80.71%, Avg-Time:138.779s.\n",
            "Epoch:9(50000/50000), lr:0.0009999, Loss:0.17385, Train Acc:94.1%, Validating..., Val Acc:79.91%, Avg-Time:138.714s.\n",
            "Epoch:10(50000/50000), lr:0.0009999, Loss:0.14008, Train Acc:95.3%, Validating..., Val Acc:80.50%, Avg-Time:138.658s.\n",
            "Epoch:11(50000/50000), lr:0.0009999, Loss:0.12178, Train Acc:95.9%, Validating..., Val Acc:79.50%, Avg-Time:138.591s.\n",
            "Epoch:12(50000/50000), lr:0.0009999, Loss:0.10273, Train Acc:96.5%, Validating..., Val Acc:80.72%, Avg-Time:138.502s.\n",
            "Epoch:13(50000/50000), lr:0.0009999, Loss:0.09745, Train Acc:96.7%, Validating..., Val Acc:80.07%, Avg-Time:138.402s.\n",
            "Epoch:14(50000/50000), lr:0.0009998, Loss:0.08539, Train Acc:97.1%, Validating..., Val Acc:80.62%, Avg-Time:138.292s.\n",
            "Epoch:15(50000/50000), lr:0.0009998, Loss:0.08060, Train Acc:97.3%, Validating..., Val Acc:80.70%, Avg-Time:138.175s.\n",
            "Epoch:16(50000/50000), lr:0.0009998, Loss:0.07187, Train Acc:97.6%, Validating..., Val Acc:80.53%, Avg-Time:138.070s.\n",
            "Epoch:17(50000/50000), lr:0.0009997, Loss:0.06768, Train Acc:97.7%, Validating..., Val Acc:80.77%, Avg-Time:137.981s.\n",
            "Epoch:18(50000/50000), lr:0.0009997, Loss:0.06454, Train Acc:97.9%, Validating..., Val Acc:79.89%, Avg-Time:137.885s.\n",
            "Epoch:19(50000/50000), lr:0.0009997, Loss:0.06126, Train Acc:97.9%, Validating..., Val Acc:80.27%, Avg-Time:137.803s.\n",
            "Epoch:20(50000/50000), lr:0.0009996, Loss:0.05384, Train Acc:98.2%, Validating..., Val Acc:80.77%, Avg-Time:137.746s.\n",
            "Epoch:21(50000/50000), lr:0.0009996, Loss:0.05322, Train Acc:98.2%, Validating..., Val Acc:81.02%, Avg-Time:137.712s.\n",
            "Epoch:22(50000/50000), lr:0.0009996, Loss:0.05211, Train Acc:98.3%, Validating..., Val Acc:80.43%, Avg-Time:137.643s.\n",
            "Epoch:23(50000/50000), lr:0.0009995, Loss:0.04834, Train Acc:98.4%, Validating..., Val Acc:80.47%, Avg-Time:137.550s.\n",
            "Epoch:24(50000/50000), lr:0.0009995, Loss:0.04480, Train Acc:98.5%, Validating..., Val Acc:80.49%, Avg-Time:137.461s.\n",
            "Epoch:25(50000/50000), lr:0.0009994, Loss:0.04318, Train Acc:98.6%, Validating..., Val Acc:80.28%, Avg-Time:137.502s.\n",
            "Epoch:26(50000/50000), lr:0.0009994, Loss:0.03880, Train Acc:98.7%, Validating..., Val Acc:80.57%, Avg-Time:137.489s.\n",
            "Epoch:27(50000/50000), lr:0.0009993, Loss:0.03886, Train Acc:98.7%, Validating..., Val Acc:80.03%, Avg-Time:137.402s.\n",
            "Epoch:28(50000/50000), lr:0.0009993, Loss:0.03814, Train Acc:98.7%, Validating..., Val Acc:80.10%, Avg-Time:137.333s.\n",
            "Epoch:29(50000/50000), lr:0.0009992, Loss:0.03957, Train Acc:98.7%, Validating..., Val Acc:80.54%, Avg-Time:137.273s.\n",
            "Epoch:30(50000/50000), lr:0.0009992, Loss:0.03301, Train Acc:98.9%, Validating..., Val Acc:80.60%, Avg-Time:137.214s.\n"
          ],
          "name": "stdout"
        },
        {
          "output_type": "display_data",
          "data": {
            "image/png": "[encoded data removed]",
            "text/plain": [
              "<Figure size 432x288 with 1 Axes>"
            ]
          },
          "metadata": {
            "tags": [],
            "needs_background": "light"
          }
        },
        {
          "output_type": "display_data",
          "data": {
            "image/png": "[encoded data removed]",
            "text/plain": [
              "<Figure size 432x288 with 1 Axes>"
            ]
          },
          "metadata": {
            "tags": [],
            "needs_background": "light"
          }
        }
      ]
    },
    {
      "cell_type": "code",
      "metadata": {
        "id": "QoEdEQnedJMY",
        "colab": {
          "base_uri": "https://localhost:8080/"
        },
        "outputId": "3f20b5d0-9d20-40fa-de89-a727611f2cbe"
      },
      "source": [
        "# Test\n",
        "x, y = list(test_loader)[0]\n",
        "net.cpu()\n",
        "net.eval()\n",
        "y_pred = net(x)['logits'].max(dim=1)[1]\n",
        "\n",
        "# Veamos como se comporta el modelo\n",
        "print(\"Correct Test!\" if (y==y_pred).sum()/len(x) >= .75 else \"Failed Test! [acc]\")"
      ],
      "execution_count": null,
      "outputs": [
        {
          "output_type": "stream",
          "text": [
            "Failed Test! [acc]\n"
          ],
          "name": "stdout"
        }
      ]
    },
    {
      "cell_type": "markdown",
      "metadata": {
        "id": "kmALm7EtpFow"
      },
      "source": [
        "## 1e) Opcional: CIFAR100"
      ]
    },
    {
      "cell_type": "code",
      "metadata": {
        "id": "prIQA-PjpqV7"
      },
      "source": [
        "##############################################################################\n",
        "# Toda esta parte es similar a la anterior pero para CIFAR100.\n",
        "##############################################################################\n",
        "\n",
        "transform = transforms.Compose(\n",
        "    [transforms.ToTensor(),\n",
        "     transforms.Normalize((0.5, 0.5, 0.5), (0.5, 0.5, 0.5))])\n",
        "\n",
        "trainset = torchvision.datasets.CIFAR100(root='./data/cifar100', train=True,\n",
        "                                         download=True, transform=transform)\n",
        "\n",
        "testset = torchvision.datasets.CIFAR100(root='./data/cifar100', train=False,\n",
        "                                        download=True, transform=transform)"
      ],
      "execution_count": null,
      "outputs": []
    },
    {
      "cell_type": "code",
      "metadata": {
        "id": "lDSB4v2x8T3k"
      },
      "source": [
        "# Definamos algunos hiper-parámetros\n",
        "BATCH_SIZE = ...\n",
        "LR = ...\n",
        "EPOCHS = ...\n",
        "REPORTS_EVERY = 1\n",
        "\n",
        "net = ... # tu modelo de CNN (para clasificar en 100 clases)\n",
        "optimizer = ... # optimizador, e.g., optim.SGD, optim.Adam, ...\n",
        "criterion = nn.CrossEntropyLoss() # función de pérdida\n",
        "scheduler = ... # (opcional) optim.lr_scheduler proporciona varios métodos para ajustar el lr según el número de épocas\n",
        "\n",
        "train_loader = DataLoader(trainset, batch_size=BATCH_SIZE,\n",
        "                          shuffle=True, num_workers=2)\n",
        "test_loader = DataLoader(testset, batch_size=4*BATCH_SIZE,\n",
        "                         shuffle=False, num_workers=2)\n",
        "\n",
        "train_loss, acc = train_for_classification(net, train_loader, \n",
        "                                           test_loader, optimizer, \n",
        "                                           criterion, lr_scheduler=scheduler, \n",
        "                                           epochs=EPOCHS, reports_every=REPORTS_EVERY)\n",
        "\n",
        "plot_results(train_loss, acc)"
      ],
      "execution_count": null,
      "outputs": []
    },
    {
      "cell_type": "markdown",
      "metadata": {
        "id": "QRNeU6di3NzC"
      },
      "source": [
        "# Parte 2: Subtitulado de Imágenes mediante Recuperación de Textos"
      ]
    },
    {
      "cell_type": "markdown",
      "metadata": {
        "id": "twAZ0BtioCT0"
      },
      "source": [
        "## 2a) Codificación de Imágenes y Textos"
      ]
    },
    {
      "cell_type": "code",
      "metadata": {
        "id": "W9zd0b1MyAG8"
      },
      "source": [
        "class ImageEncoding(nn.Module):\n",
        "  def __init__(self, cnn_model, cnn_out_size, out_size=128):\n",
        "    super(ImageEncoding, self).__init__()\n",
        "    self.cnn_model = cnn_model\n",
        "\n",
        "    # Defina las capas de su MLP\n",
        "    # Hints: no usar más de 3 capas\n",
        "    #        incorpora alguna técnica de regularización que ya conoces\n",
        "    ...\n",
        "\n",
        "  def forward(self, x):\n",
        "    x = self.cnn_model(x)['hidden']\n",
        "\n",
        "    # Compute las capas de su MLP\n",
        "    ...\n",
        "\n",
        "    # En fc_out debe almacenar el encoding en R^d\n",
        "    return {'logits': ...}"
      ],
      "execution_count": null,
      "outputs": []
    },
    {
      "cell_type": "code",
      "metadata": {
        "id": "UQ7NXhVY0xFr"
      },
      "source": [
        "class TextEncoding(nn.Module):\n",
        "  def __init__(self, text_embedding_size=4096, out_size=128):\n",
        "    super(TextEncoding, self).__init__()\n",
        "\n",
        "    # Defina las capas de su MLP\n",
        "    # Hints: no usar más de 3 capas\n",
        "    #        incorpora alguna técnica de regularización que ya conoces\n",
        "    ...\n",
        "\n",
        "    self.use_last_bn = use_last_bn\n",
        "    if use_last_bn:\n",
        "      self.bn = nn.BatchNorm1d(out_size)\n",
        "\n",
        "  def forward(self, x):\n",
        "    # Compute las capas de su MLP\n",
        "    ...\n",
        "\n",
        "    # En logits debe almacenar el encoding en R^d\n",
        "    return {'logits': ...}"
      ],
      "execution_count": null,
      "outputs": []
    },
    {
      "cell_type": "code",
      "metadata": {
        "id": "08sa7MG4c-GD"
      },
      "source": [
        "# Test\n",
        "OUT_SIZE = 200\n",
        "\n",
        "cnn_net = GoogLeNet()\n",
        "i_enc = ImageEncoding(cnn_model=cnn_net, cnn_out_size=1024, out_size=OUT_SIZE)\n",
        "t_enc = TextEncoding(text_embedding_size=4096, out_size=OUT_SIZE)\n",
        "i_enc.eval()\n",
        "t_enc.eval()\n",
        "\n",
        "# Veamos como se comportan tus encoders\n",
        "print(\"Correct Test!\" if (i_enc(torch.randn(9,3,32,32))['logits'].size()==t_enc(torch.randn(9,4096))['logits'].size()) else \"Failed Test [size]\")\n",
        "print(\"Correct Test!\" if (i_enc(torch.randn(9,3,32,32))['logits'].size(-1)==OUT_SIZE) else \"Failed Test [size]\")"
      ],
      "execution_count": null,
      "outputs": []
    },
    {
      "cell_type": "markdown",
      "metadata": {
        "id": "yR8AqpDi3ZJL"
      },
      "source": [
        "## 2b) Buenas codificaciones y la *Triplet Loss*"
      ]
    },
    {
      "cell_type": "code",
      "metadata": {
        "id": "fv0oqLTwv68U"
      },
      "source": [
        "class TripletLoss(nn.Module):\n",
        "  def __init__(self, margin=.2, negative='max'):\n",
        "    super(TripletLoss, self).__init__()\n",
        "    self.margin = margin\n",
        "    self.negative = negative\n",
        "\n",
        "  def forward(self, anchor, positive):\n",
        "    # Posiblemente lo más simple es partir calculando la distancia Euclideana\n",
        "    # entre las imagenes ancla y todos los pares (B x B) de representaciones\n",
        "    # de textos (hint: usa torch.cdist)\n",
        "    dists = ...\n",
        "\n",
        "    # Obtener distancias \"positivas\" de la diagonal\n",
        "    p_dists = ...\n",
        "\n",
        "    # Ahora genera un tensor con todos los costos que se deben agregar\n",
        "    # dependiendo de la forma de encontrar los negativos\n",
        "    if self.negative == 'max':\n",
        "      cost = ...\n",
        "    elif self.negative == 'random':\n",
        "      cost = ...\n",
        "    elif self.negative == 'all':\n",
        "      cost = ...\n",
        "    else:\n",
        "      raise ValueError()\n",
        "    \n",
        "    # Retorna el promedio de los costos de todos los triples considerados\n",
        "    return ..."
      ],
      "execution_count": null,
      "outputs": []
    },
    {
      "cell_type": "code",
      "metadata": {
        "id": "9HKUFhf70nbd"
      },
      "source": [
        "# Tests del API del curso para TripletLoss\n",
        "\n",
        "# Obtengamos algunos parametros para probar tu implementación\n",
        "for test in [1,2]:\n",
        "  a, p, m, n  = corrector.get_test_data(homework=4, question=\"2b\", test=test, token=token)\n",
        "\n",
        "  criterion = TripletLoss(margin=m, negative=n)\n",
        "  result = criterion(torch.tensor(a), torch.tensor(p)).item()\n",
        "\n",
        "  # Veamos si todo fue OK :)\n",
        "  corrector.submit(homework=4, question=\"2b\", test=test, token=token, answer=result, time=0)"
      ],
      "execution_count": null,
      "outputs": []
    },
    {
      "cell_type": "markdown",
      "metadata": {
        "id": "BZcwMyTAwz28"
      },
      "source": [
        "## 2c) Probando tu implementación en Flickr8k"
      ]
    },
    {
      "cell_type": "code",
      "metadata": {
        "id": "4E06OpFAxfuU"
      },
      "source": [
        "##############################################################################\n",
        "# Todo este código sirve para descargar, preprocesar y dejar los datos\n",
        "# listos para usar después. Después de ejecutar las dos celdas siguientes\n",
        "# tendrás los datos en train_flickr_tripletset y similar para val y test\n",
        "##############################################################################\n",
        "\n",
        "folder_path = './data/flickr8k'\n",
        "if not os.path.exists(f'{folder_path}/images'):\n",
        "  print('\\n*** Descargando y extrayendo Flickr8k, siéntese y relájese 4 mins...')\n",
        "  print('****** Descargando las imágenes...\\n')\n",
        "  !wget https://s06.imfd.cl/04/CC6204/tareas/tarea4/Flickr8k_Dataset.zip -P $folder_path/images\n",
        "  print('\\n********* Extrayendo las imágenes...\\n  Si te sale mensaje de colab, dale Ignorar\\n')\n",
        "  !unzip -q $folder_path/images/Flickr8k_Dataset.zip -d $folder_path/images\n",
        "  print('\\n*** Descargando y anotaciones de la imágenes...\\n')\n",
        "  !wget http://hockenmaier.cs.illinois.edu/8k-pictures.html -P $folder_path/annotations\n",
        "\n",
        "transform=transforms.Compose([transforms.ToTensor(), \n",
        "                              transforms.Resize((32, 32)),\n",
        "                              transforms.Normalize((0.5, 0.5, 0.5), (0.5, 0.5, 0.5))])\n",
        "\n",
        "print('Inicializando pytorch Flickr8k dataset')\n",
        "full_flickr_set = torchvision.datasets.Flickr8k(root=f'{folder_path}/images/Flicker8k_Dataset',\n",
        "                                                ann_file = f'{folder_path}/annotations/8k-pictures.html',\n",
        "                                                transform=transform)\n",
        "print('Creando train, val y test splits...')\n",
        "\n",
        "train_flickr_set, val_flickr_set, test_flickr_set = [], [], []\n",
        "for i, item in enumerate(full_flickr_set):\n",
        "  if i<6000:\n",
        "    train_flickr_set.append(item)\n",
        "  elif i<7000:\n",
        "    val_flickr_set.append(item)\n",
        "  else:\n",
        "    test_flickr_set.append(item)"
      ],
      "execution_count": null,
      "outputs": []
    },
    {
      "cell_type": "code",
      "metadata": {
        "id": "iTY5bha_xgCj"
      },
      "source": [
        "##############################################################################\n",
        "# Descarguemos representaciones de los textos de 4096 dimensiones\n",
        "##############################################################################\n",
        "if not os.path.exists(f'{folder_path}/flickr_cap_encodings_4096d.pkl'):\n",
        "  !wget https://s06.imfd.cl/04/CC6204/tareas/tarea4/flickr_cap_encodings_4096d.pkl -P $folder_path\n",
        "\n",
        "with open(f'{folder_path}/flickr_cap_encodings_4096d.pkl', 'rb') as f:\n",
        "  train_cap_encs, val_cap_encs, test_cap_encs = pickle.load(f)\n",
        "\n",
        "# Creamos un dataset para cada uno de los splits con nuestro ImageCaptionDataset\n",
        "train_flickr_tripletset = ImageCaptionDataset(train_flickr_set, train_cap_encs)\n",
        "val_flickr_tripletset = ImageCaptionDataset(val_flickr_set, val_cap_encs)\n",
        "test_flickr_tripletset = ImageCaptionDataset(test_flickr_set, test_cap_encs)\n",
        "\n",
        "##############################################################################\n",
        "# Acá termina el código para preparar los datos\n",
        "##############################################################################"
      ],
      "execution_count": null,
      "outputs": []
    },
    {
      "cell_type": "code",
      "metadata": {
        "id": "THIoPtv-w2QY"
      },
      "source": [
        "##############################################################################\n",
        "# Esta es la parte donde tienes que modificar para poder probar tu \n",
        "# implementación. \n",
        "# En general sólo es necesario que modifiques los lugares con \"...\", pero \n",
        "# eres libre de hacer tus propias implementaciones de todo lo que aparece.\n",
        "##############################################################################\n",
        "\n",
        "BATCH_SIZE = 64\n",
        "LR = 1e-4\n",
        "EPOCHS = ...\n",
        "REPORTS_EVERY = 1\n",
        "CNN_OUT_SIZE = ...\n",
        "EMBEDDING_SIZE = 4096\n",
        "OUT_SIZE = 512\n",
        "MARGIN = .2\n",
        "NEGATIVE = ...\n",
        "\n",
        "cnn_net = ...\n",
        "img_net = ImageEncoding(cnn_model=cnn_net, cnn_out_size=CNN_OUT_SIZE, \n",
        "                        out_size=OUT_SIZE) \n",
        "\n",
        "text_net = TextEncoding(text_embedding_size=EMBEDDING_SIZE, out_size=OUT_SIZE)\n",
        "\n",
        "optimizer = optim.Adam([{'params': ...},  # lista de parametros de img_net\n",
        "                        {'params': ...}],  # lista de parametros de text_net\n",
        "                       lr=LR)\n",
        "criterion = TripletLoss(margin=MARGIN, negative=NEGATIVE)\n",
        "scheduler = ... # (opcional) optim.lr_scheduler proporciona varios métodos \n",
        "                # para ajustar el lr según el número de épocas\n",
        "\n",
        "train_triplets_loader = DataLoader(train_flickr_tripletset, batch_size=BATCH_SIZE,\n",
        "                                   shuffle=True, num_workers=2)\n",
        "val_triplets_loader = DataLoader(val_flickr_tripletset, batch_size=BATCH_SIZE,\n",
        "                                 shuffle=False, num_workers=2)\n",
        "\n",
        "train_loss, meanrr, r10 = train_for_retrieval(img_net, text_net, \n",
        "                                              train_triplets_loader, \n",
        "                                              val_triplets_loader, optimizer, \n",
        "                                              criterion, scheduler, EPOCHS, \n",
        "                                              REPORTS_EVERY, norm=False)\n",
        "\n",
        "plot_results(train_loss, meanrr, 'MRR', r10, 'R@10')"
      ],
      "execution_count": null,
      "outputs": []
    },
    {
      "cell_type": "code",
      "metadata": {
        "id": "9CYP1n6c6_c8"
      },
      "source": [
        "# Test\n",
        "from PIL import Image\n",
        "n_samples = 64\n",
        "\n",
        "# Tomemos n_samples ejemplos del conjunto de test\n",
        "samples = torch.stack([test_flickr_tripletset[i][0] for i in range(n_samples)]).cuda()\n",
        "refs = torch.stack([torch.from_numpy(test_flickr_tripletset[i][1]) for i in range(n_samples)]).cuda()\n",
        "test_caps = [caps[0] for _, caps in test_flickr_set][:n_samples]\n",
        "\n",
        "# Computamos las representaciones en el espacio compartido\n",
        "samples_enc = img_net(samples)['logits']\n",
        "refs_enc = text_net(refs)['logits']\n",
        "\n",
        "# Calculemos las distancias a cada uno de los textos de test y rankeamos\n",
        "dists = torch.cdist(samples_enc.unsqueeze(0), refs_enc.unsqueeze(0), p=2).squeeze(0)\n",
        "ranks = torch.argsort(dists, dim=1)[:,:10]\n",
        "r10 = len([i for i in range(len(ranks)) if len(torch.where(ranks[i,:] == i)[0])]) / len(ranks)\n",
        "\n",
        "# Veamos como se comporta el modelo\n",
        "print(\"Correct Test!\" if r10 >= .25 else \"Failed Test! [R@10]\")\n",
        "\n",
        "# Mostremos las 10 descripciones más cercanas\n",
        "fig, axs = plt.subplots(nrows=n_samples, figsize=(2,n_samples*5))\n",
        "for i in range(n_samples):\n",
        "  axs[i].imshow(Image.open(full_flickr_set.ids[7000+i]))\n",
        "  axs[i].text(600,0,\"EXPECTED:\\n{}: {}\".format(i, test_caps[i]), fontsize=12, fontweight='bold')\n",
        "  axs[i].text(600,750,\"PREDICTED RANK:\\n{}\".format('\\n'.join([f'{j}: {test_caps[j]}' for j in ranks[i]])), fontsize=12)"
      ],
      "execution_count": null,
      "outputs": []
    },
    {
      "cell_type": "markdown",
      "metadata": {
        "id": "PTd9gUB5xwta"
      },
      "source": [
        "## 2d) Opcional: COCO Captions"
      ]
    },
    {
      "cell_type": "code",
      "metadata": {
        "id": "Uf0hHCkKx0Kz"
      },
      "source": [
        "##############################################################################\n",
        "# Toda esta parte es similar a la anterior pero para COCO Captions.\n",
        "##############################################################################\n",
        "\n",
        "folder_path = './data/coco-caps'\n",
        "if not os.path.exists(f'{folder_path}/images/train2014'):\n",
        "  print('\\n*** Descargando y extrayendo COCO Captions, siéntese y relájese unos 20 mins...')\n",
        "  print('****** Descargando training set...\\n')\n",
        "  !wget http://images.cocodataset.org/zips/train2014.zip -P $folder_path/images\n",
        "  print('\\n********* Extrayendo training set...\\n  Si te sale mensaje de colab, dale Ignorar\\n')\n",
        "  !unzip -q $folder_path/images/train2014.zip -d $folder_path/images && rm $folder_path/images/train2014.zip\n",
        "  print('\\n*** Descargando y extrayendo validation set...\\n')\n",
        "  !wget http://images.cocodataset.org/zips/val2014.zip -P $folder_path/images && unzip -q $folder_path/images/val2014.zip -d $folder_path/images && rm $folder_path/images/val2014.zip\n",
        "  # !wget http://images.cocodataset.org/zips/test2014.zip -P $folder_path/images && unzip -q $folder_path/images/test2014.zip -d $folder_path/images && rm $folder_path/images/test2014.zip\n",
        "  print('\\n*** Descargando y anotaciones de la imágenes...\\n')\n",
        "  !wget http://images.cocodataset.org/annotations/annotations_trainval2014.zip -P $folder_path && unzip -q $folder_path/annotations_trainval2014.zip -d $folder_path && rm $folder_path/images/annotations_trainval2014.zip\n",
        "\n",
        "transform=transforms.Compose([transforms.ToTensor(), \n",
        "                              transforms.Resize((32, 32)),\n",
        "                              transforms.Normalize((0.5, 0.5, 0.5), (0.5, 0.5, 0.5))])\n",
        "\n",
        "train_coco_set = torchvision.datasets.CocoCaptions(root=f'{folder_path}/images/train2014',\n",
        "                                                   annFile = f'{folder_path}/annotations/captions_train2014.json',\n",
        "                                                   transform=transform)\n",
        "\n",
        "val_coco_set = torchvision.datasets.CocoCaptions(root=f'{folder_path}/images/val2014',\n",
        "                                                 annFile = f'{folder_path}/annotations/captions_val2014.json',\n",
        "                                                 transform=transform)\n",
        "\n",
        "# test_coco_set = torchvision.datasets.CocoCaptions(root=f'{folder_path}/images/test2014',\n",
        "#                                                   transform=transform)"
      ],
      "execution_count": null,
      "outputs": []
    },
    {
      "cell_type": "code",
      "metadata": {
        "id": "FUZmJrvfJOxs"
      },
      "source": [
        "if not os.path.exists(f'{folder_path}/cap_encodings_512d.pkl'):\n",
        "  !wget https://s06.imfd.cl/04/CC6204/tareas/tarea4/cap_encodings_512d.pkl -P $folder_path\n",
        "\n",
        "with open(f'{folder_path}/cap_encodings_512d.pkl', 'rb') as f:\n",
        "  train_cap_encs, val_cap_encs = pickle.load(f)\n",
        "\n",
        "train_coco_tripletset = ImageCaptionDataset(train_coco_set, train_cap_encs)\n",
        "val_coco_tripletset = ImageCaptionDataset(val_coco_set, val_cap_encs)"
      ],
      "execution_count": null,
      "outputs": []
    },
    {
      "cell_type": "code",
      "metadata": {
        "id": "wXxbiC0bJY6M"
      },
      "source": [
        "BATCH_SIZE = 256\n",
        "LR = 1e-4\n",
        "EPOCHS = 10\n",
        "REPORTS_EVERY = 1\n",
        "CNN_PREV_SIZE = 1024\n",
        "EMBEDDING_SIZE = 512\n",
        "OUT_SIZE = 512\n",
        "MARGIN = .2\n",
        "\n",
        "cnn_net = ...\n",
        "img_net = ImageEncoding(cnn_model=..., cnn_out_size=CNN_PREV_SIZE, \n",
        "                        out_size=OUT_SIZE) \n",
        "\n",
        "text_net = TextEncoding(text_embedding_size=EMBEDDING_SIZE, out_size=OUT_SIZE)\n",
        "\n",
        "optimizer = optim.Adam([{'params': ...},\n",
        "                        {'params': ...}], \n",
        "                       lr=LR)\n",
        "criterion = TripletLoss(margin=...)\n",
        "\n",
        "train_triplets_loader = DataLoader(train_coco_tripletset, batch_size=BATCH_SIZE,\n",
        "                                   shuffle=True, num_workers=2)\n",
        "val_triplets_loader = DataLoader(val_coco_tripletset, batch_size=BATCH_SIZE,\n",
        "                                 shuffle=False, num_workers=2)\n",
        "\n",
        "train_loss, meanrr, r10 = train_for_retrieval(img_net, text_net, \n",
        "                                                     train_triplets_loader, \n",
        "                                                     val_triplets_loader, \n",
        "                                                     optimizer, criterion, \n",
        "                                                     EPOCHS, REPORTS_EVERY, \n",
        "                                                     norm=False)\n",
        "\n",
        "plot_results(train_loss, meanrr, 'MRR', r10, 'R@10')"
      ],
      "execution_count": null,
      "outputs": []
    }
  ]
}