{
  "nbformat": 4,
  "nbformat_minor": 0,
  "metadata": {
    "colab": {
      "name": "Respuestas_Tarea_4_ConvNet_CC6204_2020",
      "provenance": [],
      "collapsed_sections": []
    },
    "kernelspec": {
      "name": "python3",
      "display_name": "Python 3"
    },
    "accelerator": "GPU"
  },
  "cells": [
    {
      "cell_type": "markdown",
      "metadata": {
        "id": "4zhjpqvcdo5o"
      },
      "source": [
        "# Tarea 4: Redes Convolucionales <br/> CC6204 Deep Learning, Universidad de Chile <br/> Hoja de Respuestas\n",
        "\n",
        "## Nombre: \n",
        "Fecha de entrega: 11 de diciembre de 2020"
      ]
    },
    {
      "cell_type": "code",
      "metadata": {
        "id": "64BkmYga3UN_",
        "colab": {
          "base_uri": "https://localhost:8080/"
        },
        "outputId": "68a258e6-83ef-4b05-c2de-6cd461da2d75"
      },
      "source": [
        "import os\n",
        "import sys\n",
        "import random\n",
        "import pickle\n",
        "\n",
        "import torch\n",
        "import torch.nn as nn\n",
        "import torch.nn.functional as F\n",
        "import torch.optim as optim\n",
        "from torch.utils.data import Dataset, DataLoader\n",
        "import numpy as np\n",
        "from scipy.spatial import distance\n",
        "\n",
        "import torchvision\n",
        "import torchvision.transforms as transforms\n",
        "\n",
        "# Aqui descargamos algunas funciones utiles para resolver la tarea\n",
        "if not os.path.exists('utils.py'):\n",
        "  !wget https://raw.githubusercontent.com/dccuchile/CC6204/master/2020/tareas/tarea4/utils.py\n",
        "\n",
        "from utils import ImageCaptionDataset, train_for_classification, train_for_retrieval\n",
        "\n",
        "!pip install torchsummary\n",
        "from torchsummary import summary\n",
        "!pip install ipdb\n",
        "import ipdb"
      ],
      "execution_count": 161,
      "outputs": [
        {
          "output_type": "stream",
          "text": [
            "Requirement already satisfied: torchsummary in /usr/local/lib/python3.6/dist-packages (1.5.1)\n",
            "Collecting ipdb\n",
            "  Downloading https://files.pythonhosted.org/packages/44/8c/76b33b115f4f2c090e2809a0247fe777eb3832f9d606479bf0139b29ca2c/ipdb-0.13.4.tar.gz\n",
            "Requirement already satisfied: setuptools in /usr/local/lib/python3.6/dist-packages (from ipdb) (50.3.2)\n",
            "Requirement already satisfied: ipython>=5.1.0 in /usr/local/lib/python3.6/dist-packages (from ipdb) (5.5.0)\n",
            "Requirement already satisfied: traitlets>=4.2 in /usr/local/lib/python3.6/dist-packages (from ipython>=5.1.0->ipdb) (4.3.3)\n",
            "Requirement already satisfied: simplegeneric>0.8 in /usr/local/lib/python3.6/dist-packages (from ipython>=5.1.0->ipdb) (0.8.1)\n",
            "Requirement already satisfied: pexpect; sys_platform != \"win32\" in /usr/local/lib/python3.6/dist-packages (from ipython>=5.1.0->ipdb) (4.8.0)\n",
            "Requirement already satisfied: prompt-toolkit<2.0.0,>=1.0.4 in /usr/local/lib/python3.6/dist-packages (from ipython>=5.1.0->ipdb) (1.0.18)\n",
            "Requirement already satisfied: pickleshare in /usr/local/lib/python3.6/dist-packages (from ipython>=5.1.0->ipdb) (0.7.5)\n",
            "Requirement already satisfied: pygments in /usr/local/lib/python3.6/dist-packages (from ipython>=5.1.0->ipdb) (2.6.1)\n",
            "Requirement already satisfied: decorator in /usr/local/lib/python3.6/dist-packages (from ipython>=5.1.0->ipdb) (4.4.2)\n",
            "Requirement already satisfied: six in /usr/local/lib/python3.6/dist-packages (from traitlets>=4.2->ipython>=5.1.0->ipdb) (1.15.0)\n",
            "Requirement already satisfied: ipython-genutils in /usr/local/lib/python3.6/dist-packages (from traitlets>=4.2->ipython>=5.1.0->ipdb) (0.2.0)\n",
            "Requirement already satisfied: ptyprocess>=0.5 in /usr/local/lib/python3.6/dist-packages (from pexpect; sys_platform != \"win32\"->ipython>=5.1.0->ipdb) (0.6.0)\n",
            "Requirement already satisfied: wcwidth in /usr/local/lib/python3.6/dist-packages (from prompt-toolkit<2.0.0,>=1.0.4->ipython>=5.1.0->ipdb) (0.2.5)\n",
            "Building wheels for collected packages: ipdb\n",
            "  Building wheel for ipdb (setup.py) ... \u001b[?25l\u001b[?25hdone\n",
            "  Created wheel for ipdb: filename=ipdb-0.13.4-cp36-none-any.whl size=10971 sha256=9de33d018b682d5e9b7baa67d5dca2bfc0352e8c24dc6d5572d0600152bdd842\n",
            "  Stored in directory: /root/.cache/pip/wheels/56/51/e4/c91c61e3481a1a967beb18c4ea7a2b138a63cce94170b2e206\n",
            "Successfully built ipdb\n",
            "Installing collected packages: ipdb\n",
            "Successfully installed ipdb-0.13.4\n"
          ],
          "name": "stdout"
        }
      ]
    },
    {
      "cell_type": "code",
      "metadata": {
        "id": "jtwf7_btPh7n",
        "colab": {
          "base_uri": "https://localhost:8080/"
        },
        "outputId": "1905269f-2c64-4ef6-8832-1e2982f7ff84"
      },
      "source": [
        "# Aqui instalamos la libreria de correccion del curso\n",
        "!pip install -U \"git+https://github.com/dccuchile/CC6204.git@master#egg=cc6204&subdirectory=autocorrect\"\n",
        "from timeit import default_timer as timer\n",
        "\n",
        "# importamos las herramientas del curso\n",
        "from cc6204 import AutoCorrect, FailedTest\n",
        "\n",
        "# En caso que se les indique, cambia el host y port que posteamos en u-cursos\n",
        "corrector = AutoCorrect(host=\"cc6204.dcc.uchile.cl\", port=443)\n",
        "\n",
        "# En caso que se les indique, cambia el token que te daremos en u-cursos\n",
        "token = \"]ye/Ox;nsz\""
      ],
      "execution_count": 2,
      "outputs": [
        {
          "output_type": "stream",
          "text": [
            "Collecting cc6204\n",
            "  Cloning https://github.com/dccuchile/CC6204.git (to revision master) to /tmp/pip-install-6nx0uka4/cc6204\n",
            "  Running command git clone -q https://github.com/dccuchile/CC6204.git /tmp/pip-install-6nx0uka4/cc6204\n",
            "Requirement already satisfied, skipping upgrade: requests in /usr/local/lib/python3.6/dist-packages (from cc6204) (2.23.0)\n",
            "Requirement already satisfied, skipping upgrade: numpy in /usr/local/lib/python3.6/dist-packages (from cc6204) (1.18.5)\n",
            "Requirement already satisfied, skipping upgrade: torch in /usr/local/lib/python3.6/dist-packages (from cc6204) (1.7.0+cu101)\n",
            "Requirement already satisfied, skipping upgrade: urllib3!=1.25.0,!=1.25.1,<1.26,>=1.21.1 in /usr/local/lib/python3.6/dist-packages (from requests->cc6204) (1.24.3)\n",
            "Requirement already satisfied, skipping upgrade: chardet<4,>=3.0.2 in /usr/local/lib/python3.6/dist-packages (from requests->cc6204) (3.0.4)\n",
            "Requirement already satisfied, skipping upgrade: idna<3,>=2.5 in /usr/local/lib/python3.6/dist-packages (from requests->cc6204) (2.10)\n",
            "Requirement already satisfied, skipping upgrade: certifi>=2017.4.17 in /usr/local/lib/python3.6/dist-packages (from requests->cc6204) (2020.12.5)\n",
            "Requirement already satisfied, skipping upgrade: typing-extensions in /usr/local/lib/python3.6/dist-packages (from torch->cc6204) (3.7.4.3)\n",
            "Requirement already satisfied, skipping upgrade: dataclasses in /usr/local/lib/python3.6/dist-packages (from torch->cc6204) (0.8)\n",
            "Requirement already satisfied, skipping upgrade: future in /usr/local/lib/python3.6/dist-packages (from torch->cc6204) (0.16.0)\n",
            "Building wheels for collected packages: cc6204\n",
            "  Building wheel for cc6204 (setup.py) ... \u001b[?25l\u001b[?25hdone\n",
            "  Created wheel for cc6204: filename=cc6204-0.5.0-cp36-none-any.whl size=5800 sha256=1fb1110d8f0e2d8fbc0a35c8e76043139f95b2e578b1132c9bd036900c512508\n",
            "  Stored in directory: /tmp/pip-ephem-wheel-cache-spub8qd9/wheels/62/f0/30/aadcb7ce24a2f9c935890518e902d4e23bf97b80f47bb64414\n",
            "Successfully built cc6204\n",
            "Installing collected packages: cc6204\n",
            "Successfully installed cc6204-0.5.0\n",
            "Connection stablished\n"
          ],
          "name": "stdout"
        }
      ]
    },
    {
      "cell_type": "code",
      "metadata": {
        "id": "tnux9hNPSVYv"
      },
      "source": [
        "import matplotlib.pyplot as plt\n",
        "\n",
        "def plot_results(loss, score1, score1_title='Accuracy', score2=None, score2_title=None):\n",
        "  f1 = plt.figure(1)\n",
        "  ax1 = f1.add_subplot(111)\n",
        "  ax1.set_title(\"Loss\")    \n",
        "  ax1.set_xlabel('epochs')\n",
        "  ax1.set_ylabel('loss')\n",
        "  ax1.plot(loss, c='r')\n",
        "  ax1.legend(['train-loss'])\n",
        "  f1.show()\n",
        "\n",
        "  f2 = plt.figure(2)\n",
        "  ax2 = f2.add_subplot(111)\n",
        "  ax2.set_title(score1_title)    \n",
        "  ax2.set_xlabel('epochs')\n",
        "  ax2.set_ylabel(score1_title.lower())\n",
        "  ax2.plot(score1[0], c='b')\n",
        "  ax2.plot(score1[1], c='g')\n",
        "  ax2.legend([f'train-{score1_title.lower()}', f'val-{score1_title.lower()}'])\n",
        "  f2.show()\n",
        "\n",
        "  if score2:\n",
        "    f3= plt.figure(3)\n",
        "    ax3 = f3.add_subplot(111)\n",
        "    ax3.set_title(score2_title)    \n",
        "    ax3.set_xlabel('epochs')\n",
        "    ax3.set_ylabel(score2_title.lower())\n",
        "    ax3.plot(score2[0], c='b')\n",
        "    ax3.plot(score2[1], c='g')\n",
        "    ax3.legend([f'train-{score2_title.lower()}', f'val-{score2_title.lower()}'])\n",
        "    f3.show()"
      ],
      "execution_count": 3,
      "outputs": []
    },
    {
      "cell_type": "markdown",
      "metadata": {
        "id": "6Mw8PKh-uF7P"
      },
      "source": [
        "# Parte 1: Arquitectura Convolucional GoogLeNet (y otras) para CIFAR10"
      ]
    },
    {
      "cell_type": "markdown",
      "metadata": {
        "id": "w9qzrGbKRRxh"
      },
      "source": [
        "## 1a) Inception Module"
      ]
    },
    {
      "cell_type": "code",
      "metadata": {
        "id": "IVhRKwtJ55fg"
      },
      "source": [
        "# Como todas las capas convolucionales del paper usan ReLu, se va a hacer una clase general para facilitar esto:\r\n",
        "class Conv2dRelu(nn.Module):\r\n",
        "  def __init__(\r\n",
        "      self, \r\n",
        "      in_channels,\r\n",
        "      out_channels, \r\n",
        "      **kwargs\r\n",
        "  ):\r\n",
        "    super(Conv2dRelu, self).__init__()\r\n",
        "    self.conv = nn.Conv2d(in_channels, out_channels, bias=False, **kwargs)\r\n",
        "\r\n",
        "  def forward(self, x):\r\n",
        "    x = self.conv(x)\r\n",
        "    return F.relu(x)"
      ],
      "execution_count": 17,
      "outputs": []
    },
    {
      "cell_type": "code",
      "metadata": {
        "id": "pVeNZDV8RlDr"
      },
      "source": [
        "class InceptionModule(nn.Module):\n",
        "  def __init__(self, \n",
        "               in_channels, \n",
        "               ch_3x3_reduce=96, \n",
        "               ch_5x5_reduce=16,\n",
        "               ch_3x3=128,\n",
        "               ch_5x5=32,\n",
        "               ch_pool_proj=32,\n",
        "               ch_1x1=64\n",
        "    ):\n",
        "    super(InceptionModule, self).__init__()\n",
        "    # Acá inicializa todos los parámetros\n",
        "    # Rama 1: Conv2d 1x1 -> Conv2d 3x3\n",
        "    self.branch1 = nn.Sequential(\n",
        "        Conv2dRelu(in_channels, ch_3x3_reduce, kernel_size=1),\n",
        "        Conv2dRelu(ch_3x3_reduce, ch_3x3, kernel_size=3, padding=1)\n",
        "    )\n",
        "    # Rama 2: Conv2dRelu 1x1 -> Conv2dRelu 5x5\n",
        "    self.branch2 = nn.Sequential(\n",
        "        Conv2dRelu(in_channels, ch_5x5_reduce, kernel_size=1),\n",
        "        Conv2dRelu(ch_5x5_reduce, ch_5x5, kernel_size=5, padding=2)\n",
        "    )\n",
        "\n",
        "    # Rama 3: Max_Pool -> Conv2dRelu 1x1\n",
        "    self.branch3 = nn.Sequential(\n",
        "        nn.MaxPool2d(kernel_size=3, stride=1, padding=1, ceil_mode=True),\n",
        "        Conv2dRelu(in_channels, ch_pool_proj, kernel_size=1)\n",
        "    )\n",
        "\n",
        "    # Rama 4: Conv2dRelu 1x1\n",
        "    self.branch4 = Conv2dRelu(in_channels, ch_1x1, kernel_size=1)\n",
        "        \n",
        "\n",
        "  def _forward(self, x):\n",
        "    # aux para forward:\n",
        "    branch1 = self.branch1(x)\n",
        "    branch2 = self.branch2(x)\n",
        "    branch3 = self.branch3(x)\n",
        "    branch4 = self.branch4(x)\n",
        "\n",
        "    outputs = [branch1, branch2, branch3, branch4]\n",
        "    return outputs\n",
        "\n",
        "\n",
        "  def forward(self, x):\n",
        "    # Calcula la salida como un tensor con cantidad de canales de\n",
        "    # salida dado por ch_3x3 + ch_5x5 + ch_pool_proj + ch_1x1\n",
        "    outputs = self._forward(x)\n",
        "    return torch.cat(outputs, 1)"
      ],
      "execution_count": 163,
      "outputs": []
    },
    {
      "cell_type": "markdown",
      "metadata": {
        "id": "7-net4tfvdce"
      },
      "source": [
        "Esta celda se utiliza para chequear que los tamanos del output sean los correctos."
      ]
    },
    {
      "cell_type": "code",
      "metadata": {
        "colab": {
          "base_uri": "https://localhost:8080/"
        },
        "id": "sstah0kkjiUY",
        "outputId": "49baac84-3dd0-44b8-ff44-e678e3c0156c"
      },
      "source": [
        "# Obtengamos algunos parametros para probar tu implementación\r\n",
        "x, in_chs, ch_1x1, ch_3x3_red, ch_3x3, ch_5x5_red, ch_5x5, ch_pool_proj = corrector.get_test_data(homework=4, question=\"1a\", test=1, token=token)\r\n",
        "\r\n",
        "with torch.no_grad():\r\n",
        "  model = InceptionModule(in_chs, ch_1x1, ch_3x3_red, ch_3x3, ch_5x5_red, ch_5x5, ch_pool_proj)\r\n",
        "  s = timer()\r\n",
        "  result = model._forward(torch.tensor(x))\r\n",
        "  for r in result:\r\n",
        "    print(r.shape)"
      ],
      "execution_count": 164,
      "outputs": [
        {
          "output_type": "stream",
          "text": [
            "Using cached test data\n",
            "torch.Size([5, 128, 28, 28])\n",
            "torch.Size([5, 16, 28, 28])\n",
            "torch.Size([5, 32, 28, 28])\n",
            "torch.Size([5, 32, 28, 28])\n"
          ],
          "name": "stdout"
        }
      ]
    },
    {
      "cell_type": "code",
      "metadata": {
        "id": "i5AxECptzqin",
        "colab": {
          "base_uri": "https://localhost:8080/"
        },
        "outputId": "78f1fb2f-5f78-46b3-8ac6-0f60a904d4bc"
      },
      "source": [
        "# Tests del API del curso para el InceptionModule\n",
        "\n",
        "# Obtengamos algunos parametros para probar tu implementación\n",
        "x, in_chs, ch_1x1, ch_3x3_red, ch_3x3, ch_5x5_red, ch_5x5, ch_pool_proj = corrector.get_test_data(homework=4, question=\"1a\", test=1, token=token)\n",
        "\n",
        "# Corramos tu implementación de InseptionModule para ver como se comporta\n",
        "with torch.no_grad():\n",
        "  model = InceptionModule(in_chs, ch_3x3_red, ch_5x5_red, ch_3x3, ch_5x5, ch_pool_proj, ch_1x1)\n",
        "  s = timer()\n",
        "  result = model(torch.tensor(x))\n",
        "  t = timer()-s\n",
        "\n",
        "# Veamos si todo fue OK :)\n",
        "corrector.submit(homework=4, question=\"1a\", test=1, token=token, answer=list(result.size()), time=t)"
      ],
      "execution_count": 165,
      "outputs": [
        {
          "output_type": "stream",
          "text": [
            "Using cached test data\n",
            "Correct Test!\n"
          ],
          "name": "stdout"
        }
      ]
    },
    {
      "cell_type": "markdown",
      "metadata": {
        "id": "sJG69heDRag8"
      },
      "source": [
        "## 1b) GoogLeNet"
      ]
    },
    {
      "cell_type": "code",
      "metadata": {
        "id": "oz6dtn7BMMPS"
      },
      "source": [
        "# Modulo auxiliar de prediccion intermedia:\r\n",
        "class InceptionAux(nn.Module):\r\n",
        "  def __init__(\r\n",
        "      self, \r\n",
        "      in_channels, \r\n",
        "      num_classes\r\n",
        "  ):\r\n",
        "    super(InceptionAux,self).__init__()\r\n",
        "    #self.avgpool = nn.AvgPool2d(kernel_size= 5,stride=3)\r\n",
        "    self.avgpool = nn.AdaptiveAvgPool2d((1, 1))\r\n",
        "\r\n",
        "    self.conv = Conv2dRelu(in_channels, 128, kernel_size=1)\r\n",
        "\r\n",
        "    self.fc1 = nn.Linear(128,1024)\r\n",
        "    self.fc2 = nn.Linear(1024, num_classes)\r\n",
        "\r\n",
        "  def forward(self, x):\r\n",
        "    x = self.avgpool(x)\r\n",
        "    x = self.conv(x)\r\n",
        "    x = torch.flatten(x,1)\r\n",
        "    x = self.fc1(x)\r\n",
        "    x = F.relu(x, inplace=True)\r\n",
        "    x = F.dropout(x, 0.7, training=self.training)\r\n",
        "    x = self.fc2(x)\r\n",
        "\r\n",
        "    return x\r\n"
      ],
      "execution_count": 166,
      "outputs": []
    },
    {
      "cell_type": "code",
      "metadata": {
        "id": "fd3iSAd7oXKN"
      },
      "source": [
        "# basado en la documentacion de Pytorch/Vision/GoogLeNet. \n",
        "class GoogLeNet(nn.Module):\n",
        "  def __init__(self, n_classes, use_aux_logits=True):\n",
        "    super(GoogLeNet, self).__init__()\n",
        "    self.use_aux_logits = use_aux_logits\n",
        "    # Define las capas de convolución y pooling de GoogLeNet\n",
        "    # Conv 1\n",
        "    self.conv1 = Conv2dRelu(in_channels=3, out_channels=64, kernel_size=7, stride=2, padding=3)\n",
        "    # Max Pool 1\n",
        "    self.maxpool1 = nn.MaxPool2d(kernel_size=3, stride=2, ceil_mode=True)\n",
        "    \n",
        "    # Conv 2\n",
        "    self.conv2 = Conv2dRelu(in_channels=64, out_channels=192, kernel_size=3, stride=1, padding=1)\n",
        "    # Max Pool 2\n",
        "    self.maxpool2 = nn.MaxPool2d(kernel_size=3, stride=2, ceil_mode=True)\n",
        "\n",
        "    # in_channels, ch_3x3_reduce=96, ch_5x5_reduce=16,\n",
        "    # ch_3x3=128, ch_5x5=32, ch_pool_proj=32, ch_1x1=64\n",
        "\n",
        "    # Inception 3a\n",
        "    self.inception3a = InceptionModule(in_channels=192, ch_3x3_reduce=96, ch_5x5_reduce=16, ch_3x3=128, ch_5x5=32, ch_pool_proj=32, ch_1x1=64)\n",
        "    # Inception 3b\n",
        "    self.inception3b = InceptionModule(in_channels=256, ch_3x3_reduce=128, ch_5x5_reduce=32, ch_3x3=192, ch_5x5=96, ch_pool_proj=64, ch_1x1=128)\n",
        "\n",
        "    # Max Pool 3\n",
        "    self.maxpool3 = nn.MaxPool2d(kernel_size=3, stride=2, ceil_mode=True)\n",
        "\n",
        "    # Inception 4a\n",
        "    self.inception4a = InceptionModule(in_channels=480, ch_3x3_reduce=96, ch_5x5_reduce=16, ch_3x3=208, ch_5x5=48, ch_pool_proj=64, ch_1x1=192)\n",
        "    # Inception 4b\n",
        "    self.inception4b = InceptionModule(in_channels=512, ch_3x3_reduce=112, ch_5x5_reduce=24, ch_3x3=224, ch_5x5=64, ch_pool_proj=64, ch_1x1=160)\n",
        "    # Inception 4c\n",
        "    self.inception4c = InceptionModule(in_channels=512, ch_3x3_reduce=128, ch_5x5_reduce=24, ch_3x3=256, ch_5x5=64, ch_pool_proj=64, ch_1x1=128)\n",
        "    # Inception 4d\n",
        "    self.inception4d = InceptionModule(in_channels=512, ch_3x3_reduce=144, ch_5x5_reduce=32, ch_3x3=288, ch_5x5=64, ch_pool_proj=64, ch_1x1=112)\n",
        "    # Inception 4e\n",
        "    self.inception4e = InceptionModule(in_channels=528, ch_3x3_reduce=160, ch_5x5_reduce=32, ch_3x3=320, ch_5x5=128, ch_pool_proj=128, ch_1x1=256)\n",
        "\n",
        "    # Max Pool 4\n",
        "    self.maxpool4  = nn.MaxPool2d(kernel_size=3, stride=2, ceil_mode=True)\n",
        "\n",
        "    # Inception 5a\n",
        "    self.inception5a = InceptionModule(in_channels=832, ch_3x3_reduce=160, ch_5x5_reduce=32, ch_3x3=320, ch_5x5=128, ch_pool_proj=128, ch_1x1=256)\n",
        "    # Inception 5b\n",
        "    self.inception5b = InceptionModule(in_channels=832, ch_3x3_reduce=192, ch_5x5_reduce=48, ch_3x3=384, ch_5x5=128, ch_pool_proj=128, ch_1x1=384)\n",
        "\n",
        "    # Avg Pool\n",
        "    #self.avgpool = nn.AvgPool2d(kernel_size=7, stride=1)\n",
        "    self.avgpool = nn.AdaptiveAvgPool2d((1, 1))\n",
        "\n",
        "    # Dropout .4\n",
        "    self.dropout = nn.Dropout2d(0.4)\n",
        "\n",
        "    # Linear\n",
        "    # Capa de salida (antes de la función de salida)\n",
        "    self.fc_out = nn.Linear(1024, n_classes)\n",
        "\n",
        "    # Decide si usar la clasificación auxiliar\n",
        "    if self.use_aux_logits:\n",
        "      self.aux1 = InceptionAux(512, n_classes)\n",
        "      self.aux2 = InceptionAux(528, n_classes)\n",
        "    else:\n",
        "      self.aux1 = None  # type: ignore[assignment]\n",
        "      self.aux2 = None\n",
        "\n",
        "  def forward(self, x):\n",
        "    if self.use_aux_logits and self.training:\n",
        "      aux_logits = []\n",
        "    else:\n",
        "      aux_logits = None\n",
        "    x = self.conv1(x)\n",
        "    \n",
        "    x = self.maxpool1(x)\n",
        "    \n",
        "    x = self.conv2(x)\n",
        "    \n",
        "    x = self.maxpool2(x)\n",
        "\n",
        "\n",
        "    x = self.inception3a(x)\n",
        "  \n",
        "    x = self.inception3b(x)\n",
        "\n",
        "    x = self.maxpool3(x)\n",
        "    \n",
        "    x = self.inception4a(x)\n",
        "\n",
        "    # Crea una lista para los logits auxiliares si fuera necesario\n",
        "    if self.use_aux_logits:\n",
        "      if self.training:\n",
        "        aux1_out = self.aux1(x)\n",
        "        aux_logits.append(aux1_out)\n",
        "    else:\n",
        "      aux1_out = None\n",
        "    \n",
        "\n",
        "    x = self.inception4b(x)\n",
        "    \n",
        "    x = self.inception4c(x)\n",
        "    \n",
        "    x = self.inception4d(x)\n",
        "\n",
        "    # Si se usa la clasificación auxiliar, computa logits auxiliares\n",
        "    if self.use_aux_logits:\n",
        "      if self.training:\n",
        "        aux2_out = self.aux2(x)\n",
        "        aux_logits.append(aux2_out)\n",
        "    else:\n",
        "      aux2_out = None\n",
        "\n",
        "    # Continúa computando las representaciones internas de la red\n",
        "    x = self.inception4e(x)\n",
        "    \n",
        "    x = self.maxpool4(x)\n",
        "\n",
        "\n",
        "    x = self.inception5a(x)\n",
        "    hidden = x.detach().clone()\n",
        "    x = self.inception5b(x)\n",
        "    \n",
        "\n",
        "    x = self.avgpool(x)\n",
        "    \n",
        "    x = torch.flatten(x, 1)\n",
        "    \n",
        "    x = self.dropout(x)\n",
        "    x = self.fc_out(x)\n",
        "    \n",
        "    #return x, aux2_out, aux1_out\n",
        "\n",
        "    # En hidden debes devolver alguna de las capas oculta de la red\n",
        "    return {'hidden': hidden, 'logits': x, 'aux_logits': aux_logits}"
      ],
      "execution_count": 197,
      "outputs": []
    },
    {
      "cell_type": "code",
      "metadata": {
        "colab": {
          "base_uri": "https://localhost:8080/"
        },
        "id": "bWs77G8OXURU",
        "outputId": "830a8b91-a23b-4e0b-c83d-2c032ff388ba"
      },
      "source": [
        "device = 'cuda'\r\n",
        "test_model = GoogLeNet(n_classes=1000, use_aux_logits=True).to(device)\r\n",
        "summary(test_model, input_size=(3, 32, 32))"
      ],
      "execution_count": 194,
      "outputs": [
        {
          "output_type": "stream",
          "text": [
            "----------------------------------------------------------------\n",
            "        Layer (type)               Output Shape         Param #\n",
            "================================================================\n",
            "            Conv2d-1           [-1, 64, 16, 16]           9,408\n",
            "        Conv2dRelu-2           [-1, 64, 16, 16]               0\n",
            "         MaxPool2d-3             [-1, 64, 8, 8]               0\n",
            "            Conv2d-4            [-1, 192, 8, 8]         110,592\n",
            "        Conv2dRelu-5            [-1, 192, 8, 8]               0\n",
            "         MaxPool2d-6            [-1, 192, 4, 4]               0\n",
            "            Conv2d-7             [-1, 96, 4, 4]          18,432\n",
            "        Conv2dRelu-8             [-1, 96, 4, 4]               0\n",
            "            Conv2d-9            [-1, 128, 4, 4]         110,592\n",
            "       Conv2dRelu-10            [-1, 128, 4, 4]               0\n",
            "           Conv2d-11             [-1, 16, 4, 4]           3,072\n",
            "       Conv2dRelu-12             [-1, 16, 4, 4]               0\n",
            "           Conv2d-13             [-1, 32, 4, 4]          12,800\n",
            "       Conv2dRelu-14             [-1, 32, 4, 4]               0\n",
            "        MaxPool2d-15            [-1, 192, 4, 4]               0\n",
            "           Conv2d-16             [-1, 32, 4, 4]           6,144\n",
            "       Conv2dRelu-17             [-1, 32, 4, 4]               0\n",
            "           Conv2d-18             [-1, 64, 4, 4]          12,288\n",
            "       Conv2dRelu-19             [-1, 64, 4, 4]               0\n",
            "  InceptionModule-20            [-1, 256, 4, 4]               0\n",
            "           Conv2d-21            [-1, 128, 4, 4]          32,768\n",
            "       Conv2dRelu-22            [-1, 128, 4, 4]               0\n",
            "           Conv2d-23            [-1, 192, 4, 4]         221,184\n",
            "       Conv2dRelu-24            [-1, 192, 4, 4]               0\n",
            "           Conv2d-25             [-1, 32, 4, 4]           8,192\n",
            "       Conv2dRelu-26             [-1, 32, 4, 4]               0\n",
            "           Conv2d-27             [-1, 96, 4, 4]          76,800\n",
            "       Conv2dRelu-28             [-1, 96, 4, 4]               0\n",
            "        MaxPool2d-29            [-1, 256, 4, 4]               0\n",
            "           Conv2d-30             [-1, 64, 4, 4]          16,384\n",
            "       Conv2dRelu-31             [-1, 64, 4, 4]               0\n",
            "           Conv2d-32            [-1, 128, 4, 4]          32,768\n",
            "       Conv2dRelu-33            [-1, 128, 4, 4]               0\n",
            "  InceptionModule-34            [-1, 480, 4, 4]               0\n",
            "        MaxPool2d-35            [-1, 480, 2, 2]               0\n",
            "           Conv2d-36             [-1, 96, 2, 2]          46,080\n",
            "       Conv2dRelu-37             [-1, 96, 2, 2]               0\n",
            "           Conv2d-38            [-1, 208, 2, 2]         179,712\n",
            "       Conv2dRelu-39            [-1, 208, 2, 2]               0\n",
            "           Conv2d-40             [-1, 16, 2, 2]           7,680\n",
            "       Conv2dRelu-41             [-1, 16, 2, 2]               0\n",
            "           Conv2d-42             [-1, 48, 2, 2]          19,200\n",
            "       Conv2dRelu-43             [-1, 48, 2, 2]               0\n",
            "        MaxPool2d-44            [-1, 480, 2, 2]               0\n",
            "           Conv2d-45             [-1, 64, 2, 2]          30,720\n",
            "       Conv2dRelu-46             [-1, 64, 2, 2]               0\n",
            "           Conv2d-47            [-1, 192, 2, 2]          92,160\n",
            "       Conv2dRelu-48            [-1, 192, 2, 2]               0\n",
            "  InceptionModule-49            [-1, 512, 2, 2]               0\n",
            "AdaptiveAvgPool2d-50            [-1, 512, 1, 1]               0\n",
            "           Conv2d-51            [-1, 128, 1, 1]          65,536\n",
            "       Conv2dRelu-52            [-1, 128, 1, 1]               0\n",
            "           Linear-53                 [-1, 1024]         132,096\n",
            "           Linear-54                 [-1, 1000]       1,025,000\n",
            "     InceptionAux-55                 [-1, 1000]               0\n",
            "           Conv2d-56            [-1, 112, 2, 2]          57,344\n",
            "       Conv2dRelu-57            [-1, 112, 2, 2]               0\n",
            "           Conv2d-58            [-1, 224, 2, 2]         225,792\n",
            "       Conv2dRelu-59            [-1, 224, 2, 2]               0\n",
            "           Conv2d-60             [-1, 24, 2, 2]          12,288\n",
            "       Conv2dRelu-61             [-1, 24, 2, 2]               0\n",
            "           Conv2d-62             [-1, 64, 2, 2]          38,400\n",
            "       Conv2dRelu-63             [-1, 64, 2, 2]               0\n",
            "        MaxPool2d-64            [-1, 512, 2, 2]               0\n",
            "           Conv2d-65             [-1, 64, 2, 2]          32,768\n",
            "       Conv2dRelu-66             [-1, 64, 2, 2]               0\n",
            "           Conv2d-67            [-1, 160, 2, 2]          81,920\n",
            "       Conv2dRelu-68            [-1, 160, 2, 2]               0\n",
            "  InceptionModule-69            [-1, 512, 2, 2]               0\n",
            "           Conv2d-70            [-1, 128, 2, 2]          65,536\n",
            "       Conv2dRelu-71            [-1, 128, 2, 2]               0\n",
            "           Conv2d-72            [-1, 256, 2, 2]         294,912\n",
            "       Conv2dRelu-73            [-1, 256, 2, 2]               0\n",
            "           Conv2d-74             [-1, 24, 2, 2]          12,288\n",
            "       Conv2dRelu-75             [-1, 24, 2, 2]               0\n",
            "           Conv2d-76             [-1, 64, 2, 2]          38,400\n",
            "       Conv2dRelu-77             [-1, 64, 2, 2]               0\n",
            "        MaxPool2d-78            [-1, 512, 2, 2]               0\n",
            "           Conv2d-79             [-1, 64, 2, 2]          32,768\n",
            "       Conv2dRelu-80             [-1, 64, 2, 2]               0\n",
            "           Conv2d-81            [-1, 128, 2, 2]          65,536\n",
            "       Conv2dRelu-82            [-1, 128, 2, 2]               0\n",
            "  InceptionModule-83            [-1, 512, 2, 2]               0\n",
            "           Conv2d-84            [-1, 144, 2, 2]          73,728\n",
            "       Conv2dRelu-85            [-1, 144, 2, 2]               0\n",
            "           Conv2d-86            [-1, 288, 2, 2]         373,248\n",
            "       Conv2dRelu-87            [-1, 288, 2, 2]               0\n",
            "           Conv2d-88             [-1, 32, 2, 2]          16,384\n",
            "       Conv2dRelu-89             [-1, 32, 2, 2]               0\n",
            "           Conv2d-90             [-1, 64, 2, 2]          51,200\n",
            "       Conv2dRelu-91             [-1, 64, 2, 2]               0\n",
            "        MaxPool2d-92            [-1, 512, 2, 2]               0\n",
            "           Conv2d-93             [-1, 64, 2, 2]          32,768\n",
            "       Conv2dRelu-94             [-1, 64, 2, 2]               0\n",
            "           Conv2d-95            [-1, 112, 2, 2]          57,344\n",
            "       Conv2dRelu-96            [-1, 112, 2, 2]               0\n",
            "  InceptionModule-97            [-1, 528, 2, 2]               0\n",
            "AdaptiveAvgPool2d-98            [-1, 528, 1, 1]               0\n",
            "           Conv2d-99            [-1, 128, 1, 1]          67,584\n",
            "      Conv2dRelu-100            [-1, 128, 1, 1]               0\n",
            "          Linear-101                 [-1, 1024]         132,096\n",
            "          Linear-102                 [-1, 1000]       1,025,000\n",
            "    InceptionAux-103                 [-1, 1000]               0\n",
            "          Conv2d-104            [-1, 160, 2, 2]          84,480\n",
            "      Conv2dRelu-105            [-1, 160, 2, 2]               0\n",
            "          Conv2d-106            [-1, 320, 2, 2]         460,800\n",
            "      Conv2dRelu-107            [-1, 320, 2, 2]               0\n",
            "          Conv2d-108             [-1, 32, 2, 2]          16,896\n",
            "      Conv2dRelu-109             [-1, 32, 2, 2]               0\n",
            "          Conv2d-110            [-1, 128, 2, 2]         102,400\n",
            "      Conv2dRelu-111            [-1, 128, 2, 2]               0\n",
            "       MaxPool2d-112            [-1, 528, 2, 2]               0\n",
            "          Conv2d-113            [-1, 128, 2, 2]          67,584\n",
            "      Conv2dRelu-114            [-1, 128, 2, 2]               0\n",
            "          Conv2d-115            [-1, 256, 2, 2]         135,168\n",
            "      Conv2dRelu-116            [-1, 256, 2, 2]               0\n",
            " InceptionModule-117            [-1, 832, 2, 2]               0\n",
            "       MaxPool2d-118            [-1, 832, 1, 1]               0\n",
            "          Conv2d-119            [-1, 160, 1, 1]         133,120\n",
            "      Conv2dRelu-120            [-1, 160, 1, 1]               0\n",
            "          Conv2d-121            [-1, 320, 1, 1]         460,800\n",
            "      Conv2dRelu-122            [-1, 320, 1, 1]               0\n",
            "          Conv2d-123             [-1, 32, 1, 1]          26,624\n",
            "      Conv2dRelu-124             [-1, 32, 1, 1]               0\n",
            "          Conv2d-125            [-1, 128, 1, 1]         102,400\n",
            "      Conv2dRelu-126            [-1, 128, 1, 1]               0\n",
            "       MaxPool2d-127            [-1, 832, 1, 1]               0\n",
            "          Conv2d-128            [-1, 128, 1, 1]         106,496\n",
            "      Conv2dRelu-129            [-1, 128, 1, 1]               0\n",
            "          Conv2d-130            [-1, 256, 1, 1]         212,992\n",
            "      Conv2dRelu-131            [-1, 256, 1, 1]               0\n",
            " InceptionModule-132            [-1, 832, 1, 1]               0\n",
            "          Conv2d-133            [-1, 192, 1, 1]         159,744\n",
            "      Conv2dRelu-134            [-1, 192, 1, 1]               0\n",
            "          Conv2d-135            [-1, 384, 1, 1]         663,552\n",
            "      Conv2dRelu-136            [-1, 384, 1, 1]               0\n",
            "          Conv2d-137             [-1, 48, 1, 1]          39,936\n",
            "      Conv2dRelu-138             [-1, 48, 1, 1]               0\n",
            "          Conv2d-139            [-1, 128, 1, 1]         153,600\n",
            "      Conv2dRelu-140            [-1, 128, 1, 1]               0\n",
            "       MaxPool2d-141            [-1, 832, 1, 1]               0\n",
            "          Conv2d-142            [-1, 128, 1, 1]         106,496\n",
            "      Conv2dRelu-143            [-1, 128, 1, 1]               0\n",
            "          Conv2d-144            [-1, 384, 1, 1]         319,488\n",
            "      Conv2dRelu-145            [-1, 384, 1, 1]               0\n",
            " InceptionModule-146           [-1, 1024, 1, 1]               0\n",
            "AdaptiveAvgPool2d-147           [-1, 1024, 1, 1]               0\n",
            "       Dropout2d-148                 [-1, 1024]               0\n",
            "          Linear-149                 [-1, 1000]       1,025,000\n",
            "================================================================\n",
            "Total params: 9,434,488\n",
            "Trainable params: 9,434,488\n",
            "Non-trainable params: 0\n",
            "----------------------------------------------------------------\n",
            "Input size (MB): 0.01\n",
            "Forward/backward pass size (MB): 1.44\n",
            "Params size (MB): 35.99\n",
            "Estimated Total Size (MB): 37.44\n",
            "----------------------------------------------------------------\n"
          ],
          "name": "stdout"
        }
      ]
    },
    {
      "cell_type": "code",
      "metadata": {
        "id": "vQs327QW0Fnd",
        "colab": {
          "base_uri": "https://localhost:8080/"
        },
        "outputId": "d77cc442-78c2-4611-c47c-a26ed2f797af"
      },
      "source": [
        "# Tests del API del curso para el InceptionModule\n",
        "\n",
        "# Obtengamos algunos parametros para probar tu implementación\n",
        "x, n_classes, use_aux_logits = corrector.get_test_data(homework=4, question=\"1b\", test=1, token=token)\n",
        "\n",
        "# Corramos tu implementación de InseptionModule para ver como se comporta\n",
        "with torch.no_grad():\n",
        "  model = GoogLeNet(n_classes=n_classes, use_aux_logits=True)\n",
        "  s = timer()\n",
        "  result = model(torch.tensor(x))\n",
        "  t = timer()-s\n",
        "\n",
        "# Veamos si todo fue OK :)\n",
        "sizes = [result['hidden'].shape[0]] + list(result['logits'].size()) + [d for a in result['aux_logits'] for d in a.size()]\n",
        "corrector.submit(homework=4, question=\"1b\", test=1, token=token, answer=sizes, time=t)"
      ],
      "execution_count": 195,
      "outputs": [
        {
          "output_type": "stream",
          "text": [
            "Using cached test data\n",
            "Correct Test!\n"
          ],
          "name": "stdout"
        }
      ]
    },
    {
      "cell_type": "markdown",
      "metadata": {
        "id": "nwTQpC0eCKp3"
      },
      "source": [
        "## 1c) Arquitectura Convolucional: _____\n",
        "\n"
      ]
    },
    {
      "cell_type": "code",
      "metadata": {
        "id": "HMLkLKGFoTKa",
        "colab": {
          "base_uri": "https://localhost:8080/",
          "height": 128
        },
        "outputId": "0610ed32-a579-470d-e1ec-73ac7fce66a8"
      },
      "source": [
        "# Acá el código para tu primera arquitectura\n",
        "\n",
        "class ...(nn.Module):\n",
        "  def __init__(self, n_classes):\n",
        "    super(..., self).__init__()\n",
        "\n",
        "    # Define las capas de convolución y pooling de tu arquitectura\n",
        "    ...\n",
        "\n",
        "    # Capa de salida (antes de la función de salida)\n",
        "    self.fc_out = nn.Linear(..., n_classes)\n",
        "\n",
        "  def forward(self, x):\n",
        "    # Computa las representaciones internas de la red\n",
        "    ...\n",
        "\n",
        "    # N x out_size\n",
        "    logits = self.fc_out(...)\n",
        "\n",
        "    # En hidden debes devolver alguna de las capas oculta de la red\n",
        "    return {'hidden': ..., 'logits': logits}"
      ],
      "execution_count": 12,
      "outputs": [
        {
          "output_type": "error",
          "ename": "SyntaxError",
          "evalue": "ignored",
          "traceback": [
            "\u001b[0;36m  File \u001b[0;32m\"<ipython-input-12-a24c073de58c>\"\u001b[0;36m, line \u001b[0;32m3\u001b[0m\n\u001b[0;31m    class ...(nn.Module):\u001b[0m\n\u001b[0m            ^\u001b[0m\n\u001b[0;31mSyntaxError\u001b[0m\u001b[0;31m:\u001b[0m invalid syntax\n"
          ]
        }
      ]
    },
    {
      "cell_type": "markdown",
      "metadata": {
        "id": "tE6uDwmJ94-W"
      },
      "source": [
        "## 1d) Clasificación de Imágenes en CIFAR10"
      ]
    },
    {
      "cell_type": "code",
      "metadata": {
        "id": "1InBxxn28TJ4",
        "colab": {
          "base_uri": "https://localhost:8080/"
        },
        "outputId": "5622f3dd-6260-426a-c993-9e4580678142"
      },
      "source": [
        "##############################################################################\n",
        "# Todo este código sirve para descargar, preprocesar y dejar los datos\n",
        "# listos para usar después. Después de ejecutar las celdas tendrás los datos \n",
        "# trainset, trainloader y similar para test.\n",
        "##############################################################################\n",
        "\n",
        "transform = transforms.Compose(\n",
        "    [transforms.ToTensor(),\n",
        "     transforms.Normalize((0.5, 0.5, 0.5), (0.5, 0.5, 0.5))])\n",
        "\n",
        "trainset = torchvision.datasets.CIFAR10(root='./data', train=True,\n",
        "                                        download=True, transform=transform)\n",
        "trainloader = torch.utils.data.DataLoader(trainset, batch_size=4,\n",
        "                                          shuffle=True, num_workers=2)\n",
        "\n",
        "testset = torchvision.datasets.CIFAR10(root='./data', train=False,\n",
        "                                       download=True, transform=transform)\n",
        "testloader = torch.utils.data.DataLoader(testset, batch_size=4,\n",
        "                                         shuffle=False, num_workers=2)\n",
        "\n",
        "classes = ('plane', 'car', 'bird', 'cat',\n",
        "           'deer', 'dog', 'frog', 'horse', 'ship', 'truck')"
      ],
      "execution_count": 191,
      "outputs": [
        {
          "output_type": "stream",
          "text": [
            "Files already downloaded and verified\n",
            "Files already downloaded and verified\n"
          ],
          "name": "stdout"
        }
      ]
    },
    {
      "cell_type": "code",
      "metadata": {
        "id": "ecHwyZa6oxMc",
        "colab": {
          "base_uri": "https://localhost:8080/",
          "height": 657
        },
        "outputId": "49f88e0b-ec5a-470d-ddb4-bc428eff84b3"
      },
      "source": [
        "# Definamos algunos hiper-parámetros\n",
        "BATCH_SIZE = 32\n",
        "LR = 0.001\n",
        "EPOCHS = 5\n",
        "REPORTS_EVERY = 1\n",
        "\n",
        "net =  GoogLeNet(n_classes=10, use_aux_logits=True)# tu modelo de CNN (para clasificar en 10 clases)\n",
        "optimizer = optim.Adam(net.parameters(), lr=LR) # optimizador, e.g., optim.SGD, optim.Adam, ...\n",
        "criterion = nn.CrossEntropyLoss() # función de pérdida\n",
        "scheduler = None # (opcional) optim.lr_scheduler proporciona varios métodos para ajustar el lr según el número de épocas\n",
        "\n",
        "train_loader = DataLoader(trainset, batch_size=BATCH_SIZE,\n",
        "                          shuffle=True, num_workers=2)\n",
        "test_loader = DataLoader(testset, batch_size=4*BATCH_SIZE,\n",
        "                         shuffle=False, num_workers=2)\n",
        "\n",
        "# ipdb.set_trace()\n",
        "# train_loss, acc = train_for_classification(net, train_loader, test_loader, optimizer, criterion)\n",
        "train_loss, acc = train_for_classification(net, train_loader, test_loader, optimizer, criterion, epochs=EPOCHS, reports_every=REPORTS_EVERY)\n",
        "\n",
        "plot_results(train_loss, acc)"
      ],
      "execution_count": 199,
      "outputs": [
        {
          "output_type": "stream",
          "text": [
            "Epoch:1(50000/50000), Loss:1.93504, Train Acc:20.1%, Validating..., Val Acc:20.40%, Avg-Time:55.256s.\n",
            "Epoch:2(50000/50000), Loss:1.60789, Train Acc:34.4%, Validating..., Val Acc:45.16%, Avg-Time:55.776s.\n",
            "Epoch:3(50000/50000), Loss:1.31414, Train Acc:51.9%, Validating..., Val Acc:54.86%, Avg-Time:55.826s.\n",
            "Epoch:4(50000/50000), Loss:1.15762, Train Acc:58.7%, Validating..., Val Acc:59.47%, Avg-Time:55.502s.\n",
            "Epoch:5(50000/50000), Loss:1.04957, Train Acc:63.0%, Validating..., Val Acc:62.24%, Avg-Time:55.657s.\n"
          ],
          "name": "stdout"
        },
        {
          "output_type": "display_data",
          "data": {
            "image/png": "[encoded data removed]",
            "text/plain": [
              "<Figure size 432x288 with 1 Axes>"
            ]
          },
          "metadata": {
            "tags": [],
            "needs_background": "light"
          }
        },
        {
          "output_type": "display_data",
          "data": {
            "image/png": "[encoded data removed]",
            "text/plain": [
              "<Figure size 432x288 with 1 Axes>"
            ]
          },
          "metadata": {
            "tags": [],
            "needs_background": "light"
          }
        }
      ]
    },
    {
      "cell_type": "code",
      "metadata": {
        "id": "QoEdEQnedJMY",
        "colab": {
          "base_uri": "https://localhost:8080/"
        },
        "outputId": "3f20b5d0-9d20-40fa-de89-a727611f2cbe"
      },
      "source": [
        "# Test\n",
        "x, y = list(test_loader)[0]\n",
        "net.cpu()\n",
        "net.eval()\n",
        "y_pred = net(x)['logits'].max(dim=1)[1]\n",
        "\n",
        "# Veamos como se comporta el modelo\n",
        "print(\"Correct Test!\" if (y==y_pred).sum()/len(x) >= .75 else \"Failed Test! [acc]\")"
      ],
      "execution_count": 200,
      "outputs": [
        {
          "output_type": "stream",
          "text": [
            "Failed Test! [acc]\n"
          ],
          "name": "stdout"
        }
      ]
    },
    {
      "cell_type": "markdown",
      "metadata": {
        "id": "kmALm7EtpFow"
      },
      "source": [
        "## 1e) Opcional: CIFAR100"
      ]
    },
    {
      "cell_type": "code",
      "metadata": {
        "id": "prIQA-PjpqV7"
      },
      "source": [
        "##############################################################################\n",
        "# Toda esta parte es similar a la anterior pero para CIFAR100.\n",
        "##############################################################################\n",
        "\n",
        "transform = transforms.Compose(\n",
        "    [transforms.ToTensor(),\n",
        "     transforms.Normalize((0.5, 0.5, 0.5), (0.5, 0.5, 0.5))])\n",
        "\n",
        "trainset = torchvision.datasets.CIFAR100(root='./data/cifar100', train=True,\n",
        "                                         download=True, transform=transform)\n",
        "\n",
        "testset = torchvision.datasets.CIFAR100(root='./data/cifar100', train=False,\n",
        "                                        download=True, transform=transform)"
      ],
      "execution_count": null,
      "outputs": []
    },
    {
      "cell_type": "code",
      "metadata": {
        "id": "lDSB4v2x8T3k"
      },
      "source": [
        "# Definamos algunos hiper-parámetros\n",
        "BATCH_SIZE = ...\n",
        "LR = ...\n",
        "EPOCHS = ...\n",
        "REPORTS_EVERY = 1\n",
        "\n",
        "net = ... # tu modelo de CNN (para clasificar en 100 clases)\n",
        "optimizer = ... # optimizador, e.g., optim.SGD, optim.Adam, ...\n",
        "criterion = nn.CrossEntropyLoss() # función de pérdida\n",
        "scheduler = ... # (opcional) optim.lr_scheduler proporciona varios métodos para ajustar el lr según el número de épocas\n",
        "\n",
        "train_loader = DataLoader(trainset, batch_size=BATCH_SIZE,\n",
        "                          shuffle=True, num_workers=2)\n",
        "test_loader = DataLoader(testset, batch_size=4*BATCH_SIZE,\n",
        "                         shuffle=False, num_workers=2)\n",
        "\n",
        "train_loss, acc = train_for_classification(net, train_loader, \n",
        "                                           test_loader, optimizer, \n",
        "                                           criterion, lr_scheduler=scheduler, \n",
        "                                           epochs=EPOCHS, reports_every=REPORTS_EVERY)\n",
        "\n",
        "plot_results(train_loss, acc)"
      ],
      "execution_count": null,
      "outputs": []
    },
    {
      "cell_type": "markdown",
      "metadata": {
        "id": "QRNeU6di3NzC"
      },
      "source": [
        "# Parte 2: Subtitulado de Imágenes mediante Recuperación de Textos"
      ]
    },
    {
      "cell_type": "markdown",
      "metadata": {
        "id": "twAZ0BtioCT0"
      },
      "source": [
        "## 2a) Codificación de Imágenes y Textos"
      ]
    },
    {
      "cell_type": "code",
      "metadata": {
        "id": "W9zd0b1MyAG8"
      },
      "source": [
        "class ImageEncoding(nn.Module):\n",
        "  def __init__(self, cnn_model, cnn_out_size, out_size=128):\n",
        "    super(ImageEncoding, self).__init__()\n",
        "    self.cnn_model = cnn_model\n",
        "\n",
        "    # Defina las capas de su MLP\n",
        "    # Hints: no usar más de 3 capas\n",
        "    #        incorpora alguna técnica de regularización que ya conoces\n",
        "    ...\n",
        "\n",
        "  def forward(self, x):\n",
        "    x = self.cnn_model(x)['hidden']\n",
        "\n",
        "    # Compute las capas de su MLP\n",
        "    ...\n",
        "\n",
        "    # En fc_out debe almacenar el encoding en R^d\n",
        "    return {'logits': ...}"
      ],
      "execution_count": null,
      "outputs": []
    },
    {
      "cell_type": "code",
      "metadata": {
        "id": "UQ7NXhVY0xFr"
      },
      "source": [
        "class TextEncoding(nn.Module):\n",
        "  def __init__(self, text_embedding_size=4096, out_size=128):\n",
        "    super(TextEncoding, self).__init__()\n",
        "\n",
        "    # Defina las capas de su MLP\n",
        "    # Hints: no usar más de 3 capas\n",
        "    #        incorpora alguna técnica de regularización que ya conoces\n",
        "    ...\n",
        "\n",
        "    self.use_last_bn = use_last_bn\n",
        "    if use_last_bn:\n",
        "      self.bn = nn.BatchNorm1d(out_size)\n",
        "\n",
        "  def forward(self, x):\n",
        "    # Compute las capas de su MLP\n",
        "    ...\n",
        "\n",
        "    # En logits debe almacenar el encoding en R^d\n",
        "    return {'logits': ...}"
      ],
      "execution_count": null,
      "outputs": []
    },
    {
      "cell_type": "code",
      "metadata": {
        "id": "08sa7MG4c-GD"
      },
      "source": [
        "# Test\n",
        "OUT_SIZE = 200\n",
        "\n",
        "cnn_net = GoogLeNet()\n",
        "i_enc = ImageEncoding(cnn_model=cnn_net, cnn_out_size=1024, out_size=OUT_SIZE)\n",
        "t_enc = TextEncoding(text_embedding_size=4096, out_size=OUT_SIZE)\n",
        "i_enc.eval()\n",
        "t_enc.eval()\n",
        "\n",
        "# Veamos como se comportan tus encoders\n",
        "print(\"Correct Test!\" if (i_enc(torch.randn(9,3,32,32))['logits'].size()==t_enc(torch.randn(9,4096))['logits'].size()) else \"Failed Test [size]\")\n",
        "print(\"Correct Test!\" if (i_enc(torch.randn(9,3,32,32))['logits'].size(-1)==OUT_SIZE) else \"Failed Test [size]\")"
      ],
      "execution_count": null,
      "outputs": []
    },
    {
      "cell_type": "markdown",
      "metadata": {
        "id": "yR8AqpDi3ZJL"
      },
      "source": [
        "## 2b) Buenas codificaciones y la *Triplet Loss*"
      ]
    },
    {
      "cell_type": "code",
      "metadata": {
        "id": "fv0oqLTwv68U"
      },
      "source": [
        "class TripletLoss(nn.Module):\n",
        "  def __init__(self, margin=.2, negative='max'):\n",
        "    super(TripletLoss, self).__init__()\n",
        "    self.margin = margin\n",
        "    self.negative = negative\n",
        "\n",
        "  def forward(self, anchor, positive):\n",
        "    # Posiblemente lo más simple es partir calculando la distancia Euclideana\n",
        "    # entre las imagenes ancla y todos los pares (B x B) de representaciones\n",
        "    # de textos (hint: usa torch.cdist)\n",
        "    dists = ...\n",
        "\n",
        "    # Obtener distancias \"positivas\" de la diagonal\n",
        "    p_dists = ...\n",
        "\n",
        "    # Ahora genera un tensor con todos los costos que se deben agregar\n",
        "    # dependiendo de la forma de encontrar los negativos\n",
        "    if self.negative == 'max':\n",
        "      cost = ...\n",
        "    elif self.negative == 'random':\n",
        "      cost = ...\n",
        "    elif self.negative == 'all':\n",
        "      cost = ...\n",
        "    else:\n",
        "      raise ValueError()\n",
        "    \n",
        "    # Retorna el promedio de los costos de todos los triples considerados\n",
        "    return ..."
      ],
      "execution_count": null,
      "outputs": []
    },
    {
      "cell_type": "code",
      "metadata": {
        "id": "9HKUFhf70nbd"
      },
      "source": [
        "# Tests del API del curso para TripletLoss\n",
        "\n",
        "# Obtengamos algunos parametros para probar tu implementación\n",
        "for test in [1,2]:\n",
        "  a, p, m, n  = corrector.get_test_data(homework=4, question=\"2b\", test=test, token=token)\n",
        "\n",
        "  criterion = TripletLoss(margin=m, negative=n)\n",
        "  result = criterion(torch.tensor(a), torch.tensor(p)).item()\n",
        "\n",
        "  # Veamos si todo fue OK :)\n",
        "  corrector.submit(homework=4, question=\"2b\", test=test, token=token, answer=result, time=0)"
      ],
      "execution_count": null,
      "outputs": []
    },
    {
      "cell_type": "markdown",
      "metadata": {
        "id": "BZcwMyTAwz28"
      },
      "source": [
        "## 2c) Probando tu implementación en Flickr8k"
      ]
    },
    {
      "cell_type": "code",
      "metadata": {
        "id": "4E06OpFAxfuU"
      },
      "source": [
        "##############################################################################\n",
        "# Todo este código sirve para descargar, preprocesar y dejar los datos\n",
        "# listos para usar después. Después de ejecutar las dos celdas siguientes\n",
        "# tendrás los datos en train_flickr_tripletset y similar para val y test\n",
        "##############################################################################\n",
        "\n",
        "folder_path = './data/flickr8k'\n",
        "if not os.path.exists(f'{folder_path}/images'):\n",
        "  print('\\n*** Descargando y extrayendo Flickr8k, siéntese y relájese 4 mins...')\n",
        "  print('****** Descargando las imágenes...\\n')\n",
        "  !wget https://s06.imfd.cl/04/CC6204/tareas/tarea4/Flickr8k_Dataset.zip -P $folder_path/images\n",
        "  print('\\n********* Extrayendo las imágenes...\\n  Si te sale mensaje de colab, dale Ignorar\\n')\n",
        "  !unzip -q $folder_path/images/Flickr8k_Dataset.zip -d $folder_path/images\n",
        "  print('\\n*** Descargando y anotaciones de la imágenes...\\n')\n",
        "  !wget http://hockenmaier.cs.illinois.edu/8k-pictures.html -P $folder_path/annotations\n",
        "\n",
        "transform=transforms.Compose([transforms.ToTensor(), \n",
        "                              transforms.Resize((32, 32)),\n",
        "                              transforms.Normalize((0.5, 0.5, 0.5), (0.5, 0.5, 0.5))])\n",
        "\n",
        "print('Inicializando pytorch Flickr8k dataset')\n",
        "full_flickr_set = torchvision.datasets.Flickr8k(root=f'{folder_path}/images/Flicker8k_Dataset',\n",
        "                                                ann_file = f'{folder_path}/annotations/8k-pictures.html',\n",
        "                                                transform=transform)\n",
        "print('Creando train, val y test splits...')\n",
        "\n",
        "train_flickr_set, val_flickr_set, test_flickr_set = [], [], []\n",
        "for i, item in enumerate(full_flickr_set):\n",
        "  if i<6000:\n",
        "    train_flickr_set.append(item)\n",
        "  elif i<7000:\n",
        "    val_flickr_set.append(item)\n",
        "  else:\n",
        "    test_flickr_set.append(item)"
      ],
      "execution_count": null,
      "outputs": []
    },
    {
      "cell_type": "code",
      "metadata": {
        "id": "iTY5bha_xgCj"
      },
      "source": [
        "##############################################################################\n",
        "# Descarguemos representaciones de los textos de 4096 dimensiones\n",
        "##############################################################################\n",
        "if not os.path.exists(f'{folder_path}/flickr_cap_encodings_4096d.pkl'):\n",
        "  !wget https://s06.imfd.cl/04/CC6204/tareas/tarea4/flickr_cap_encodings_4096d.pkl -P $folder_path\n",
        "\n",
        "with open(f'{folder_path}/flickr_cap_encodings_4096d.pkl', 'rb') as f:\n",
        "  train_cap_encs, val_cap_encs, test_cap_encs = pickle.load(f)\n",
        "\n",
        "# Creamos un dataset para cada uno de los splits con nuestro ImageCaptionDataset\n",
        "train_flickr_tripletset = ImageCaptionDataset(train_flickr_set, train_cap_encs)\n",
        "val_flickr_tripletset = ImageCaptionDataset(val_flickr_set, val_cap_encs)\n",
        "test_flickr_tripletset = ImageCaptionDataset(test_flickr_set, test_cap_encs)\n",
        "\n",
        "##############################################################################\n",
        "# Acá termina el código para preparar los datos\n",
        "##############################################################################"
      ],
      "execution_count": null,
      "outputs": []
    },
    {
      "cell_type": "code",
      "metadata": {
        "id": "THIoPtv-w2QY"
      },
      "source": [
        "##############################################################################\n",
        "# Esta es la parte donde tienes que modificar para poder probar tu \n",
        "# implementación. \n",
        "# En general sólo es necesario que modifiques los lugares con \"...\", pero \n",
        "# eres libre de hacer tus propias implementaciones de todo lo que aparece.\n",
        "##############################################################################\n",
        "\n",
        "BATCH_SIZE = 64\n",
        "LR = 1e-4\n",
        "EPOCHS = ...\n",
        "REPORTS_EVERY = 1\n",
        "CNN_OUT_SIZE = ...\n",
        "EMBEDDING_SIZE = 4096\n",
        "OUT_SIZE = 512\n",
        "MARGIN = .2\n",
        "NEGATIVE = ...\n",
        "\n",
        "cnn_net = ...\n",
        "img_net = ImageEncoding(cnn_model=cnn_net, cnn_out_size=CNN_OUT_SIZE, \n",
        "                        out_size=OUT_SIZE) \n",
        "\n",
        "text_net = TextEncoding(text_embedding_size=EMBEDDING_SIZE, out_size=OUT_SIZE)\n",
        "\n",
        "optimizer = optim.Adam([{'params': ...},  # lista de parametros de img_net\n",
        "                        {'params': ...}],  # lista de parametros de text_net\n",
        "                       lr=LR)\n",
        "criterion = TripletLoss(margin=MARGIN, negative=NEGATIVE)\n",
        "scheduler = ... # (opcional) optim.lr_scheduler proporciona varios métodos \n",
        "                # para ajustar el lr según el número de épocas\n",
        "\n",
        "train_triplets_loader = DataLoader(train_flickr_tripletset, batch_size=BATCH_SIZE,\n",
        "                                   shuffle=True, num_workers=2)\n",
        "val_triplets_loader = DataLoader(val_flickr_tripletset, batch_size=BATCH_SIZE,\n",
        "                                 shuffle=False, num_workers=2)\n",
        "\n",
        "train_loss, meanrr, r10 = train_for_retrieval(img_net, text_net, \n",
        "                                              train_triplets_loader, \n",
        "                                              val_triplets_loader, optimizer, \n",
        "                                              criterion, scheduler, EPOCHS, \n",
        "                                              REPORTS_EVERY, norm=False)\n",
        "\n",
        "plot_results(train_loss, meanrr, 'MRR', r10, 'R@10')"
      ],
      "execution_count": null,
      "outputs": []
    },
    {
      "cell_type": "code",
      "metadata": {
        "id": "9CYP1n6c6_c8"
      },
      "source": [
        "# Test\n",
        "from PIL import Image\n",
        "n_samples = 64\n",
        "\n",
        "# Tomemos n_samples ejemplos del conjunto de test\n",
        "samples = torch.stack([test_flickr_tripletset[i][0] for i in range(n_samples)]).cuda()\n",
        "refs = torch.stack([torch.from_numpy(test_flickr_tripletset[i][1]) for i in range(n_samples)]).cuda()\n",
        "test_caps = [caps[0] for _, caps in test_flickr_set][:n_samples]\n",
        "\n",
        "# Computamos las representaciones en el espacio compartido\n",
        "samples_enc = img_net(samples)['logits']\n",
        "refs_enc = text_net(refs)['logits']\n",
        "\n",
        "# Calculemos las distancias a cada uno de los textos de test y rankeamos\n",
        "dists = torch.cdist(samples_enc.unsqueeze(0), refs_enc.unsqueeze(0), p=2).squeeze(0)\n",
        "ranks = torch.argsort(dists, dim=1)[:,:10]\n",
        "r10 = len([i for i in range(len(ranks)) if len(torch.where(ranks[i,:] == i)[0])]) / len(ranks)\n",
        "\n",
        "# Veamos como se comporta el modelo\n",
        "print(\"Correct Test!\" if r10 >= .25 else \"Failed Test! [R@10]\")\n",
        "\n",
        "# Mostremos las 10 descripciones más cercanas\n",
        "fig, axs = plt.subplots(nrows=n_samples, figsize=(2,n_samples*5))\n",
        "for i in range(n_samples):\n",
        "  axs[i].imshow(Image.open(full_flickr_set.ids[7000+i]))\n",
        "  axs[i].text(600,0,\"EXPECTED:\\n{}: {}\".format(i, test_caps[i]), fontsize=12, fontweight='bold')\n",
        "  axs[i].text(600,750,\"PREDICTED RANK:\\n{}\".format('\\n'.join([f'{j}: {test_caps[j]}' for j in ranks[i]])), fontsize=12)"
      ],
      "execution_count": null,
      "outputs": []
    },
    {
      "cell_type": "markdown",
      "metadata": {
        "id": "PTd9gUB5xwta"
      },
      "source": [
        "## 2d) Opcional: COCO Captions"
      ]
    },
    {
      "cell_type": "code",
      "metadata": {
        "id": "Uf0hHCkKx0Kz"
      },
      "source": [
        "##############################################################################\n",
        "# Toda esta parte es similar a la anterior pero para COCO Captions.\n",
        "##############################################################################\n",
        "\n",
        "folder_path = './data/coco-caps'\n",
        "if not os.path.exists(f'{folder_path}/images/train2014'):\n",
        "  print('\\n*** Descargando y extrayendo COCO Captions, siéntese y relájese unos 20 mins...')\n",
        "  print('****** Descargando training set...\\n')\n",
        "  !wget http://images.cocodataset.org/zips/train2014.zip -P $folder_path/images\n",
        "  print('\\n********* Extrayendo training set...\\n  Si te sale mensaje de colab, dale Ignorar\\n')\n",
        "  !unzip -q $folder_path/images/train2014.zip -d $folder_path/images && rm $folder_path/images/train2014.zip\n",
        "  print('\\n*** Descargando y extrayendo validation set...\\n')\n",
        "  !wget http://images.cocodataset.org/zips/val2014.zip -P $folder_path/images && unzip -q $folder_path/images/val2014.zip -d $folder_path/images && rm $folder_path/images/val2014.zip\n",
        "  # !wget http://images.cocodataset.org/zips/test2014.zip -P $folder_path/images && unzip -q $folder_path/images/test2014.zip -d $folder_path/images && rm $folder_path/images/test2014.zip\n",
        "  print('\\n*** Descargando y anotaciones de la imágenes...\\n')\n",
        "  !wget http://images.cocodataset.org/annotations/annotations_trainval2014.zip -P $folder_path && unzip -q $folder_path/annotations_trainval2014.zip -d $folder_path && rm $folder_path/images/annotations_trainval2014.zip\n",
        "\n",
        "transform=transforms.Compose([transforms.ToTensor(), \n",
        "                              transforms.Resize((32, 32)),\n",
        "                              transforms.Normalize((0.5, 0.5, 0.5), (0.5, 0.5, 0.5))])\n",
        "\n",
        "train_coco_set = torchvision.datasets.CocoCaptions(root=f'{folder_path}/images/train2014',\n",
        "                                                   annFile = f'{folder_path}/annotations/captions_train2014.json',\n",
        "                                                   transform=transform)\n",
        "\n",
        "val_coco_set = torchvision.datasets.CocoCaptions(root=f'{folder_path}/images/val2014',\n",
        "                                                 annFile = f'{folder_path}/annotations/captions_val2014.json',\n",
        "                                                 transform=transform)\n",
        "\n",
        "# test_coco_set = torchvision.datasets.CocoCaptions(root=f'{folder_path}/images/test2014',\n",
        "#                                                   transform=transform)"
      ],
      "execution_count": null,
      "outputs": []
    },
    {
      "cell_type": "code",
      "metadata": {
        "id": "FUZmJrvfJOxs"
      },
      "source": [
        "if not os.path.exists(f'{folder_path}/cap_encodings_512d.pkl'):\n",
        "  !wget https://s06.imfd.cl/04/CC6204/tareas/tarea4/cap_encodings_512d.pkl -P $folder_path\n",
        "\n",
        "with open(f'{folder_path}/cap_encodings_512d.pkl', 'rb') as f:\n",
        "  train_cap_encs, val_cap_encs = pickle.load(f)\n",
        "\n",
        "train_coco_tripletset = ImageCaptionDataset(train_coco_set, train_cap_encs)\n",
        "val_coco_tripletset = ImageCaptionDataset(val_coco_set, val_cap_encs)"
      ],
      "execution_count": null,
      "outputs": []
    },
    {
      "cell_type": "code",
      "metadata": {
        "id": "wXxbiC0bJY6M"
      },
      "source": [
        "BATCH_SIZE = 256\n",
        "LR = 1e-4\n",
        "EPOCHS = 10\n",
        "REPORTS_EVERY = 1\n",
        "CNN_PREV_SIZE = 1024\n",
        "EMBEDDING_SIZE = 512\n",
        "OUT_SIZE = 512\n",
        "MARGIN = .2\n",
        "\n",
        "cnn_net = ...\n",
        "img_net = ImageEncoding(cnn_model=..., cnn_out_size=CNN_PREV_SIZE, \n",
        "                        out_size=OUT_SIZE) \n",
        "\n",
        "text_net = TextEncoding(text_embedding_size=EMBEDDING_SIZE, out_size=OUT_SIZE)\n",
        "\n",
        "optimizer = optim.Adam([{'params': ...},\n",
        "                        {'params': ...}], \n",
        "                       lr=LR)\n",
        "criterion = TripletLoss(margin=...)\n",
        "\n",
        "train_triplets_loader = DataLoader(train_coco_tripletset, batch_size=BATCH_SIZE,\n",
        "                                   shuffle=True, num_workers=2)\n",
        "val_triplets_loader = DataLoader(val_coco_tripletset, batch_size=BATCH_SIZE,\n",
        "                                 shuffle=False, num_workers=2)\n",
        "\n",
        "train_loss, meanrr, r10 = train_for_retrieval(img_net, text_net, \n",
        "                                                     train_triplets_loader, \n",
        "                                                     val_triplets_loader, \n",
        "                                                     optimizer, criterion, \n",
        "                                                     EPOCHS, REPORTS_EVERY, \n",
        "                                                     norm=False)\n",
        "\n",
        "plot_results(train_loss, meanrr, 'MRR', r10, 'R@10')"
      ],
      "execution_count": null,
      "outputs": []
    }
  ]
}